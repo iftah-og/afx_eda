{
 "cells": [
  {
   "cell_type": "markdown",
   "id": "9c07a4f0-7ee2-488b-8bac-29f1bdaff601",
   "metadata": {},
   "source": [
    "#  Exploratory Data Analysis of Aphex Twin's Music Using Spotify Metrics\n",
    "# AKA understanding Spotify Metrics through the Music of Aphex Twin's\n"
   ]
  },
  {
   "cell_type": "markdown",
   "id": "39269547-b62c-49be-b34b-2136683e9bd5",
   "metadata": {},
   "source": [
    "This notebook analyzes Aphex Twin’s music using Spotify’s audio features. It explores various metrics, such as energy, Valence and Danceability, to understand their relationship with track characteristics and popularity.\n",
    "\n",
    "The analysis involves calculating custom \"Bangerness\" and \"Ambientness\" scores to assess track intensity and atmosphere. Additionally, the analysis examines how features such as energy and acousticness correlate with track popularity.\n",
    "\n"
   ]
  },
  {
   "cell_type": "markdown",
   "id": "9f72991c-8abb-4382-a6a8-8e1e1e54ab60",
   "metadata": {},
   "source": [
    "The initial dataset was compiled using Spotify's API, covering all available Aphex Twin tracks and their associated features. [The code used to generate this dataset can be found here](https://github.com/iftah-og/afx_eda/blob/main/spot_to_df.ipynb)."
   ]
  },
  {
   "cell_type": "code",
   "execution_count": 1,
   "id": "de6c8304-0d91-4988-a44a-973cc2585301",
   "metadata": {},
   "outputs": [],
   "source": [
    "# Import necessary stuff\n",
    "import pandas as pd\n",
    "import numpy as np\n",
    "import seaborn as sns\n",
    "import matplotlib.pyplot as plt\n",
    "import plotly.express as px\n",
    "from sklearn.linear_model import LinearRegression\n",
    "from sklearn.metrics import mean_squared_error, r2_score\n",
    "from sklearn.preprocessing import StandardScaler\n",
    "from sklearn.preprocessing import MinMaxScaler\n",
    "from sklearn.impute import SimpleImputer"
   ]
  },
  {
   "cell_type": "code",
   "execution_count": 2,
   "id": "2312ecd6-fa61-40ce-bec0-123fe43a37c1",
   "metadata": {},
   "outputs": [
    {
     "name": "stdout",
     "output_type": "stream",
     "text": [
      "df shape is (118, 18)\n"
     ]
    },
    {
     "data": {
      "text/html": [
       "<div>\n",
       "<style scoped>\n",
       "    .dataframe tbody tr th:only-of-type {\n",
       "        vertical-align: middle;\n",
       "    }\n",
       "\n",
       "    .dataframe tbody tr th {\n",
       "        vertical-align: top;\n",
       "    }\n",
       "\n",
       "    .dataframe thead th {\n",
       "        text-align: right;\n",
       "    }\n",
       "</style>\n",
       "<table border=\"1\" class=\"dataframe\">\n",
       "  <thead>\n",
       "    <tr style=\"text-align: right;\">\n",
       "      <th></th>\n",
       "      <th>Unnamed: 0</th>\n",
       "      <th>Track Name</th>\n",
       "      <th>Album Name</th>\n",
       "      <th>Track ID</th>\n",
       "      <th>Popularity</th>\n",
       "      <th>Tempo (BPM)</th>\n",
       "      <th>Duration (s)</th>\n",
       "      <th>Danceability</th>\n",
       "      <th>Energy</th>\n",
       "      <th>Key</th>\n",
       "      <th>Loudness</th>\n",
       "      <th>Mode</th>\n",
       "      <th>Speechiness</th>\n",
       "      <th>Acousticness</th>\n",
       "      <th>Instrumentalness</th>\n",
       "      <th>Liveness</th>\n",
       "      <th>Valence</th>\n",
       "      <th>Release Date</th>\n",
       "    </tr>\n",
       "  </thead>\n",
       "  <tbody>\n",
       "    <tr>\n",
       "      <th>0</th>\n",
       "      <td>0</td>\n",
       "      <td>Digeridoo - 2022 Remaster</td>\n",
       "      <td>Digeridoo (Expanded Edition)</td>\n",
       "      <td>2Fh8MjqWLFCoiOOHQRfqgq</td>\n",
       "      <td>40</td>\n",
       "      <td>146.092</td>\n",
       "      <td>432.938</td>\n",
       "      <td>0.519</td>\n",
       "      <td>0.977</td>\n",
       "      <td>10</td>\n",
       "      <td>-8.057</td>\n",
       "      <td>0</td>\n",
       "      <td>0.0544</td>\n",
       "      <td>0.774000</td>\n",
       "      <td>0.855</td>\n",
       "      <td>0.114</td>\n",
       "      <td>0.568</td>\n",
       "      <td>2024-05-31</td>\n",
       "    </tr>\n",
       "    <tr>\n",
       "      <th>1</th>\n",
       "      <td>1</td>\n",
       "      <td>Flap Head - 2022 Remaster</td>\n",
       "      <td>Digeridoo (Expanded Edition)</td>\n",
       "      <td>24nMZbhkJNqJ70P1J81ZNx</td>\n",
       "      <td>35</td>\n",
       "      <td>136.244</td>\n",
       "      <td>420.766</td>\n",
       "      <td>0.566</td>\n",
       "      <td>0.995</td>\n",
       "      <td>1</td>\n",
       "      <td>-7.022</td>\n",
       "      <td>1</td>\n",
       "      <td>0.0503</td>\n",
       "      <td>0.151000</td>\n",
       "      <td>0.886</td>\n",
       "      <td>0.399</td>\n",
       "      <td>0.592</td>\n",
       "      <td>2024-05-31</td>\n",
       "    </tr>\n",
       "    <tr>\n",
       "      <th>2</th>\n",
       "      <td>2</td>\n",
       "      <td>Phloam - 2022 Remaster</td>\n",
       "      <td>Digeridoo (Expanded Edition)</td>\n",
       "      <td>2jft0p7lZNXkKksCFHbsKr</td>\n",
       "      <td>32</td>\n",
       "      <td>135.880</td>\n",
       "      <td>333.535</td>\n",
       "      <td>0.525</td>\n",
       "      <td>0.977</td>\n",
       "      <td>10</td>\n",
       "      <td>-8.163</td>\n",
       "      <td>0</td>\n",
       "      <td>0.1310</td>\n",
       "      <td>0.000882</td>\n",
       "      <td>0.440</td>\n",
       "      <td>0.145</td>\n",
       "      <td>0.238</td>\n",
       "      <td>2024-05-31</td>\n",
       "    </tr>\n",
       "    <tr>\n",
       "      <th>3</th>\n",
       "      <td>3</td>\n",
       "      <td>Isoprophlex - 2022 Remaster</td>\n",
       "      <td>Digeridoo (Expanded Edition)</td>\n",
       "      <td>1U3W1jTqreI3YL84sA1eCx</td>\n",
       "      <td>30</td>\n",
       "      <td>135.609</td>\n",
       "      <td>383.964</td>\n",
       "      <td>0.646</td>\n",
       "      <td>0.914</td>\n",
       "      <td>1</td>\n",
       "      <td>-9.003</td>\n",
       "      <td>0</td>\n",
       "      <td>0.0730</td>\n",
       "      <td>0.234000</td>\n",
       "      <td>0.768</td>\n",
       "      <td>0.039</td>\n",
       "      <td>0.339</td>\n",
       "      <td>2024-05-31</td>\n",
       "    </tr>\n",
       "    <tr>\n",
       "      <th>4</th>\n",
       "      <td>4</td>\n",
       "      <td>Digeridoo - Cr7E Version</td>\n",
       "      <td>Digeridoo (Expanded Edition)</td>\n",
       "      <td>2Ujum3PkQL0x3QMnGoJGPf</td>\n",
       "      <td>34</td>\n",
       "      <td>142.844</td>\n",
       "      <td>445.314</td>\n",
       "      <td>0.533</td>\n",
       "      <td>0.972</td>\n",
       "      <td>7</td>\n",
       "      <td>-8.425</td>\n",
       "      <td>1</td>\n",
       "      <td>0.0521</td>\n",
       "      <td>0.765000</td>\n",
       "      <td>0.906</td>\n",
       "      <td>0.123</td>\n",
       "      <td>0.415</td>\n",
       "      <td>2024-05-31</td>\n",
       "    </tr>\n",
       "  </tbody>\n",
       "</table>\n",
       "</div>"
      ],
      "text/plain": [
       "   Unnamed: 0                   Track Name                    Album Name  \\\n",
       "0           0    Digeridoo - 2022 Remaster  Digeridoo (Expanded Edition)   \n",
       "1           1    Flap Head - 2022 Remaster  Digeridoo (Expanded Edition)   \n",
       "2           2       Phloam - 2022 Remaster  Digeridoo (Expanded Edition)   \n",
       "3           3  Isoprophlex - 2022 Remaster  Digeridoo (Expanded Edition)   \n",
       "4           4     Digeridoo - Cr7E Version  Digeridoo (Expanded Edition)   \n",
       "\n",
       "                 Track ID  Popularity  Tempo (BPM)  Duration (s)  \\\n",
       "0  2Fh8MjqWLFCoiOOHQRfqgq          40      146.092       432.938   \n",
       "1  24nMZbhkJNqJ70P1J81ZNx          35      136.244       420.766   \n",
       "2  2jft0p7lZNXkKksCFHbsKr          32      135.880       333.535   \n",
       "3  1U3W1jTqreI3YL84sA1eCx          30      135.609       383.964   \n",
       "4  2Ujum3PkQL0x3QMnGoJGPf          34      142.844       445.314   \n",
       "\n",
       "   Danceability  Energy  Key  Loudness  Mode  Speechiness  Acousticness  \\\n",
       "0         0.519   0.977   10    -8.057     0       0.0544      0.774000   \n",
       "1         0.566   0.995    1    -7.022     1       0.0503      0.151000   \n",
       "2         0.525   0.977   10    -8.163     0       0.1310      0.000882   \n",
       "3         0.646   0.914    1    -9.003     0       0.0730      0.234000   \n",
       "4         0.533   0.972    7    -8.425     1       0.0521      0.765000   \n",
       "\n",
       "   Instrumentalness  Liveness  Valence Release Date  \n",
       "0             0.855     0.114    0.568   2024-05-31  \n",
       "1             0.886     0.399    0.592   2024-05-31  \n",
       "2             0.440     0.145    0.238   2024-05-31  \n",
       "3             0.768     0.039    0.339   2024-05-31  \n",
       "4             0.906     0.123    0.415   2024-05-31  "
      ]
     },
     "execution_count": 2,
     "metadata": {},
     "output_type": "execute_result"
    }
   ],
   "source": [
    "# Load the dataset from the specified URL \n",
    "url = 'https://raw.githubusercontent.com/iftah-og/afx_eda/main/afx_c.csv'\n",
    "df = pd.read_csv(url)\n",
    "print('df shape is', df.shape)\n",
    "df.head()\n"
   ]
  },
  {
   "cell_type": "markdown",
   "id": "887e6443-c010-41a3-a575-509a7a155548",
   "metadata": {},
   "source": [
    "## Danceability: is the sole presence of drums enough?\n",
    "\n",
    "The first thing I wanted to explore was how \"Danceability\" translates into real-life listening. According to spotify, *\"Danceability describes how suitable a track is for dancing based on a combination of musical elements including tempo, rhythm stability, beat strength, and overall regularity. A value of 0.0 is least danceable and 1.0 is most danceable.\"* I sorted the data frame to highlight the most danceable tracks according to Spotify's metrics, and the results were surprising. For instance, I've always appreciated the eerie vibe of **[#8](https://www.youtube.com/watch?v=EBT7KU-WHco)**, but is it really the most danceable track? While danceability is subjective, most people i know wouldn't rank it anywhere near the top. As the initial description suggests, Spotify calculates \"Danceability\" based on the repetition of patterns throughout a track—and if you know the track in question, you're familiar with the relentless short analog drum loop that never stop. The next track on the list, **[Cow Cud Is A Twin](https://www.youtube.com/watch?v=yETFMyqxR2I)** further supports this idea. Just listen to it — again, there's a repetitive drum loop running throughout the entire track\n",
    "But does the presence of a drum beat alone make a piece of music genuinely danceable? "
   ]
  },
  {
   "cell_type": "code",
   "execution_count": 3,
   "id": "5ea23064-3435-465d-8a3f-3829118ed7f6",
   "metadata": {},
   "outputs": [
    {
     "data": {
      "text/html": [
       "<div>\n",
       "<style scoped>\n",
       "    .dataframe tbody tr th:only-of-type {\n",
       "        vertical-align: middle;\n",
       "    }\n",
       "\n",
       "    .dataframe tbody tr th {\n",
       "        vertical-align: top;\n",
       "    }\n",
       "\n",
       "    .dataframe thead th {\n",
       "        text-align: right;\n",
       "    }\n",
       "</style>\n",
       "<table border=\"1\" class=\"dataframe\">\n",
       "  <thead>\n",
       "    <tr style=\"text-align: right;\">\n",
       "      <th></th>\n",
       "      <th>Album Name</th>\n",
       "      <th>Track Name</th>\n",
       "      <th>Danceability</th>\n",
       "      <th>Tempo (BPM)</th>\n",
       "    </tr>\n",
       "  </thead>\n",
       "  <tbody>\n",
       "    <tr>\n",
       "      <th>88</th>\n",
       "      <td>Selected Ambient Works Volume II</td>\n",
       "      <td>#8</td>\n",
       "      <td>0.942</td>\n",
       "      <td>112.947</td>\n",
       "    </tr>\n",
       "    <tr>\n",
       "      <th>79</th>\n",
       "      <td>...I Care Because You Do</td>\n",
       "      <td>Cow Cud Is A Twin</td>\n",
       "      <td>0.851</td>\n",
       "      <td>79.002</td>\n",
       "    </tr>\n",
       "    <tr>\n",
       "      <th>14</th>\n",
       "      <td>Syro</td>\n",
       "      <td>180db_ [130]</td>\n",
       "      <td>0.828</td>\n",
       "      <td>130.064</td>\n",
       "    </tr>\n",
       "    <tr>\n",
       "      <th>24</th>\n",
       "      <td>Drukqs</td>\n",
       "      <td>Kladfvgbung Mischk</td>\n",
       "      <td>0.816</td>\n",
       "      <td>129.984</td>\n",
       "    </tr>\n",
       "    <tr>\n",
       "      <th>12</th>\n",
       "      <td>Syro</td>\n",
       "      <td>produk 29 [101]</td>\n",
       "      <td>0.815</td>\n",
       "      <td>101.005</td>\n",
       "    </tr>\n",
       "  </tbody>\n",
       "</table>\n",
       "</div>"
      ],
      "text/plain": [
       "                          Album Name          Track Name  Danceability  \\\n",
       "88  Selected Ambient Works Volume II                  #8         0.942   \n",
       "79          ...I Care Because You Do   Cow Cud Is A Twin         0.851   \n",
       "14                              Syro        180db_ [130]         0.828   \n",
       "24                            Drukqs  Kladfvgbung Mischk         0.816   \n",
       "12                              Syro     produk 29 [101]         0.815   \n",
       "\n",
       "    Tempo (BPM)  \n",
       "88      112.947  \n",
       "79       79.002  \n",
       "14      130.064  \n",
       "24      129.984  \n",
       "12      101.005  "
      ]
     },
     "execution_count": 3,
     "metadata": {},
     "output_type": "execute_result"
    }
   ],
   "source": [
    "df_dance_pos = df.sort_values(['Danceability'], ascending=False).head()\n",
    "df_dance_pos [['Album Name', 'Track Name', 'Danceability', 'Tempo (BPM)']]"
   ]
  },
  {
   "cell_type": "markdown",
   "id": "7fb595f5-50ca-4fcc-a883-f88e5892fd49",
   "metadata": {},
   "source": [
    "however, Danceability seems to do a good job on the other side of the spectrum, tracks with extreme low Danceability are rather on the ambient side."
   ]
  },
  {
   "cell_type": "code",
   "execution_count": 4,
   "id": "82a6bb2b-12a2-4d64-8e52-44a3fbe50bf8",
   "metadata": {},
   "outputs": [
    {
     "data": {
      "text/html": [
       "<div>\n",
       "<style scoped>\n",
       "    .dataframe tbody tr th:only-of-type {\n",
       "        vertical-align: middle;\n",
       "    }\n",
       "\n",
       "    .dataframe tbody tr th {\n",
       "        vertical-align: top;\n",
       "    }\n",
       "\n",
       "    .dataframe thead th {\n",
       "        text-align: right;\n",
       "    }\n",
       "</style>\n",
       "<table border=\"1\" class=\"dataframe\">\n",
       "  <thead>\n",
       "    <tr style=\"text-align: right;\">\n",
       "      <th></th>\n",
       "      <th>Album Name</th>\n",
       "      <th>Track Name</th>\n",
       "      <th>Danceability</th>\n",
       "      <th>Tempo (BPM)</th>\n",
       "    </tr>\n",
       "  </thead>\n",
       "  <tbody>\n",
       "    <tr>\n",
       "      <th>102</th>\n",
       "      <td>Selected Ambient Works Volume II</td>\n",
       "      <td>#22</td>\n",
       "      <td>0.064</td>\n",
       "      <td>76.311</td>\n",
       "    </tr>\n",
       "    <tr>\n",
       "      <th>90</th>\n",
       "      <td>Selected Ambient Works Volume II</td>\n",
       "      <td>#10</td>\n",
       "      <td>0.105</td>\n",
       "      <td>66.738</td>\n",
       "    </tr>\n",
       "    <tr>\n",
       "      <th>100</th>\n",
       "      <td>Selected Ambient Works Volume II</td>\n",
       "      <td>#20</td>\n",
       "      <td>0.108</td>\n",
       "      <td>69.511</td>\n",
       "    </tr>\n",
       "    <tr>\n",
       "      <th>80</th>\n",
       "      <td>...I Care Because You Do</td>\n",
       "      <td>Next Heap With</td>\n",
       "      <td>0.109</td>\n",
       "      <td>76.229</td>\n",
       "    </tr>\n",
       "    <tr>\n",
       "      <th>94</th>\n",
       "      <td>Selected Ambient Works Volume II</td>\n",
       "      <td>#14</td>\n",
       "      <td>0.124</td>\n",
       "      <td>153.964</td>\n",
       "    </tr>\n",
       "  </tbody>\n",
       "</table>\n",
       "</div>"
      ],
      "text/plain": [
       "                           Album Name      Track Name  Danceability  \\\n",
       "102  Selected Ambient Works Volume II             #22         0.064   \n",
       "90   Selected Ambient Works Volume II             #10         0.105   \n",
       "100  Selected Ambient Works Volume II             #20         0.108   \n",
       "80           ...I Care Because You Do  Next Heap With         0.109   \n",
       "94   Selected Ambient Works Volume II             #14         0.124   \n",
       "\n",
       "     Tempo (BPM)  \n",
       "102       76.311  \n",
       "90        66.738  \n",
       "100       69.511  \n",
       "80        76.229  \n",
       "94       153.964  "
      ]
     },
     "execution_count": 4,
     "metadata": {},
     "output_type": "execute_result"
    }
   ],
   "source": [
    "df_dance_neg = df.sort_values(['Danceability'], ascending=True).head()\n",
    "df_dance_neg [['Album Name', 'Track Name', 'Danceability', 'Tempo (BPM)']]"
   ]
  },
  {
   "cell_type": "markdown",
   "id": "af9851e3-97a6-4a0d-8b49-afe3c5dd34cf",
   "metadata": {},
   "source": [
    "## How about the Energy?\n",
    "Next, I wanted to explore the \"Energy\" metric. Spotify tells us that it is \"*a measure from 0.0 to 1.0 and is comprised from dynamic range, perceived loudness, timbre, onset rate, and general entropy.\"* Here, too, the results were a bit mixed. For instance, **[Hedphelym](https://www.youtube.com/watch?v=ztKgEnidFUA)** from **Selected Ambient Works 85-92** is a track I really love, and while it does have a certain level of energy, I would personally categorize it more on the ambient side."
   ]
  },
  {
   "cell_type": "code",
   "execution_count": 5,
   "id": "b8e3721d-e8bf-4720-9605-0cf3419d05a8",
   "metadata": {},
   "outputs": [
    {
     "data": {
      "text/html": [
       "<div>\n",
       "<style scoped>\n",
       "    .dataframe tbody tr th:only-of-type {\n",
       "        vertical-align: middle;\n",
       "    }\n",
       "\n",
       "    .dataframe tbody tr th {\n",
       "        vertical-align: top;\n",
       "    }\n",
       "\n",
       "    .dataframe thead th {\n",
       "        text-align: right;\n",
       "    }\n",
       "</style>\n",
       "<table border=\"1\" class=\"dataframe\">\n",
       "  <thead>\n",
       "    <tr style=\"text-align: right;\">\n",
       "      <th></th>\n",
       "      <th>Album Name</th>\n",
       "      <th>Track Name</th>\n",
       "      <th>Energy</th>\n",
       "      <th>Tempo (BPM)</th>\n",
       "    </tr>\n",
       "  </thead>\n",
       "  <tbody>\n",
       "    <tr>\n",
       "      <th>115</th>\n",
       "      <td>Selected Ambient Works 85-92</td>\n",
       "      <td>Hedphelym</td>\n",
       "      <td>0.999</td>\n",
       "      <td>124.915</td>\n",
       "    </tr>\n",
       "    <tr>\n",
       "      <th>63</th>\n",
       "      <td>Richard D. James Album</td>\n",
       "      <td>Carn Marth</td>\n",
       "      <td>0.997</td>\n",
       "      <td>166.895</td>\n",
       "    </tr>\n",
       "    <tr>\n",
       "      <th>1</th>\n",
       "      <td>Digeridoo (Expanded Edition)</td>\n",
       "      <td>Flap Head - 2022 Remaster</td>\n",
       "      <td>0.995</td>\n",
       "      <td>136.244</td>\n",
       "    </tr>\n",
       "    <tr>\n",
       "      <th>74</th>\n",
       "      <td>...I Care Because You Do</td>\n",
       "      <td>Come On You Slags</td>\n",
       "      <td>0.995</td>\n",
       "      <td>89.614</td>\n",
       "    </tr>\n",
       "    <tr>\n",
       "      <th>9</th>\n",
       "      <td>Digeridoo (Expanded Edition)</td>\n",
       "      <td>Flap Head - Cr7E Version</td>\n",
       "      <td>0.994</td>\n",
       "      <td>121.014</td>\n",
       "    </tr>\n",
       "  </tbody>\n",
       "</table>\n",
       "</div>"
      ],
      "text/plain": [
       "                       Album Name                 Track Name  Energy  \\\n",
       "115  Selected Ambient Works 85-92                  Hedphelym   0.999   \n",
       "63         Richard D. James Album                 Carn Marth   0.997   \n",
       "1    Digeridoo (Expanded Edition)  Flap Head - 2022 Remaster   0.995   \n",
       "74       ...I Care Because You Do          Come On You Slags   0.995   \n",
       "9    Digeridoo (Expanded Edition)   Flap Head - Cr7E Version   0.994   \n",
       "\n",
       "     Tempo (BPM)  \n",
       "115      124.915  \n",
       "63       166.895  \n",
       "1        136.244  \n",
       "74        89.614  \n",
       "9        121.014  "
      ]
     },
     "execution_count": 5,
     "metadata": {},
     "output_type": "execute_result"
    }
   ],
   "source": [
    "df_energy = df.sort_values(['Energy'], ascending=False).head()\n",
    "df_energy[['Album Name', 'Track Name', 'Energy', 'Tempo (BPM)']]"
   ]
  },
  {
   "cell_type": "markdown",
   "id": "fef5366d-abe6-4d5e-b629-fd48c867eaeb",
   "metadata": {},
   "source": [
    "## Valence: Unexpected Positivity\n",
    "Spotify's \"Valence\" metric measures how positive or happy a track sounds, with scores ranging from 0.0 to 1.0. Lower scores supposedly mean the track sounds sad or angry, while higher scores mean it sounds happy or cheerful.\n",
    "The results for valence are interesting. I get why **[Funny Little Man](https://www.youtube.com/watch?v=aM5ThfUyjEQ)** scores high—it’s weird and fun—but it’s surprising to see **[Bbydhyonchord](https://www.youtube.com/watch?v=IYKajhHfL4Q)** next, as I've always found it more introspective and pensive."
   ]
  },
  {
   "cell_type": "code",
   "execution_count": 6,
   "id": "290e6cbd-9a8a-4348-90d7-e04616180430",
   "metadata": {},
   "outputs": [
    {
     "data": {
      "text/html": [
       "<div>\n",
       "<style scoped>\n",
       "    .dataframe tbody tr th:only-of-type {\n",
       "        vertical-align: middle;\n",
       "    }\n",
       "\n",
       "    .dataframe tbody tr th {\n",
       "        vertical-align: top;\n",
       "    }\n",
       "\n",
       "    .dataframe thead th {\n",
       "        text-align: right;\n",
       "    }\n",
       "</style>\n",
       "<table border=\"1\" class=\"dataframe\">\n",
       "  <thead>\n",
       "    <tr style=\"text-align: right;\">\n",
       "      <th></th>\n",
       "      <th>Album Name</th>\n",
       "      <th>Track Name</th>\n",
       "      <th>Valence</th>\n",
       "      <th>Tempo (BPM)</th>\n",
       "    </tr>\n",
       "  </thead>\n",
       "  <tbody>\n",
       "    <tr>\n",
       "      <th>56</th>\n",
       "      <td>Come To Daddy</td>\n",
       "      <td>Funny Little Man</td>\n",
       "      <td>0.886</td>\n",
       "      <td>132.953</td>\n",
       "    </tr>\n",
       "    <tr>\n",
       "      <th>28</th>\n",
       "      <td>Drukqs</td>\n",
       "      <td>Bbydhyonchord</td>\n",
       "      <td>0.883</td>\n",
       "      <td>122.973</td>\n",
       "    </tr>\n",
       "    <tr>\n",
       "      <th>69</th>\n",
       "      <td>...I Care Because You Do</td>\n",
       "      <td>Acrid Avid Jam Shred</td>\n",
       "      <td>0.796</td>\n",
       "      <td>80.938</td>\n",
       "    </tr>\n",
       "    <tr>\n",
       "      <th>62</th>\n",
       "      <td>Richard D. James Album</td>\n",
       "      <td>Fingerbib</td>\n",
       "      <td>0.787</td>\n",
       "      <td>131.910</td>\n",
       "    </tr>\n",
       "    <tr>\n",
       "      <th>20</th>\n",
       "      <td>Syro</td>\n",
       "      <td>s950tx16wasr10 [163.97][earth portal mix]</td>\n",
       "      <td>0.743</td>\n",
       "      <td>163.990</td>\n",
       "    </tr>\n",
       "  </tbody>\n",
       "</table>\n",
       "</div>"
      ],
      "text/plain": [
       "                  Album Name                                 Track Name  \\\n",
       "56             Come To Daddy                           Funny Little Man   \n",
       "28                    Drukqs                              Bbydhyonchord   \n",
       "69  ...I Care Because You Do                       Acrid Avid Jam Shred   \n",
       "62    Richard D. James Album                                  Fingerbib   \n",
       "20                      Syro  s950tx16wasr10 [163.97][earth portal mix]   \n",
       "\n",
       "    Valence  Tempo (BPM)  \n",
       "56    0.886      132.953  \n",
       "28    0.883      122.973  \n",
       "69    0.796       80.938  \n",
       "62    0.787      131.910  \n",
       "20    0.743      163.990  "
      ]
     },
     "execution_count": 6,
     "metadata": {},
     "output_type": "execute_result"
    }
   ],
   "source": [
    "df_valence = df.sort_values(['Valence'], ascending=False).head()\n",
    "df_valence[['Album Name', 'Track Name', 'Valence', 'Tempo (BPM)']] "
   ]
  },
  {
   "cell_type": "markdown",
   "id": "10b68a2c-6589-4b53-b0fa-a2aa58f117ca",
   "metadata": {},
   "source": [
    "# Feature Engineering\n",
    "The initial metrics provided were somewhat useful but didn't fully capture the characteristics I was interested in. To address this, I decided to create two new features.\n",
    "\n",
    "**Bangerness** should measures how likely a track is to be banging in  a club setting, focusing on high energy and strong beats. It aims to identify tracks that are particularly suited for a intensive, dance-focused environment.\n",
    "\n",
    "**Ambientness** should evaluates how soothing and ambient a track is. It considers factors like low energy and high acousticness to determine how calming and atmospheric a track might be."
   ]
  },
  {
   "cell_type": "markdown",
   "id": "a4aeebc2-e367-40d4-b0fd-f79025901348",
   "metadata": {},
   "source": [
    "## Exploring correlation with a heatmap\n",
    "\n",
    "I started with a heatmap to uncover relationships between track features. This approach reveals correlations between aspects like valence and danceability, which is essential for feature engineering. Knowing these relationships helps in selecting and combining features effectively to capture the music's characteristics.\n"
   ]
  },
  {
   "cell_type": "code",
   "execution_count": 7,
   "id": "a36df00d-193e-4549-8d3b-5eb674b246bd",
   "metadata": {},
   "outputs": [
    {
     "data": {
      "image/png": "[encoded data removed]",
      "text/plain": [
       "<Figure size 1000x800 with 2 Axes>"
      ]
     },
     "metadata": {},
     "output_type": "display_data"
    }
   ],
   "source": [
    "# Convert 'Release Date' to datetime format\n",
    "df['Release Date'] = pd.to_datetime(df['Release Date'], format='%Y-%m-%d', errors='coerce')\n",
    "\n",
    "# Extract the year from 'Release Date'\n",
    "df['Release Year'] = df['Release Date'].dt.year\n",
    "\n",
    "# Define the list of numeric columns, including the new 'Release Year'\n",
    "numeric_cols = ['Tempo (BPM)', 'Duration (s)', 'Danceability', 'Energy', \n",
    "                'Key', 'Loudness', 'Mode', 'Speechiness', 'Acousticness', \n",
    "                'Instrumentalness', 'Liveness', 'Valence', 'Popularity', 'Release Year']\n",
    "\n",
    "# Ensure these columns are numeric\n",
    "df[numeric_cols] = df[numeric_cols].apply(pd.to_numeric, errors='coerce')\n",
    "\n",
    "# Set the style of the visualization\n",
    "sns.set(style='white')\n",
    "\n",
    "# Compute the correlation matrix\n",
    "corr_matrix = df[numeric_cols].corr()\n",
    "\n",
    "# Create the heatmap\n",
    "plt.figure(figsize=(10, 8))\n",
    "sns.heatmap(corr_matrix, annot=True, cmap='coolwarm', fmt='.2f', \n",
    "            linewidths=0.5, cbar_kws={\"shrink\": .75})\n",
    "\n",
    "# Add titles and labels\n",
    "plt.title('Correlation Heatmap of Track Features', fontsize=16)\n",
    "plt.xticks(rotation=45)\n",
    "plt.yticks(rotation=0)\n",
    "plt.tight_layout()\n",
    "\n",
    "# Show the plot\n",
    "plt.show()\n"
   ]
  },
  {
   "cell_type": "markdown",
   "id": "db086de3-4263-4865-9448-a586016e7a8f",
   "metadata": {},
   "source": [
    "As we can see in the heatmap above, certain patterns immediately stand out. For example, there is a very strong relationship between loudness and energy (which is not surprising, as Spotify indicates that loudness is one of the features used to measure energy), as well as between valence and danceability. Additionally, there is a very strong negative relationship between energy, acousticness, and loudness.\n",
    "\n",
    "What also stands out is the moderate correlation between release year and loudness. There are two reasons for this: firstly, releases after 2014 tend to be less ambient, and secondly, if you have been in the audio world for a while, you might be familiar with the term \"The loudness war.\"\n",
    "\n",
    "The plot below shows a clear trend. We need to factor this in when calculating \"Bangerness\" to ensure our results reflect the data correctly. Since loudness is used to calculate energy, this could make newer releases seem more \"banging."
   ]
  },
  {
   "cell_type": "code",
   "execution_count": 28,
   "id": "56d7f33e-d14f-4174-b96e-bce84ddfcb78",
   "metadata": {},
   "outputs": [
    {
     "data": {
      "application/vnd.plotly.v1+json": {
       "config": {
        "plotlyServerURL": "https://plot.ly"
       },
       "data": [
        {
         "hovertemplate": "<b>%{hovertext}</b><br><br>Release Year=%{x}<br>Loudness=%{y}<extra></extra>",
         "hovertext": [
          "Digeridoo - 2022 Remaster",
          "Flap Head - 2022 Remaster",
          "Phloam - 2022 Remaster",
          "Isoprophlex - 2022 Remaster",
          "Digeridoo - Cr7E Version",
          "Digeridoo - Cr7E Version, Live In Cornwall",
          "Isoprophlex (Slow) - Cr7E Version",
          "Phloam - Cr7E Version",
          "Isoprophlex - Cr7E Version",
          "Flap Head - Cr7E Version",
          "minipops 67 [120.2][source field mix]",
          "XMAS_EVET10 [120][thanaton3 mix]",
          "produk 29 [101]",
          "4 bit 9d api+e+6 [126.26]",
          "180db_ [130]",
          "CIRCLONT6A [141.98][syrobonkus mix]",
          "fz pseudotimestretch+e+3 [138.85]",
          "CIRCLONT14 [152.97][shrymoming mix]",
          "syro u473t8+e [141.98][piezoluminescence mix]",
          "PAPAT4 [155][pineal mix]",
          "s950tx16wasr10 [163.97][earth portal mix]",
          "aisatsana [102]",
          "Jynweythek",
          "Vordhosbn",
          "Kladfvgbung Mischk",
          "Omgyjya-Switch7",
          "Strotha Tynhe",
          "Gwely Mernans",
          "Bbydhyonchord",
          "Cock/ver10",
          "Avril 14th",
          "Mt Saint Michel + Saint Michaels Mount",
          "Gwarek2",
          "Orban Eq Trx 4",
          "Hy A Scullyas Lyf Adhagrow",
          "Kesson Dalek",
          "54 Cymru Beats",
          "Btoum-Roumada",
          "Lornaderek",
          "QKThr",
          "Meltphace 6",
          "Bit 4",
          "Prep Gwarek 36",
          "Father",
          "Taking Control",
          "Petiatil Cx Htdui",
          "Ruglen Holon",
          "Afx237 v.7",
          "Ziggomatic 17",
          "Beskhu3epnm",
          "Nanou2",
          "Come To Daddy - Pappy Mix",
          "Flim",
          "Come to Daddy - Little Lord Faulteroy Mix",
          "Bucephalus Bouncing Ball [Chosen by Warp co-founder Steve Beckett]",
          "To Cure A Weakling Child - Contour Regard",
          "Funny Little Man",
          "Come To Daddy - Mummy Mix",
          "IZ-US",
          "4",
          "Cornish Acid",
          "Peek 82454201",
          "Fingerbib",
          "Carn Marth",
          "To Cure A Weakling Child",
          "Goon Gumpas",
          "Yellow Calx",
          "Girl/Boy Song",
          "Logan Rock Witch",
          "Acrid Avid Jam Shred",
          "The Waxen Pith",
          "Wax The Nip",
          "Icct Hedral",
          "Ventolin - Video Edit",
          "Come On You Slags",
          "Start As You Mean To Go On",
          "Wet Tip Hen Ax",
          "Mookid",
          "Alberto Balsalm",
          "Cow Cud Is A Twin",
          "Next Heap With",
          "#1",
          "#2",
          "#3",
          "#4",
          "#5",
          "#6",
          "#7",
          "#8",
          "#9",
          "#10",
          "#11",
          "#12",
          "#13",
          "#14",
          "#15",
          "#16",
          "#17",
          "#18",
          "#19",
          "#20",
          "#21",
          "#22",
          "#23",
          "#24",
          "Xtal",
          "Tha",
          "Pulsewidth",
          "Ageispolis",
          "I",
          "Green Calx",
          "Heliosphan",
          "We Are the Music Makers",
          "Schottkey 7th Path",
          "Ptolemy",
          "Hedphelym",
          "Delphium",
          "Actium"
         ],
         "legendgroup": "",
         "marker": {
          "color": "#636efa",
          "symbol": "circle"
         },
         "mode": "markers",
         "name": "",
         "orientation": "v",
         "showlegend": false,
         "type": "scatter",
         "x": [
          2024,
          2024,
          2024,
          2024,
          2024,
          2024,
          2024,
          2024,
          2024,
          2024,
          2014,
          2014,
          2014,
          2014,
          2014,
          2014,
          2014,
          2014,
          2014,
          2014,
          2014,
          2014,
          2001,
          2001,
          2001,
          2001,
          2001,
          2001,
          2001,
          2001,
          2001,
          2001,
          2001,
          2001,
          2001,
          2001,
          2001,
          2001,
          2001,
          2001,
          2001,
          2001,
          2001,
          2001,
          2001,
          2001,
          2001,
          2001,
          2001,
          2001,
          2001,
          1997,
          1997,
          1997,
          1997,
          1997,
          1997,
          1997,
          1997,
          1996,
          1996,
          1996,
          1996,
          1996,
          1996,
          1996,
          1996,
          1996,
          1996,
          1995,
          1995,
          1995,
          1995,
          1995,
          1995,
          1995,
          1995,
          1995,
          1995,
          1995,
          1995,
          1994,
          1994,
          1994,
          1994,
          1994,
          1994,
          1994,
          1994,
          1994,
          1994,
          1994,
          1994,
          1994,
          1994,
          1994,
          1994,
          1994,
          1994,
          1994,
          1994,
          1994,
          1994,
          1994,
          1994,
          1992,
          1992,
          1992,
          1992,
          1992,
          1992,
          1992,
          1992,
          1992,
          1992,
          1992,
          1992,
          1992
         ],
         "xaxis": "x",
         "y": [
          -8.057,
          -7.022,
          -8.163,
          -9.003,
          -8.425,
          -8.186,
          -9.354,
          -8.182,
          -8.195,
          -5.84,
          -7.661,
          -9.045,
          -8.358,
          -8.278,
          -7.305,
          -6.506,
          -15.981,
          -7.304,
          -9.069,
          -6.606,
          -5.977,
          -32.894,
          -19.856,
          -6.619,
          -17.126,
          -5.912,
          -25.018,
          -28.837,
          -9.769,
          -7.9,
          -30.016,
          -9.185,
          -24.445,
          -10.43,
          -20.175,
          -18.121,
          -6.048,
          -16.325,
          -19.894,
          -26.117,
          -9.932,
          -26.56,
          -19.482,
          -20.07,
          -12.647,
          -29.681,
          -22.208,
          -7.318,
          -9.735,
          -22.641,
          -28.82,
          -9.179,
          -14.932,
          -15.192,
          -5.856,
          -11.067,
          -13.947,
          -14.904,
          -14.519,
          -7.426,
          -6.389,
          -7.845,
          -10.695,
          -3.264,
          -7.255,
          -13.449,
          -6.704,
          -9.149,
          -9.798,
          -9.969,
          -15.212,
          -9.684,
          -10.242,
          -6.161,
          -8.335,
          -8.606,
          -8.74,
          -14.155,
          -13.648,
          -7.849,
          -18.18,
          -20.273,
          -21.075,
          -27.109,
          -16.504,
          -29.189,
          -28.751,
          -28.188,
          -21.19,
          -23.498,
          -29.543,
          -30.237,
          -14.593,
          -29.508,
          -28.923,
          -15.541,
          -23.285,
          -22.274,
          -19.548,
          -22.191,
          -26.441,
          -27.909,
          -21.805,
          -25.057,
          -18.071,
          -13.053,
          -19.881,
          -14.671,
          -17.543,
          -27.54,
          -10.206,
          -14.163,
          -13.05,
          -14.831,
          -11.121,
          -12.8,
          -15.098,
          -14.466
         ],
         "yaxis": "y"
        },
        {
         "line": {
          "color": "red",
          "width": 1.2
         },
         "mode": "lines",
         "name": "Regression Line",
         "type": "scatter",
         "x": [
          2024,
          2024,
          2024,
          2024,
          2024,
          2024,
          2024,
          2024,
          2024,
          2024,
          2014,
          2014,
          2014,
          2014,
          2014,
          2014,
          2014,
          2014,
          2014,
          2014,
          2014,
          2014,
          2001,
          2001,
          2001,
          2001,
          2001,
          2001,
          2001,
          2001,
          2001,
          2001,
          2001,
          2001,
          2001,
          2001,
          2001,
          2001,
          2001,
          2001,
          2001,
          2001,
          2001,
          2001,
          2001,
          2001,
          2001,
          2001,
          2001,
          2001,
          2001,
          1997,
          1997,
          1997,
          1997,
          1997,
          1997,
          1997,
          1997,
          1996,
          1996,
          1996,
          1996,
          1996,
          1996,
          1996,
          1996,
          1996,
          1996,
          1995,
          1995,
          1995,
          1995,
          1995,
          1995,
          1995,
          1995,
          1995,
          1995,
          1995,
          1995,
          1994,
          1994,
          1994,
          1994,
          1994,
          1994,
          1994,
          1994,
          1994,
          1994,
          1994,
          1994,
          1994,
          1994,
          1994,
          1994,
          1994,
          1994,
          1994,
          1994,
          1994,
          1994,
          1994,
          1994,
          1992,
          1992,
          1992,
          1992,
          1992,
          1992,
          1992,
          1992,
          1992,
          1992,
          1992,
          1992,
          1992
         ],
         "y": [
          -8.219649373378616,
          -8.219649373378616,
          -8.219649373378616,
          -8.219649373378616,
          -8.219649373378616,
          -8.219649373378616,
          -8.219649373378616,
          -8.219649373378616,
          -8.219649373378616,
          -8.219649373378616,
          -11.211540858529702,
          -11.211540858529702,
          -11.211540858529702,
          -11.211540858529702,
          -11.211540858529702,
          -11.211540858529702,
          -11.211540858529702,
          -11.211540858529702,
          -11.211540858529702,
          -11.211540858529702,
          -11.211540858529702,
          -11.211540858529702,
          -15.100999789226194,
          -15.100999789226194,
          -15.100999789226194,
          -15.100999789226194,
          -15.100999789226194,
          -15.100999789226194,
          -15.100999789226194,
          -15.100999789226194,
          -15.100999789226194,
          -15.100999789226194,
          -15.100999789226194,
          -15.100999789226194,
          -15.100999789226194,
          -15.100999789226194,
          -15.100999789226194,
          -15.100999789226194,
          -15.100999789226194,
          -15.100999789226194,
          -15.100999789226194,
          -15.100999789226194,
          -15.100999789226194,
          -15.100999789226194,
          -15.100999789226194,
          -15.100999789226194,
          -15.100999789226194,
          -15.100999789226194,
          -15.100999789226194,
          -15.100999789226194,
          -15.100999789226194,
          -16.297756383286583,
          -16.297756383286583,
          -16.297756383286583,
          -16.297756383286583,
          -16.297756383286583,
          -16.297756383286583,
          -16.297756383286583,
          -16.297756383286583,
          -16.59694553180168,
          -16.59694553180168,
          -16.59694553180168,
          -16.59694553180168,
          -16.59694553180168,
          -16.59694553180168,
          -16.59694553180168,
          -16.59694553180168,
          -16.59694553180168,
          -16.59694553180168,
          -16.89613468031689,
          -16.89613468031689,
          -16.89613468031689,
          -16.89613468031689,
          -16.89613468031689,
          -16.89613468031689,
          -16.89613468031689,
          -16.89613468031689,
          -16.89613468031689,
          -16.89613468031689,
          -16.89613468031689,
          -16.89613468031689,
          -17.195323828831988,
          -17.195323828831988,
          -17.195323828831988,
          -17.195323828831988,
          -17.195323828831988,
          -17.195323828831988,
          -17.195323828831988,
          -17.195323828831988,
          -17.195323828831988,
          -17.195323828831988,
          -17.195323828831988,
          -17.195323828831988,
          -17.195323828831988,
          -17.195323828831988,
          -17.195323828831988,
          -17.195323828831988,
          -17.195323828831988,
          -17.195323828831988,
          -17.195323828831988,
          -17.195323828831988,
          -17.195323828831988,
          -17.195323828831988,
          -17.195323828831988,
          -17.195323828831988,
          -17.793702125862183,
          -17.793702125862183,
          -17.793702125862183,
          -17.793702125862183,
          -17.793702125862183,
          -17.793702125862183,
          -17.793702125862183,
          -17.793702125862183,
          -17.793702125862183,
          -17.793702125862183,
          -17.793702125862183,
          -17.793702125862183,
          -17.793702125862183
         ]
        }
       ],
       "layout": {
        "height": 600,
        "legend": {
         "tracegroupgap": 0
        },
        "template": {
         "data": {
          "bar": [
           {
            "error_x": {
             "color": "#2a3f5f"
            },
            "error_y": {
             "color": "#2a3f5f"
            },
            "marker": {
             "line": {
              "color": "#E5ECF6",
              "width": 0.5
             },
             "pattern": {
              "fillmode": "overlay",
              "size": 10,
              "solidity": 0.2
             }
            },
            "type": "bar"
           }
          ],
          "barpolar": [
           {
            "marker": {
             "line": {
              "color": "#E5ECF6",
              "width": 0.5
             },
             "pattern": {
              "fillmode": "overlay",
              "size": 10,
              "solidity": 0.2
             }
            },
            "type": "barpolar"
           }
          ],
          "carpet": [
           {
            "aaxis": {
             "endlinecolor": "#2a3f5f",
             "gridcolor": "white",
             "linecolor": "white",
             "minorgridcolor": "white",
             "startlinecolor": "#2a3f5f"
            },
            "baxis": {
             "endlinecolor": "#2a3f5f",
             "gridcolor": "white",
             "linecolor": "white",
             "minorgridcolor": "white",
             "startlinecolor": "#2a3f5f"
            },
            "type": "carpet"
           }
          ],
          "choropleth": [
           {
            "colorbar": {
             "outlinewidth": 0,
             "ticks": ""
            },
            "type": "choropleth"
           }
          ],
          "contour": [
           {
            "colorbar": {
             "outlinewidth": 0,
             "ticks": ""
            },
            "colorscale": [
             [
              0,
              "#0d0887"
             ],
             [
              0.1111111111111111,
              "#46039f"
             ],
             [
              0.2222222222222222,
              "#7201a8"
             ],
             [
              0.3333333333333333,
              "#9c179e"
             ],
             [
              0.4444444444444444,
              "#bd3786"
             ],
             [
              0.5555555555555556,
              "#d8576b"
             ],
             [
              0.6666666666666666,
              "#ed7953"
             ],
             [
              0.7777777777777778,
              "#fb9f3a"
             ],
             [
              0.8888888888888888,
              "#fdca26"
             ],
             [
              1,
              "#f0f921"
             ]
            ],
            "type": "contour"
           }
          ],
          "contourcarpet": [
           {
            "colorbar": {
             "outlinewidth": 0,
             "ticks": ""
            },
            "type": "contourcarpet"
           }
          ],
          "heatmap": [
           {
            "colorbar": {
             "outlinewidth": 0,
             "ticks": ""
            },
            "colorscale": [
             [
              0,
              "#0d0887"
             ],
             [
              0.1111111111111111,
              "#46039f"
             ],
             [
              0.2222222222222222,
              "#7201a8"
             ],
             [
              0.3333333333333333,
              "#9c179e"
             ],
             [
              0.4444444444444444,
              "#bd3786"
             ],
             [
              0.5555555555555556,
              "#d8576b"
             ],
             [
              0.6666666666666666,
              "#ed7953"
             ],
             [
              0.7777777777777778,
              "#fb9f3a"
             ],
             [
              0.8888888888888888,
              "#fdca26"
             ],
             [
              1,
              "#f0f921"
             ]
            ],
            "type": "heatmap"
           }
          ],
          "heatmapgl": [
           {
            "colorbar": {
             "outlinewidth": 0,
             "ticks": ""
            },
            "colorscale": [
             [
              0,
              "#0d0887"
             ],
             [
              0.1111111111111111,
              "#46039f"
             ],
             [
              0.2222222222222222,
              "#7201a8"
             ],
             [
              0.3333333333333333,
              "#9c179e"
             ],
             [
              0.4444444444444444,
              "#bd3786"
             ],
             [
              0.5555555555555556,
              "#d8576b"
             ],
             [
              0.6666666666666666,
              "#ed7953"
             ],
             [
              0.7777777777777778,
              "#fb9f3a"
             ],
             [
              0.8888888888888888,
              "#fdca26"
             ],
             [
              1,
              "#f0f921"
             ]
            ],
            "type": "heatmapgl"
           }
          ],
          "histogram": [
           {
            "marker": {
             "pattern": {
              "fillmode": "overlay",
              "size": 10,
              "solidity": 0.2
             }
            },
            "type": "histogram"
           }
          ],
          "histogram2d": [
           {
            "colorbar": {
             "outlinewidth": 0,
             "ticks": ""
            },
            "colorscale": [
             [
              0,
              "#0d0887"
             ],
             [
              0.1111111111111111,
              "#46039f"
             ],
             [
              0.2222222222222222,
              "#7201a8"
             ],
             [
              0.3333333333333333,
              "#9c179e"
             ],
             [
              0.4444444444444444,
              "#bd3786"
             ],
             [
              0.5555555555555556,
              "#d8576b"
             ],
             [
              0.6666666666666666,
              "#ed7953"
             ],
             [
              0.7777777777777778,
              "#fb9f3a"
             ],
             [
              0.8888888888888888,
              "#fdca26"
             ],
             [
              1,
              "#f0f921"
             ]
            ],
            "type": "histogram2d"
           }
          ],
          "histogram2dcontour": [
           {
            "colorbar": {
             "outlinewidth": 0,
             "ticks": ""
            },
            "colorscale": [
             [
              0,
              "#0d0887"
             ],
             [
              0.1111111111111111,
              "#46039f"
             ],
             [
              0.2222222222222222,
              "#7201a8"
             ],
             [
              0.3333333333333333,
              "#9c179e"
             ],
             [
              0.4444444444444444,
              "#bd3786"
             ],
             [
              0.5555555555555556,
              "#d8576b"
             ],
             [
              0.6666666666666666,
              "#ed7953"
             ],
             [
              0.7777777777777778,
              "#fb9f3a"
             ],
             [
              0.8888888888888888,
              "#fdca26"
             ],
             [
              1,
              "#f0f921"
             ]
            ],
            "type": "histogram2dcontour"
           }
          ],
          "mesh3d": [
           {
            "colorbar": {
             "outlinewidth": 0,
             "ticks": ""
            },
            "type": "mesh3d"
           }
          ],
          "parcoords": [
           {
            "line": {
             "colorbar": {
              "outlinewidth": 0,
              "ticks": ""
             }
            },
            "type": "parcoords"
           }
          ],
          "pie": [
           {
            "automargin": true,
            "type": "pie"
           }
          ],
          "scatter": [
           {
            "fillpattern": {
             "fillmode": "overlay",
             "size": 10,
             "solidity": 0.2
            },
            "type": "scatter"
           }
          ],
          "scatter3d": [
           {
            "line": {
             "colorbar": {
              "outlinewidth": 0,
              "ticks": ""
             }
            },
            "marker": {
             "colorbar": {
              "outlinewidth": 0,
              "ticks": ""
             }
            },
            "type": "scatter3d"
           }
          ],
          "scattercarpet": [
           {
            "marker": {
             "colorbar": {
              "outlinewidth": 0,
              "ticks": ""
             }
            },
            "type": "scattercarpet"
           }
          ],
          "scattergeo": [
           {
            "marker": {
             "colorbar": {
              "outlinewidth": 0,
              "ticks": ""
             }
            },
            "type": "scattergeo"
           }
          ],
          "scattergl": [
           {
            "marker": {
             "colorbar": {
              "outlinewidth": 0,
              "ticks": ""
             }
            },
            "type": "scattergl"
           }
          ],
          "scattermapbox": [
           {
            "marker": {
             "colorbar": {
              "outlinewidth": 0,
              "ticks": ""
             }
            },
            "type": "scattermapbox"
           }
          ],
          "scatterpolar": [
           {
            "marker": {
             "colorbar": {
              "outlinewidth": 0,
              "ticks": ""
             }
            },
            "type": "scatterpolar"
           }
          ],
          "scatterpolargl": [
           {
            "marker": {
             "colorbar": {
              "outlinewidth": 0,
              "ticks": ""
             }
            },
            "type": "scatterpolargl"
           }
          ],
          "scatterternary": [
           {
            "marker": {
             "colorbar": {
              "outlinewidth": 0,
              "ticks": ""
             }
            },
            "type": "scatterternary"
           }
          ],
          "surface": [
           {
            "colorbar": {
             "outlinewidth": 0,
             "ticks": ""
            },
            "colorscale": [
             [
              0,
              "#0d0887"
             ],
             [
              0.1111111111111111,
              "#46039f"
             ],
             [
              0.2222222222222222,
              "#7201a8"
             ],
             [
              0.3333333333333333,
              "#9c179e"
             ],
             [
              0.4444444444444444,
              "#bd3786"
             ],
             [
              0.5555555555555556,
              "#d8576b"
             ],
             [
              0.6666666666666666,
              "#ed7953"
             ],
             [
              0.7777777777777778,
              "#fb9f3a"
             ],
             [
              0.8888888888888888,
              "#fdca26"
             ],
             [
              1,
              "#f0f921"
             ]
            ],
            "type": "surface"
           }
          ],
          "table": [
           {
            "cells": {
             "fill": {
              "color": "#EBF0F8"
             },
             "line": {
              "color": "white"
             }
            },
            "header": {
             "fill": {
              "color": "#C8D4E3"
             },
             "line": {
              "color": "white"
             }
            },
            "type": "table"
           }
          ]
         },
         "layout": {
          "annotationdefaults": {
           "arrowcolor": "#2a3f5f",
           "arrowhead": 0,
           "arrowwidth": 1
          },
          "autotypenumbers": "strict",
          "coloraxis": {
           "colorbar": {
            "outlinewidth": 0,
            "ticks": ""
           }
          },
          "colorscale": {
           "diverging": [
            [
             0,
             "#8e0152"
            ],
            [
             0.1,
             "#c51b7d"
            ],
            [
             0.2,
             "#de77ae"
            ],
            [
             0.3,
             "#f1b6da"
            ],
            [
             0.4,
             "#fde0ef"
            ],
            [
             0.5,
             "#f7f7f7"
            ],
            [
             0.6,
             "#e6f5d0"
            ],
            [
             0.7,
             "#b8e186"
            ],
            [
             0.8,
             "#7fbc41"
            ],
            [
             0.9,
             "#4d9221"
            ],
            [
             1,
             "#276419"
            ]
           ],
           "sequential": [
            [
             0,
             "#0d0887"
            ],
            [
             0.1111111111111111,
             "#46039f"
            ],
            [
             0.2222222222222222,
             "#7201a8"
            ],
            [
             0.3333333333333333,
             "#9c179e"
            ],
            [
             0.4444444444444444,
             "#bd3786"
            ],
            [
             0.5555555555555556,
             "#d8576b"
            ],
            [
             0.6666666666666666,
             "#ed7953"
            ],
            [
             0.7777777777777778,
             "#fb9f3a"
            ],
            [
             0.8888888888888888,
             "#fdca26"
            ],
            [
             1,
             "#f0f921"
            ]
           ],
           "sequentialminus": [
            [
             0,
             "#0d0887"
            ],
            [
             0.1111111111111111,
             "#46039f"
            ],
            [
             0.2222222222222222,
             "#7201a8"
            ],
            [
             0.3333333333333333,
             "#9c179e"
            ],
            [
             0.4444444444444444,
             "#bd3786"
            ],
            [
             0.5555555555555556,
             "#d8576b"
            ],
            [
             0.6666666666666666,
             "#ed7953"
            ],
            [
             0.7777777777777778,
             "#fb9f3a"
            ],
            [
             0.8888888888888888,
             "#fdca26"
            ],
            [
             1,
             "#f0f921"
            ]
           ]
          },
          "colorway": [
           "#636efa",
           "#EF553B",
           "#00cc96",
           "#ab63fa",
           "#FFA15A",
           "#19d3f3",
           "#FF6692",
           "#B6E880",
           "#FF97FF",
           "#FECB52"
          ],
          "font": {
           "color": "#2a3f5f"
          },
          "geo": {
           "bgcolor": "white",
           "lakecolor": "white",
           "landcolor": "#E5ECF6",
           "showlakes": true,
           "showland": true,
           "subunitcolor": "white"
          },
          "hoverlabel": {
           "align": "left"
          },
          "hovermode": "closest",
          "mapbox": {
           "style": "light"
          },
          "paper_bgcolor": "white",
          "plot_bgcolor": "#E5ECF6",
          "polar": {
           "angularaxis": {
            "gridcolor": "white",
            "linecolor": "white",
            "ticks": ""
           },
           "bgcolor": "#E5ECF6",
           "radialaxis": {
            "gridcolor": "white",
            "linecolor": "white",
            "ticks": ""
           }
          },
          "scene": {
           "xaxis": {
            "backgroundcolor": "#E5ECF6",
            "gridcolor": "white",
            "gridwidth": 2,
            "linecolor": "white",
            "showbackground": true,
            "ticks": "",
            "zerolinecolor": "white"
           },
           "yaxis": {
            "backgroundcolor": "#E5ECF6",
            "gridcolor": "white",
            "gridwidth": 2,
            "linecolor": "white",
            "showbackground": true,
            "ticks": "",
            "zerolinecolor": "white"
           },
           "zaxis": {
            "backgroundcolor": "#E5ECF6",
            "gridcolor": "white",
            "gridwidth": 2,
            "linecolor": "white",
            "showbackground": true,
            "ticks": "",
            "zerolinecolor": "white"
           }
          },
          "shapedefaults": {
           "line": {
            "color": "#2a3f5f"
           }
          },
          "ternary": {
           "aaxis": {
            "gridcolor": "white",
            "linecolor": "white",
            "ticks": ""
           },
           "baxis": {
            "gridcolor": "white",
            "linecolor": "white",
            "ticks": ""
           },
           "bgcolor": "#E5ECF6",
           "caxis": {
            "gridcolor": "white",
            "linecolor": "white",
            "ticks": ""
           }
          },
          "title": {
           "x": 0.05
          },
          "xaxis": {
           "automargin": true,
           "gridcolor": "white",
           "linecolor": "white",
           "ticks": "",
           "title": {
            "standoff": 15
           },
           "zerolinecolor": "white",
           "zerolinewidth": 2
          },
          "yaxis": {
           "automargin": true,
           "gridcolor": "white",
           "linecolor": "white",
           "ticks": "",
           "title": {
            "standoff": 15
           },
           "zerolinecolor": "white",
           "zerolinewidth": 2
          }
         }
        },
        "title": {
         "text": "Loudness vs. Release Year"
        },
        "width": 1000,
        "xaxis": {
         "anchor": "y",
         "autorange": false,
         "domain": [
          0,
          1
         ],
         "range": [
          1990.02327663384,
          2025.97672336616
         ],
         "title": {
          "text": "Release Year"
         },
         "type": "linear"
        },
        "yaxis": {
         "anchor": "x",
         "autorange": false,
         "domain": [
          0,
          1
         ],
         "range": [
          -34.873331983805656,
          -1.284668016194333
         ],
         "title": {
          "text": "Loudness"
         },
         "type": "linear"
        }
       }
      },
      "image/png": "[encoded data removed]",
      "text/html": [
       "<div>                            <div id=\"6d853340-b2d8-4bc2-ab75-efbca1a4aaa9\" class=\"plotly-graph-div\" style=\"height:600px; width:1000px;\"></div>            <script type=\"text/javascript\">                require([\"plotly\"], function(Plotly) {                    window.PLOTLYENV=window.PLOTLYENV || {};                                    if (document.getElementById(\"6d853340-b2d8-4bc2-ab75-efbca1a4aaa9\")) {                    Plotly.newPlot(                        \"6d853340-b2d8-4bc2-ab75-efbca1a4aaa9\",                        [{\"hovertemplate\":\"\\u003cb\\u003e%{hovertext}\\u003c\\u002fb\\u003e\\u003cbr\\u003e\\u003cbr\\u003eRelease Year=%{x}\\u003cbr\\u003eLoudness=%{y}\\u003cextra\\u003e\\u003c\\u002fextra\\u003e\",\"hovertext\":[\"Digeridoo - 2022 Remaster\",\"Flap Head - 2022 Remaster\",\"Phloam - 2022 Remaster\",\"Isoprophlex - 2022 Remaster\",\"Digeridoo - Cr7E Version\",\"Digeridoo - Cr7E Version, Live In Cornwall\",\"Isoprophlex (Slow) - Cr7E Version\",\"Phloam - Cr7E Version\",\"Isoprophlex - Cr7E Version\",\"Flap Head - Cr7E Version\",\"minipops 67 [120.2][source field mix]\",\"XMAS_EVET10 [120][thanaton3 mix]\",\"produk 29 [101]\",\"4 bit 9d api+e+6 [126.26]\",\"180db_ [130]\",\"CIRCLONT6A [141.98][syrobonkus mix]\",\"fz pseudotimestretch+e+3 [138.85]\",\"CIRCLONT14 [152.97][shrymoming mix]\",\"syro u473t8+e [141.98][piezoluminescence mix]\",\"PAPAT4 [155][pineal mix]\",\"s950tx16wasr10 [163.97][earth portal mix]\",\"aisatsana [102]\",\"Jynweythek\",\"Vordhosbn\",\"Kladfvgbung Mischk\",\"Omgyjya-Switch7\",\"Strotha Tynhe\",\"Gwely Mernans\",\"Bbydhyonchord\",\"Cock\\u002fver10\",\"Avril 14th\",\"Mt Saint Michel + Saint Michaels Mount\",\"Gwarek2\",\"Orban Eq Trx 4\",\"Hy A Scullyas Lyf Adhagrow\",\"Kesson Dalek\",\"54 Cymru Beats\",\"Btoum-Roumada\",\"Lornaderek\",\"QKThr\",\"Meltphace 6\",\"Bit 4\",\"Prep Gwarek 36\",\"Father\",\"Taking Control\",\"Petiatil Cx Htdui\",\"Ruglen Holon\",\"Afx237 v.7\",\"Ziggomatic 17\",\"Beskhu3epnm\",\"Nanou2\",\"Come To Daddy - Pappy Mix\",\"Flim\",\"Come to Daddy - Little Lord Faulteroy Mix\",\"Bucephalus Bouncing Ball [Chosen by Warp co-founder Steve Beckett]\",\"To Cure A Weakling Child - Contour Regard\",\"Funny Little Man\",\"Come To Daddy - Mummy Mix\",\"IZ-US\",\"4\",\"Cornish Acid\",\"Peek 82454201\",\"Fingerbib\",\"Carn Marth\",\"To Cure A Weakling Child\",\"Goon Gumpas\",\"Yellow Calx\",\"Girl\\u002fBoy Song\",\"Logan Rock Witch\",\"Acrid Avid Jam Shred\",\"The Waxen Pith\",\"Wax The Nip\",\"Icct Hedral\",\"Ventolin - Video Edit\",\"Come On You Slags\",\"Start As You Mean To Go On\",\"Wet Tip Hen Ax\",\"Mookid\",\"Alberto Balsalm\",\"Cow Cud Is A Twin\",\"Next Heap With\",\"#1\",\"#2\",\"#3\",\"#4\",\"#5\",\"#6\",\"#7\",\"#8\",\"#9\",\"#10\",\"#11\",\"#12\",\"#13\",\"#14\",\"#15\",\"#16\",\"#17\",\"#18\",\"#19\",\"#20\",\"#21\",\"#22\",\"#23\",\"#24\",\"Xtal\",\"Tha\",\"Pulsewidth\",\"Ageispolis\",\"I\",\"Green Calx\",\"Heliosphan\",\"We Are the Music Makers\",\"Schottkey 7th Path\",\"Ptolemy\",\"Hedphelym\",\"Delphium\",\"Actium\"],\"legendgroup\":\"\",\"marker\":{\"color\":\"#636efa\",\"symbol\":\"circle\"},\"mode\":\"markers\",\"name\":\"\",\"orientation\":\"v\",\"showlegend\":false,\"x\":[2024,2024,2024,2024,2024,2024,2024,2024,2024,2024,2014,2014,2014,2014,2014,2014,2014,2014,2014,2014,2014,2014,2001,2001,2001,2001,2001,2001,2001,2001,2001,2001,2001,2001,2001,2001,2001,2001,2001,2001,2001,2001,2001,2001,2001,2001,2001,2001,2001,2001,2001,1997,1997,1997,1997,1997,1997,1997,1997,1996,1996,1996,1996,1996,1996,1996,1996,1996,1996,1995,1995,1995,1995,1995,1995,1995,1995,1995,1995,1995,1995,1994,1994,1994,1994,1994,1994,1994,1994,1994,1994,1994,1994,1994,1994,1994,1994,1994,1994,1994,1994,1994,1994,1994,1994,1992,1992,1992,1992,1992,1992,1992,1992,1992,1992,1992,1992,1992],\"xaxis\":\"x\",\"y\":[-8.057,-7.022,-8.163,-9.003,-8.425,-8.186,-9.354,-8.182,-8.195,-5.84,-7.661,-9.045,-8.358,-8.278,-7.305,-6.506,-15.981,-7.304,-9.069,-6.606,-5.977,-32.894,-19.856,-6.619,-17.126,-5.912,-25.018,-28.837,-9.769,-7.9,-30.016,-9.185,-24.445,-10.43,-20.175,-18.121,-6.048,-16.325,-19.894,-26.117,-9.932,-26.56,-19.482,-20.07,-12.647,-29.681,-22.208,-7.318,-9.735,-22.641,-28.82,-9.179,-14.932,-15.192,-5.856,-11.067,-13.947,-14.904,-14.519,-7.426,-6.389,-7.845,-10.695,-3.264,-7.255,-13.449,-6.704,-9.149,-9.798,-9.969,-15.212,-9.684,-10.242,-6.161,-8.335,-8.606,-8.74,-14.155,-13.648,-7.849,-18.18,-20.273,-21.075,-27.109,-16.504,-29.189,-28.751,-28.188,-21.19,-23.498,-29.543,-30.237,-14.593,-29.508,-28.923,-15.541,-23.285,-22.274,-19.548,-22.191,-26.441,-27.909,-21.805,-25.057,-18.071,-13.053,-19.881,-14.671,-17.543,-27.54,-10.206,-14.163,-13.05,-14.831,-11.121,-12.8,-15.098,-14.466],\"yaxis\":\"y\",\"type\":\"scatter\"},{\"line\":{\"color\":\"red\",\"width\":1.2},\"mode\":\"lines\",\"name\":\"Regression Line\",\"x\":[2024,2024,2024,2024,2024,2024,2024,2024,2024,2024,2014,2014,2014,2014,2014,2014,2014,2014,2014,2014,2014,2014,2001,2001,2001,2001,2001,2001,2001,2001,2001,2001,2001,2001,2001,2001,2001,2001,2001,2001,2001,2001,2001,2001,2001,2001,2001,2001,2001,2001,2001,1997,1997,1997,1997,1997,1997,1997,1997,1996,1996,1996,1996,1996,1996,1996,1996,1996,1996,1995,1995,1995,1995,1995,1995,1995,1995,1995,1995,1995,1995,1994,1994,1994,1994,1994,1994,1994,1994,1994,1994,1994,1994,1994,1994,1994,1994,1994,1994,1994,1994,1994,1994,1994,1994,1992,1992,1992,1992,1992,1992,1992,1992,1992,1992,1992,1992,1992],\"y\":[-8.219649373378616,-8.219649373378616,-8.219649373378616,-8.219649373378616,-8.219649373378616,-8.219649373378616,-8.219649373378616,-8.219649373378616,-8.219649373378616,-8.219649373378616,-11.211540858529702,-11.211540858529702,-11.211540858529702,-11.211540858529702,-11.211540858529702,-11.211540858529702,-11.211540858529702,-11.211540858529702,-11.211540858529702,-11.211540858529702,-11.211540858529702,-11.211540858529702,-15.100999789226194,-15.100999789226194,-15.100999789226194,-15.100999789226194,-15.100999789226194,-15.100999789226194,-15.100999789226194,-15.100999789226194,-15.100999789226194,-15.100999789226194,-15.100999789226194,-15.100999789226194,-15.100999789226194,-15.100999789226194,-15.100999789226194,-15.100999789226194,-15.100999789226194,-15.100999789226194,-15.100999789226194,-15.100999789226194,-15.100999789226194,-15.100999789226194,-15.100999789226194,-15.100999789226194,-15.100999789226194,-15.100999789226194,-15.100999789226194,-15.100999789226194,-15.100999789226194,-16.297756383286583,-16.297756383286583,-16.297756383286583,-16.297756383286583,-16.297756383286583,-16.297756383286583,-16.297756383286583,-16.297756383286583,-16.59694553180168,-16.59694553180168,-16.59694553180168,-16.59694553180168,-16.59694553180168,-16.59694553180168,-16.59694553180168,-16.59694553180168,-16.59694553180168,-16.59694553180168,-16.89613468031689,-16.89613468031689,-16.89613468031689,-16.89613468031689,-16.89613468031689,-16.89613468031689,-16.89613468031689,-16.89613468031689,-16.89613468031689,-16.89613468031689,-16.89613468031689,-16.89613468031689,-17.195323828831988,-17.195323828831988,-17.195323828831988,-17.195323828831988,-17.195323828831988,-17.195323828831988,-17.195323828831988,-17.195323828831988,-17.195323828831988,-17.195323828831988,-17.195323828831988,-17.195323828831988,-17.195323828831988,-17.195323828831988,-17.195323828831988,-17.195323828831988,-17.195323828831988,-17.195323828831988,-17.195323828831988,-17.195323828831988,-17.195323828831988,-17.195323828831988,-17.195323828831988,-17.195323828831988,-17.793702125862183,-17.793702125862183,-17.793702125862183,-17.793702125862183,-17.793702125862183,-17.793702125862183,-17.793702125862183,-17.793702125862183,-17.793702125862183,-17.793702125862183,-17.793702125862183,-17.793702125862183,-17.793702125862183],\"type\":\"scatter\"}],                        {\"template\":{\"data\":{\"histogram2dcontour\":[{\"type\":\"histogram2dcontour\",\"colorbar\":{\"outlinewidth\":0,\"ticks\":\"\"},\"colorscale\":[[0.0,\"#0d0887\"],[0.1111111111111111,\"#46039f\"],[0.2222222222222222,\"#7201a8\"],[0.3333333333333333,\"#9c179e\"],[0.4444444444444444,\"#bd3786\"],[0.5555555555555556,\"#d8576b\"],[0.6666666666666666,\"#ed7953\"],[0.7777777777777778,\"#fb9f3a\"],[0.8888888888888888,\"#fdca26\"],[1.0,\"#f0f921\"]]}],\"choropleth\":[{\"type\":\"choropleth\",\"colorbar\":{\"outlinewidth\":0,\"ticks\":\"\"}}],\"histogram2d\":[{\"type\":\"histogram2d\",\"colorbar\":{\"outlinewidth\":0,\"ticks\":\"\"},\"colorscale\":[[0.0,\"#0d0887\"],[0.1111111111111111,\"#46039f\"],[0.2222222222222222,\"#7201a8\"],[0.3333333333333333,\"#9c179e\"],[0.4444444444444444,\"#bd3786\"],[0.5555555555555556,\"#d8576b\"],[0.6666666666666666,\"#ed7953\"],[0.7777777777777778,\"#fb9f3a\"],[0.8888888888888888,\"#fdca26\"],[1.0,\"#f0f921\"]]}],\"heatmap\":[{\"type\":\"heatmap\",\"colorbar\":{\"outlinewidth\":0,\"ticks\":\"\"},\"colorscale\":[[0.0,\"#0d0887\"],[0.1111111111111111,\"#46039f\"],[0.2222222222222222,\"#7201a8\"],[0.3333333333333333,\"#9c179e\"],[0.4444444444444444,\"#bd3786\"],[0.5555555555555556,\"#d8576b\"],[0.6666666666666666,\"#ed7953\"],[0.7777777777777778,\"#fb9f3a\"],[0.8888888888888888,\"#fdca26\"],[1.0,\"#f0f921\"]]}],\"heatmapgl\":[{\"type\":\"heatmapgl\",\"colorbar\":{\"outlinewidth\":0,\"ticks\":\"\"},\"colorscale\":[[0.0,\"#0d0887\"],[0.1111111111111111,\"#46039f\"],[0.2222222222222222,\"#7201a8\"],[0.3333333333333333,\"#9c179e\"],[0.4444444444444444,\"#bd3786\"],[0.5555555555555556,\"#d8576b\"],[0.6666666666666666,\"#ed7953\"],[0.7777777777777778,\"#fb9f3a\"],[0.8888888888888888,\"#fdca26\"],[1.0,\"#f0f921\"]]}],\"contourcarpet\":[{\"type\":\"contourcarpet\",\"colorbar\":{\"outlinewidth\":0,\"ticks\":\"\"}}],\"contour\":[{\"type\":\"contour\",\"colorbar\":{\"outlinewidth\":0,\"ticks\":\"\"},\"colorscale\":[[0.0,\"#0d0887\"],[0.1111111111111111,\"#46039f\"],[0.2222222222222222,\"#7201a8\"],[0.3333333333333333,\"#9c179e\"],[0.4444444444444444,\"#bd3786\"],[0.5555555555555556,\"#d8576b\"],[0.6666666666666666,\"#ed7953\"],[0.7777777777777778,\"#fb9f3a\"],[0.8888888888888888,\"#fdca26\"],[1.0,\"#f0f921\"]]}],\"surface\":[{\"type\":\"surface\",\"colorbar\":{\"outlinewidth\":0,\"ticks\":\"\"},\"colorscale\":[[0.0,\"#0d0887\"],[0.1111111111111111,\"#46039f\"],[0.2222222222222222,\"#7201a8\"],[0.3333333333333333,\"#9c179e\"],[0.4444444444444444,\"#bd3786\"],[0.5555555555555556,\"#d8576b\"],[0.6666666666666666,\"#ed7953\"],[0.7777777777777778,\"#fb9f3a\"],[0.8888888888888888,\"#fdca26\"],[1.0,\"#f0f921\"]]}],\"mesh3d\":[{\"type\":\"mesh3d\",\"colorbar\":{\"outlinewidth\":0,\"ticks\":\"\"}}],\"scatter\":[{\"fillpattern\":{\"fillmode\":\"overlay\",\"size\":10,\"solidity\":0.2},\"type\":\"scatter\"}],\"parcoords\":[{\"type\":\"parcoords\",\"line\":{\"colorbar\":{\"outlinewidth\":0,\"ticks\":\"\"}}}],\"scatterpolargl\":[{\"type\":\"scatterpolargl\",\"marker\":{\"colorbar\":{\"outlinewidth\":0,\"ticks\":\"\"}}}],\"bar\":[{\"error_x\":{\"color\":\"#2a3f5f\"},\"error_y\":{\"color\":\"#2a3f5f\"},\"marker\":{\"line\":{\"color\":\"#E5ECF6\",\"width\":0.5},\"pattern\":{\"fillmode\":\"overlay\",\"size\":10,\"solidity\":0.2}},\"type\":\"bar\"}],\"scattergeo\":[{\"type\":\"scattergeo\",\"marker\":{\"colorbar\":{\"outlinewidth\":0,\"ticks\":\"\"}}}],\"scatterpolar\":[{\"type\":\"scatterpolar\",\"marker\":{\"colorbar\":{\"outlinewidth\":0,\"ticks\":\"\"}}}],\"histogram\":[{\"marker\":{\"pattern\":{\"fillmode\":\"overlay\",\"size\":10,\"solidity\":0.2}},\"type\":\"histogram\"}],\"scattergl\":[{\"type\":\"scattergl\",\"marker\":{\"colorbar\":{\"outlinewidth\":0,\"ticks\":\"\"}}}],\"scatter3d\":[{\"type\":\"scatter3d\",\"line\":{\"colorbar\":{\"outlinewidth\":0,\"ticks\":\"\"}},\"marker\":{\"colorbar\":{\"outlinewidth\":0,\"ticks\":\"\"}}}],\"scattermapbox\":[{\"type\":\"scattermapbox\",\"marker\":{\"colorbar\":{\"outlinewidth\":0,\"ticks\":\"\"}}}],\"scatterternary\":[{\"type\":\"scatterternary\",\"marker\":{\"colorbar\":{\"outlinewidth\":0,\"ticks\":\"\"}}}],\"scattercarpet\":[{\"type\":\"scattercarpet\",\"marker\":{\"colorbar\":{\"outlinewidth\":0,\"ticks\":\"\"}}}],\"carpet\":[{\"aaxis\":{\"endlinecolor\":\"#2a3f5f\",\"gridcolor\":\"white\",\"linecolor\":\"white\",\"minorgridcolor\":\"white\",\"startlinecolor\":\"#2a3f5f\"},\"baxis\":{\"endlinecolor\":\"#2a3f5f\",\"gridcolor\":\"white\",\"linecolor\":\"white\",\"minorgridcolor\":\"white\",\"startlinecolor\":\"#2a3f5f\"},\"type\":\"carpet\"}],\"table\":[{\"cells\":{\"fill\":{\"color\":\"#EBF0F8\"},\"line\":{\"color\":\"white\"}},\"header\":{\"fill\":{\"color\":\"#C8D4E3\"},\"line\":{\"color\":\"white\"}},\"type\":\"table\"}],\"barpolar\":[{\"marker\":{\"line\":{\"color\":\"#E5ECF6\",\"width\":0.5},\"pattern\":{\"fillmode\":\"overlay\",\"size\":10,\"solidity\":0.2}},\"type\":\"barpolar\"}],\"pie\":[{\"automargin\":true,\"type\":\"pie\"}]},\"layout\":{\"autotypenumbers\":\"strict\",\"colorway\":[\"#636efa\",\"#EF553B\",\"#00cc96\",\"#ab63fa\",\"#FFA15A\",\"#19d3f3\",\"#FF6692\",\"#B6E880\",\"#FF97FF\",\"#FECB52\"],\"font\":{\"color\":\"#2a3f5f\"},\"hovermode\":\"closest\",\"hoverlabel\":{\"align\":\"left\"},\"paper_bgcolor\":\"white\",\"plot_bgcolor\":\"#E5ECF6\",\"polar\":{\"bgcolor\":\"#E5ECF6\",\"angularaxis\":{\"gridcolor\":\"white\",\"linecolor\":\"white\",\"ticks\":\"\"},\"radialaxis\":{\"gridcolor\":\"white\",\"linecolor\":\"white\",\"ticks\":\"\"}},\"ternary\":{\"bgcolor\":\"#E5ECF6\",\"aaxis\":{\"gridcolor\":\"white\",\"linecolor\":\"white\",\"ticks\":\"\"},\"baxis\":{\"gridcolor\":\"white\",\"linecolor\":\"white\",\"ticks\":\"\"},\"caxis\":{\"gridcolor\":\"white\",\"linecolor\":\"white\",\"ticks\":\"\"}},\"coloraxis\":{\"colorbar\":{\"outlinewidth\":0,\"ticks\":\"\"}},\"colorscale\":{\"sequential\":[[0.0,\"#0d0887\"],[0.1111111111111111,\"#46039f\"],[0.2222222222222222,\"#7201a8\"],[0.3333333333333333,\"#9c179e\"],[0.4444444444444444,\"#bd3786\"],[0.5555555555555556,\"#d8576b\"],[0.6666666666666666,\"#ed7953\"],[0.7777777777777778,\"#fb9f3a\"],[0.8888888888888888,\"#fdca26\"],[1.0,\"#f0f921\"]],\"sequentialminus\":[[0.0,\"#0d0887\"],[0.1111111111111111,\"#46039f\"],[0.2222222222222222,\"#7201a8\"],[0.3333333333333333,\"#9c179e\"],[0.4444444444444444,\"#bd3786\"],[0.5555555555555556,\"#d8576b\"],[0.6666666666666666,\"#ed7953\"],[0.7777777777777778,\"#fb9f3a\"],[0.8888888888888888,\"#fdca26\"],[1.0,\"#f0f921\"]],\"diverging\":[[0,\"#8e0152\"],[0.1,\"#c51b7d\"],[0.2,\"#de77ae\"],[0.3,\"#f1b6da\"],[0.4,\"#fde0ef\"],[0.5,\"#f7f7f7\"],[0.6,\"#e6f5d0\"],[0.7,\"#b8e186\"],[0.8,\"#7fbc41\"],[0.9,\"#4d9221\"],[1,\"#276419\"]]},\"xaxis\":{\"gridcolor\":\"white\",\"linecolor\":\"white\",\"ticks\":\"\",\"title\":{\"standoff\":15},\"zerolinecolor\":\"white\",\"automargin\":true,\"zerolinewidth\":2},\"yaxis\":{\"gridcolor\":\"white\",\"linecolor\":\"white\",\"ticks\":\"\",\"title\":{\"standoff\":15},\"zerolinecolor\":\"white\",\"automargin\":true,\"zerolinewidth\":2},\"scene\":{\"xaxis\":{\"backgroundcolor\":\"#E5ECF6\",\"gridcolor\":\"white\",\"linecolor\":\"white\",\"showbackground\":true,\"ticks\":\"\",\"zerolinecolor\":\"white\",\"gridwidth\":2},\"yaxis\":{\"backgroundcolor\":\"#E5ECF6\",\"gridcolor\":\"white\",\"linecolor\":\"white\",\"showbackground\":true,\"ticks\":\"\",\"zerolinecolor\":\"white\",\"gridwidth\":2},\"zaxis\":{\"backgroundcolor\":\"#E5ECF6\",\"gridcolor\":\"white\",\"linecolor\":\"white\",\"showbackground\":true,\"ticks\":\"\",\"zerolinecolor\":\"white\",\"gridwidth\":2}},\"shapedefaults\":{\"line\":{\"color\":\"#2a3f5f\"}},\"annotationdefaults\":{\"arrowcolor\":\"#2a3f5f\",\"arrowhead\":0,\"arrowwidth\":1},\"geo\":{\"bgcolor\":\"white\",\"landcolor\":\"#E5ECF6\",\"subunitcolor\":\"white\",\"showland\":true,\"showlakes\":true,\"lakecolor\":\"white\"},\"title\":{\"x\":0.05},\"mapbox\":{\"style\":\"light\"}}},\"xaxis\":{\"anchor\":\"y\",\"domain\":[0.0,1.0],\"title\":{\"text\":\"Release Year\"}},\"yaxis\":{\"anchor\":\"x\",\"domain\":[0.0,1.0],\"title\":{\"text\":\"Loudness\"}},\"legend\":{\"tracegroupgap\":0},\"title\":{\"text\":\"Loudness vs. Release Year\"},\"width\":1000,\"height\":600},                        {\"responsive\": true}                    ).then(function(){\n",
       "                            \n",
       "var gd = document.getElementById('6d853340-b2d8-4bc2-ab75-efbca1a4aaa9');\n",
       "var x = new MutationObserver(function (mutations, observer) {{\n",
       "        var display = window.getComputedStyle(gd).display;\n",
       "        if (!display || display === 'none') {{\n",
       "            console.log([gd, 'removed!']);\n",
       "            Plotly.purge(gd);\n",
       "            observer.disconnect();\n",
       "        }}\n",
       "}});\n",
       "\n",
       "// Listen for the removal of the full notebook cells\n",
       "var notebookContainer = gd.closest('#notebook-container');\n",
       "if (notebookContainer) {{\n",
       "    x.observe(notebookContainer, {childList: true});\n",
       "}}\n",
       "\n",
       "// Listen for the clearing of the current output cell\n",
       "var outputEl = gd.closest('.output');\n",
       "if (outputEl) {{\n",
       "    x.observe(outputEl, {childList: true});\n",
       "}}\n",
       "\n",
       "                        })                };                });            </script>        </div>"
      ]
     },
     "metadata": {},
     "output_type": "display_data"
    }
   ],
   "source": [
    "df['Release Year'] = df['Release Date'].dt.year\n",
    "\n",
    "# Prepare the data\n",
    "df['Release Year'] = df['Release Date'].dt.year\n",
    "X = df[['Release Year']].dropna()  \n",
    "y = df['Loudness'].dropna()  \n",
    "\n",
    "# Fit \n",
    "model = LinearRegression()\n",
    "model.fit(X, y)\n",
    "\n",
    "# Create a DataFrame for plotting\n",
    "df_plot = pd.DataFrame({\n",
    "    'Release Year': X['Release Year'],\n",
    "    'Loudness': y,\n",
    "    'Track Name': df['Track Name']  \n",
    "})\n",
    "\n",
    "\n",
    "fig = px.scatter(df_plot,\n",
    "                 x='Release Year',\n",
    "                 y='Loudness',\n",
    "                 hover_name='Track Name',  # Display track name on hover\n",
    "                 labels={'Release Year': 'Release Year', 'Loudness': 'Loudness'},\n",
    "                 title='Loudness vs. Release Year')\n",
    "\n",
    "\n",
    "fig.add_scatter(x=X['Release Year'],\n",
    "                y=model.predict(X),\n",
    "                mode='lines',\n",
    "                line=dict(color='red', width=1.2),\n",
    "                name='Regression Line')\n",
    "\n",
    "# Update the layout to make the plot larger\n",
    "fig.update_layout(\n",
    "    width=1000,  \n",
    "    height=600,  \n",
    "    xaxis_title='Release Year',\n",
    "    yaxis_title='Loudness',\n",
    "    title='Loudness vs. Release Year'\n",
    ")\n",
    "\n",
    "fig.show()"
   ]
  },
  {
   "cell_type": "markdown",
   "id": "fdab950b-9615-4f71-8ddd-7669c9165e5a",
   "metadata": {},
   "source": [
    "To calculate \"Bangerness,\" I use energy, valence, danceability, and negative acousticness. Loudness is adjusted to have more influence on older tracks. I apply intuitive weights to these factors based on insights gained from the dataset. The calculation is:\n",
    "\n",
    "**Bangerness = (3.6×Energy) + (0.1×Valence) + (0.6×Danceability) + (0.1×AdjustedLoudnessWeight×Loudness) − (0.2×Acousticness)**\n",
    "\n"
   ]
  },
  {
   "cell_type": "code",
   "execution_count": 9,
   "id": "0301035a-2e4f-4bf8-8303-ab156829bb6d",
   "metadata": {},
   "outputs": [
    {
     "data": {
      "text/html": [
       "<div>\n",
       "<style scoped>\n",
       "    .dataframe tbody tr th:only-of-type {\n",
       "        vertical-align: middle;\n",
       "    }\n",
       "\n",
       "    .dataframe tbody tr th {\n",
       "        vertical-align: top;\n",
       "    }\n",
       "\n",
       "    .dataframe thead th {\n",
       "        text-align: right;\n",
       "    }\n",
       "</style>\n",
       "<table border=\"1\" class=\"dataframe\">\n",
       "  <thead>\n",
       "    <tr style=\"text-align: right;\">\n",
       "      <th></th>\n",
       "      <th>Album Name</th>\n",
       "      <th>Track Name</th>\n",
       "      <th>Tempo (BPM)</th>\n",
       "      <th>Release Date</th>\n",
       "      <th>Instrumentalness</th>\n",
       "      <th>Popularity</th>\n",
       "      <th>Danceability</th>\n",
       "      <th>Energy</th>\n",
       "      <th>Valence</th>\n",
       "      <th>Loudness</th>\n",
       "      <th>Acousticness</th>\n",
       "      <th>Bangerness</th>\n",
       "    </tr>\n",
       "  </thead>\n",
       "  <tbody>\n",
       "    <tr>\n",
       "      <th>9</th>\n",
       "      <td>Digeridoo (Expanded Edition)</td>\n",
       "      <td>Flap Head - Cr7E Version</td>\n",
       "      <td>121.014</td>\n",
       "      <td>2024-05-31</td>\n",
       "      <td>0.937</td>\n",
       "      <td>24</td>\n",
       "      <td>0.675</td>\n",
       "      <td>0.994</td>\n",
       "      <td>0.552</td>\n",
       "      <td>-5.840</td>\n",
       "      <td>0.17400</td>\n",
       "      <td>1.000000</td>\n",
       "    </tr>\n",
       "    <tr>\n",
       "      <th>7</th>\n",
       "      <td>Digeridoo (Expanded Edition)</td>\n",
       "      <td>Phloam - Cr7E Version</td>\n",
       "      <td>132.169</td>\n",
       "      <td>2024-05-31</td>\n",
       "      <td>0.477</td>\n",
       "      <td>24</td>\n",
       "      <td>0.536</td>\n",
       "      <td>0.979</td>\n",
       "      <td>0.191</td>\n",
       "      <td>-8.182</td>\n",
       "      <td>0.00102</td>\n",
       "      <td>0.979356</td>\n",
       "    </tr>\n",
       "    <tr>\n",
       "      <th>5</th>\n",
       "      <td>Digeridoo (Expanded Edition)</td>\n",
       "      <td>Digeridoo - Cr7E Version, Live In Cornwall</td>\n",
       "      <td>142.803</td>\n",
       "      <td>2024-05-31</td>\n",
       "      <td>0.900</td>\n",
       "      <td>26</td>\n",
       "      <td>0.525</td>\n",
       "      <td>0.986</td>\n",
       "      <td>0.370</td>\n",
       "      <td>-8.186</td>\n",
       "      <td>0.55500</td>\n",
       "      <td>0.968315</td>\n",
       "    </tr>\n",
       "    <tr>\n",
       "      <th>63</th>\n",
       "      <td>Richard D. James Album</td>\n",
       "      <td>Carn Marth</td>\n",
       "      <td>166.895</td>\n",
       "      <td>1996-11-04</td>\n",
       "      <td>0.747</td>\n",
       "      <td>34</td>\n",
       "      <td>0.599</td>\n",
       "      <td>0.997</td>\n",
       "      <td>0.585</td>\n",
       "      <td>-3.264</td>\n",
       "      <td>0.05250</td>\n",
       "      <td>0.957530</td>\n",
       "    </tr>\n",
       "    <tr>\n",
       "      <th>17</th>\n",
       "      <td>Syro</td>\n",
       "      <td>CIRCLONT14 [152.97][shrymoming mix]</td>\n",
       "      <td>152.969</td>\n",
       "      <td>2014-09-22</td>\n",
       "      <td>0.928</td>\n",
       "      <td>34</td>\n",
       "      <td>0.671</td>\n",
       "      <td>0.978</td>\n",
       "      <td>0.178</td>\n",
       "      <td>-7.304</td>\n",
       "      <td>0.27900</td>\n",
       "      <td>0.949845</td>\n",
       "    </tr>\n",
       "    <tr>\n",
       "      <th>3</th>\n",
       "      <td>Digeridoo (Expanded Edition)</td>\n",
       "      <td>Isoprophlex - 2022 Remaster</td>\n",
       "      <td>135.609</td>\n",
       "      <td>2024-05-31</td>\n",
       "      <td>0.768</td>\n",
       "      <td>30</td>\n",
       "      <td>0.646</td>\n",
       "      <td>0.914</td>\n",
       "      <td>0.339</td>\n",
       "      <td>-9.003</td>\n",
       "      <td>0.23400</td>\n",
       "      <td>0.949663</td>\n",
       "    </tr>\n",
       "    <tr>\n",
       "      <th>20</th>\n",
       "      <td>Syro</td>\n",
       "      <td>s950tx16wasr10 [163.97][earth portal mix]</td>\n",
       "      <td>163.990</td>\n",
       "      <td>2014-09-22</td>\n",
       "      <td>0.871</td>\n",
       "      <td>36</td>\n",
       "      <td>0.686</td>\n",
       "      <td>0.920</td>\n",
       "      <td>0.743</td>\n",
       "      <td>-5.977</td>\n",
       "      <td>0.17200</td>\n",
       "      <td>0.937644</td>\n",
       "    </tr>\n",
       "    <tr>\n",
       "      <th>19</th>\n",
       "      <td>Syro</td>\n",
       "      <td>PAPAT4 [155][pineal mix]</td>\n",
       "      <td>155.019</td>\n",
       "      <td>2014-09-22</td>\n",
       "      <td>0.917</td>\n",
       "      <td>34</td>\n",
       "      <td>0.668</td>\n",
       "      <td>0.914</td>\n",
       "      <td>0.663</td>\n",
       "      <td>-6.606</td>\n",
       "      <td>0.39300</td>\n",
       "      <td>0.922267</td>\n",
       "    </tr>\n",
       "    <tr>\n",
       "      <th>36</th>\n",
       "      <td>Drukqs</td>\n",
       "      <td>54 Cymru Beats</td>\n",
       "      <td>168.012</td>\n",
       "      <td>2001-10-22</td>\n",
       "      <td>0.694</td>\n",
       "      <td>35</td>\n",
       "      <td>0.632</td>\n",
       "      <td>0.967</td>\n",
       "      <td>0.390</td>\n",
       "      <td>-6.048</td>\n",
       "      <td>0.01640</td>\n",
       "      <td>0.921096</td>\n",
       "    </tr>\n",
       "    <tr>\n",
       "      <th>23</th>\n",
       "      <td>Drukqs</td>\n",
       "      <td>Vordhosbn</td>\n",
       "      <td>170.071</td>\n",
       "      <td>2001-10-22</td>\n",
       "      <td>0.865</td>\n",
       "      <td>44</td>\n",
       "      <td>0.662</td>\n",
       "      <td>0.960</td>\n",
       "      <td>0.605</td>\n",
       "      <td>-6.619</td>\n",
       "      <td>0.04790</td>\n",
       "      <td>0.916346</td>\n",
       "    </tr>\n",
       "  </tbody>\n",
       "</table>\n",
       "</div>"
      ],
      "text/plain": [
       "                      Album Name                                  Track Name  \\\n",
       "9   Digeridoo (Expanded Edition)                    Flap Head - Cr7E Version   \n",
       "7   Digeridoo (Expanded Edition)                       Phloam - Cr7E Version   \n",
       "5   Digeridoo (Expanded Edition)  Digeridoo - Cr7E Version, Live In Cornwall   \n",
       "63        Richard D. James Album                                  Carn Marth   \n",
       "17                          Syro         CIRCLONT14 [152.97][shrymoming mix]   \n",
       "3   Digeridoo (Expanded Edition)                 Isoprophlex - 2022 Remaster   \n",
       "20                          Syro   s950tx16wasr10 [163.97][earth portal mix]   \n",
       "19                          Syro                    PAPAT4 [155][pineal mix]   \n",
       "36                        Drukqs                              54 Cymru Beats   \n",
       "23                        Drukqs                                   Vordhosbn   \n",
       "\n",
       "    Tempo (BPM) Release Date  Instrumentalness  Popularity  Danceability  \\\n",
       "9       121.014   2024-05-31             0.937          24         0.675   \n",
       "7       132.169   2024-05-31             0.477          24         0.536   \n",
       "5       142.803   2024-05-31             0.900          26         0.525   \n",
       "63      166.895   1996-11-04             0.747          34         0.599   \n",
       "17      152.969   2014-09-22             0.928          34         0.671   \n",
       "3       135.609   2024-05-31             0.768          30         0.646   \n",
       "20      163.990   2014-09-22             0.871          36         0.686   \n",
       "19      155.019   2014-09-22             0.917          34         0.668   \n",
       "36      168.012   2001-10-22             0.694          35         0.632   \n",
       "23      170.071   2001-10-22             0.865          44         0.662   \n",
       "\n",
       "    Energy  Valence  Loudness  Acousticness  Bangerness  \n",
       "9    0.994    0.552    -5.840       0.17400    1.000000  \n",
       "7    0.979    0.191    -8.182       0.00102    0.979356  \n",
       "5    0.986    0.370    -8.186       0.55500    0.968315  \n",
       "63   0.997    0.585    -3.264       0.05250    0.957530  \n",
       "17   0.978    0.178    -7.304       0.27900    0.949845  \n",
       "3    0.914    0.339    -9.003       0.23400    0.949663  \n",
       "20   0.920    0.743    -5.977       0.17200    0.937644  \n",
       "19   0.914    0.663    -6.606       0.39300    0.922267  \n",
       "36   0.967    0.390    -6.048       0.01640    0.921096  \n",
       "23   0.960    0.605    -6.619       0.04790    0.916346  "
      ]
     },
     "execution_count": 9,
     "metadata": {},
     "output_type": "execute_result"
    }
   ],
   "source": [
    "# Convert 'Release Date' to a numeric format\n",
    "df['Release Date Numeric'] = df['Release Date'].apply(lambda x: x.timestamp() if pd.notnull(x) else pd.NA)\n",
    "\n",
    "# Normalize 'Release Date'\n",
    "df['ReleaseDateNorm'] = (df['Release Date Numeric'] - df['Release Date Numeric'].min()) / (df['Release Date Numeric'].max() - df['Release Date Numeric'].min())\n",
    "\n",
    "# Calculate the weight for Loudness\n",
    "df['AdjustedLoudnessWeight'] = 1 - df['ReleaseDateNorm']\n",
    "\n",
    "# Calculate the raw Bangerness score with adjusted Loudness weight\n",
    "df['Bangerness'] = (3.6 * df['Energy'] +\n",
    "                    0.1 * df['Valence'] +\n",
    "                    0.6 * df['Danceability'] +\n",
    "                    0.1 * df['AdjustedLoudnessWeight'] * df['Loudness']) - 0.2 * df['Acousticness']\n",
    "\n",
    "# Normalize the Bangerness score \n",
    "min_bangerness = df['Bangerness'].min()\n",
    "max_bangerness = df['Bangerness'].max()\n",
    "df['Bangerness'] = (df['Bangerness'] - min_bangerness) / (max_bangerness - min_bangerness)\n",
    "\n",
    "# Sort DataFrame \n",
    "df_sorted = df.sort_values(['Bangerness'], ascending=False)\n",
    "\n",
    "# Clean Up\n",
    "df_sorted = df_sorted.drop(columns=['ReleaseDateNorm', 'AdjustedLoudnessWeight', 'Release Date Numeric'])\n",
    "\n",
    "# Remove Duplicate from the list\n",
    "df_sorted['First Word'] = df_sorted['Track Name'].str.split().str[0]\n",
    "df_sorted_unique = df_sorted.drop_duplicates(subset='First Word', keep='first')\n",
    "df_sorted_unique = df_sorted_unique.drop(columns=['First Word'])\n",
    "\n",
    "# Display the top 10 tracks \n",
    "df_sorted_unique[['Album Name', 'Track Name','Tempo (BPM)', 'Release Date', 'Instrumentalness', \n",
    "                  'Popularity', 'Danceability', 'Energy', 'Valence', 'Loudness', \n",
    "                  'Acousticness', 'Bangerness']].head(10)"
   ]
  },
  {
   "cell_type": "markdown",
   "id": "da5b85c7-e752-40bc-a32e-d45b70edd292",
   "metadata": {},
   "source": [
    "Above, you can find the top 10 tracks with the highest \"Bangerness\" score according to my calculation. Here's a link to the playlist:\n",
    "\n",
    "Listen to the Playlist"
   ]
  },
  {
   "cell_type": "markdown",
   "id": "c823ff98-87f6-407e-8813-9984e147f97e",
   "metadata": {},
   "source": [
    "# Popularity"
   ]
  },
  {
   "cell_type": "markdown",
   "id": "c4b3e265-3508-49a1-a85f-208bef38137f",
   "metadata": {},
   "source": [
    "The analysis below shows a slight decline in popularity as the \"Bangerness\" score increases. Although the Mean Squared Error of 87.35 suggests a high level of prediction error, the overall trend still offers useful insight. It indicates that tracks with higher \"Bangerness\" don’t always become more popular. This aligns with my hunch that Spotify is often used for background music, which might explain why more energetic or demanding tracks aren’t as popular. (Can you imagine something like **[Phloam](https://www.youtube.com/watch?v=k034En2FVoo)** being featured in a playlist called \"10 Tracks to Study and Focus On a Rainy Day\"?)"
   ]
  },
  {
   "cell_type": "code",
   "execution_count": 34,
   "id": "46db7e22-fc20-461a-883e-e96ec7c768bc",
   "metadata": {},
   "outputs": [
    {
     "data": {
      "application/vnd.plotly.v1+json": {
       "config": {
        "plotlyServerURL": "https://plot.ly"
       },
       "data": [
        {
         "customdata": [
          [
           "Flap Head - Cr7E Version"
          ],
          [
           "Phloam - Cr7E Version"
          ],
          [
           "Digeridoo - Cr7E Version, Live In Cornwall"
          ],
          [
           "Carn Marth"
          ],
          [
           "CIRCLONT14 [152.97][shrymoming mix]"
          ],
          [
           "Isoprophlex - 2022 Remaster"
          ],
          [
           "s950tx16wasr10 [163.97][earth portal mix]"
          ],
          [
           "PAPAT4 [155][pineal mix]"
          ],
          [
           "54 Cymru Beats"
          ],
          [
           "Vordhosbn"
          ],
          [
           "Afx237 v.7"
          ],
          [
           "CIRCLONT6A [141.98][syrobonkus mix]"
          ],
          [
           "Cornish Acid"
          ],
          [
           "Omgyjya-Switch7"
          ],
          [
           "To Cure A Weakling Child"
          ],
          [
           "Start As You Mean To Go On"
          ],
          [
           "Cock/ver10"
          ],
          [
           "Mt Saint Michel + Saint Michaels Mount"
          ],
          [
           "Ventolin - Video Edit"
          ],
          [
           "minipops 67 [120.2][source field mix]"
          ],
          [
           "Yellow Calx"
          ],
          [
           "XMAS_EVET10 [120][thanaton3 mix]"
          ],
          [
           "Bucephalus Bouncing Ball [Chosen by Warp co-founder Steve Beckett]"
          ],
          [
           "Meltphace 6"
          ],
          [
           "4 bit 9d api+e+6 [126.26]"
          ],
          [
           "Acrid Avid Jam Shred"
          ],
          [
           "Come On You Slags"
          ],
          [
           "syro u473t8+e [141.98][piezoluminescence mix]"
          ],
          [
           "Ziggomatic 17"
          ],
          [
           "Wax The Nip"
          ],
          [
           "Peek 82454201"
          ],
          [
           "180db_ [130]"
          ],
          [
           "Green Calx"
          ],
          [
           "Hedphelym"
          ],
          [
           "Icct Hedral"
          ],
          [
           "produk 29 [101]"
          ],
          [
           "#15"
          ],
          [
           "Taking Control"
          ],
          [
           "Cow Cud Is A Twin"
          ],
          [
           "Ptolemy"
          ],
          [
           "Logan Rock Witch"
          ],
          [
           "Girl/Boy Song"
          ],
          [
           "Flim"
          ],
          [
           "Funny Little Man"
          ],
          [
           "Alberto Balsalm"
          ],
          [
           "Fingerbib"
          ],
          [
           "Bbydhyonchord"
          ],
          [
           "We Are the Music Makers"
          ],
          [
           "Kladfvgbung Mischk"
          ],
          [
           "Wet Tip Hen Ax"
          ],
          [
           "Schottkey 7th Path"
          ],
          [
           "Heliosphan"
          ],
          [
           "IZ-US"
          ],
          [
           "Xtal"
          ],
          [
           "Orban Eq Trx 4"
          ],
          [
           "Pulsewidth"
          ],
          [
           "Hy A Scullyas Lyf Adhagrow"
          ],
          [
           "Mookid"
          ],
          [
           "#12"
          ],
          [
           "The Waxen Pith"
          ],
          [
           "fz pseudotimestretch+e+3 [138.85]"
          ],
          [
           "Delphium"
          ],
          [
           "Ageispolis"
          ],
          [
           "Actium"
          ],
          [
           "Prep Gwarek 36"
          ],
          [
           "Goon Gumpas"
          ],
          [
           "Kesson Dalek"
          ],
          [
           "Jynweythek"
          ],
          [
           "#16"
          ],
          [
           "Tha"
          ],
          [
           "Btoum-Roumada"
          ],
          [
           "Lornaderek"
          ],
          [
           "Ruglen Holon"
          ],
          [
           "Beskhu3epnm"
          ],
          [
           "Gwarek2"
          ],
          [
           "#24"
          ],
          [
           "#19"
          ],
          [
           "#4"
          ],
          [
           "#18"
          ],
          [
           "aisatsana [102]"
          ],
          [
           "Father"
          ],
          [
           "#8"
          ],
          [
           "Next Heap With"
          ],
          [
           "#9"
          ],
          [
           "#17"
          ],
          [
           "Gwely Mernans"
          ],
          [
           "#1"
          ],
          [
           "QKThr"
          ],
          [
           "Strotha Tynhe"
          ],
          [
           "#2"
          ],
          [
           "#22"
          ],
          [
           "Avril 14th"
          ],
          [
           "Bit 4"
          ],
          [
           "Nanou2"
          ],
          [
           "#21"
          ],
          [
           "Petiatil Cx Htdui"
          ],
          [
           "#23"
          ],
          [
           "#13"
          ],
          [
           "#3"
          ],
          [
           "#5"
          ],
          [
           "#20"
          ],
          [
           "#6"
          ],
          [
           "I"
          ],
          [
           "#11"
          ],
          [
           "#7"
          ],
          [
           "#14"
          ],
          [
           "#10"
          ]
         ],
         "hovertemplate": "Bangerness=%{x}<br>Popularity=%{y}<br>Track Name=%{customdata[0]}<extra></extra>",
         "legendgroup": "",
         "marker": {
          "color": "#636efa",
          "symbol": "circle"
         },
         "mode": "markers",
         "name": "",
         "orientation": "v",
         "showlegend": false,
         "type": "scatter",
         "x": [
          1,
          0.9793564218167101,
          0.9683147291029963,
          0.9575295431757688,
          0.9498450298705194,
          0.9496632211406423,
          0.9376438416125396,
          0.9222669338232845,
          0.9210956344724648,
          0.9163459842174692,
          0.9097062889950988,
          0.9055027811257136,
          0.900985761779201,
          0.9004998143934537,
          0.8871566238102511,
          0.8828588656332634,
          0.8781891558735619,
          0.877573440426987,
          0.8749990861202012,
          0.8721614424318416,
          0.864986708002818,
          0.8649220135640657,
          0.863290939067115,
          0.850587838500562,
          0.8491544968207997,
          0.8465090955983068,
          0.8433986705686831,
          0.8409767680883644,
          0.8047669775876328,
          0.7913595334179337,
          0.7871289184250427,
          0.7809800737472087,
          0.7726685845455338,
          0.7717055425407843,
          0.749872702116234,
          0.7460615152191058,
          0.7401503419655112,
          0.7382957918900235,
          0.7310920554285409,
          0.7009903490081487,
          0.6772290082024256,
          0.6730959074612812,
          0.6686024062222724,
          0.6408170153983784,
          0.6123487212539896,
          0.6120667987555499,
          0.6075396403361762,
          0.5790555286647644,
          0.5766945658215563,
          0.5691847334209543,
          0.5679300156284152,
          0.5410242865327608,
          0.5278484502675873,
          0.5211986995831351,
          0.5168147947338685,
          0.5071840605325375,
          0.49975961227088433,
          0.4904560136347178,
          0.4832783647415077,
          0.47907076959482436,
          0.47732155626610634,
          0.4473387280522124,
          0.41830984801830967,
          0.4001199463008246,
          0.39542062323552196,
          0.39173475501595717,
          0.37696283381567247,
          0.37039153165652294,
          0.36867016117074664,
          0.3605430811982355,
          0.32526397326497186,
          0.3239991738111312,
          0.3239939881290249,
          0.302432315927028,
          0.30061103194557104,
          0.29689859670949287,
          0.29317248157600106,
          0.28670041664517176,
          0.28276411474422253,
          0.25825927421334566,
          0.24923611718991262,
          0.22541568026273573,
          0.18885119741914794,
          0.18524554869137633,
          0.18165456674028244,
          0.17394657767453742,
          0.16842001361507195,
          0.1568224095320577,
          0.15147642321701332,
          0.14596221183775587,
          0.14582508915210635,
          0.13229694039051101,
          0.12839314731277915,
          0.1118697325044534,
          0.11071274076419964,
          0.10992337462172044,
          0.10896593650412288,
          0.07787052781477057,
          0.05387307157662376,
          0.04618169961793609,
          0.041007232918991485,
          0.0380439341424908,
          0.031016263869401123,
          0.03038586000660067,
          0.016225783167019853,
          0.0006282749242783206,
          0
         ],
         "xaxis": "x",
         "y": [
          24,
          24,
          26,
          34,
          34,
          30,
          36,
          34,
          35,
          44,
          32,
          36,
          38,
          37,
          35,
          29,
          41,
          38,
          29,
          42,
          37,
          39,
          37,
          33,
          36,
          40,
          30,
          34,
          30,
          31,
          35,
          55,
          44,
          41,
          31,
          40,
          31,
          31,
          34,
          44,
          32,
          39,
          57,
          31,
          55,
          51,
          43,
          45,
          37,
          28,
          43,
          50,
          52,
          61,
          32,
          54,
          34,
          37,
          31,
          33,
          34,
          41,
          54,
          43,
          29,
          38,
          35,
          47,
          30,
          50,
          36,
          37,
          32,
          29,
          32,
          30,
          35,
          37,
          31,
          58,
          30,
          35,
          28,
          35,
          42,
          36,
          44,
          71,
          38,
          38,
          28,
          64,
          5,
          46,
          32,
          43,
          28,
          43,
          61,
          36,
          51,
          35,
          56,
          35,
          43,
          35,
          33
         ],
         "yaxis": "y"
        },
        {
         "line": {
          "color": "red",
          "width": 2
         },
         "mode": "lines",
         "name": "Regression Line",
         "type": "scatter",
         "x": [
          1,
          0.9793564218167101,
          0.9683147291029963,
          0.9575295431757688,
          0.9498450298705194,
          0.9496632211406423,
          0.9376438416125396,
          0.9222669338232845,
          0.9210956344724648,
          0.9163459842174692,
          0.9097062889950988,
          0.9055027811257136,
          0.900985761779201,
          0.9004998143934537,
          0.8871566238102511,
          0.8828588656332634,
          0.8781891558735619,
          0.877573440426987,
          0.8749990861202012,
          0.8721614424318416,
          0.864986708002818,
          0.8649220135640657,
          0.863290939067115,
          0.850587838500562,
          0.8491544968207997,
          0.8465090955983068,
          0.8433986705686831,
          0.8409767680883644,
          0.8047669775876328,
          0.7913595334179337,
          0.7871289184250427,
          0.7809800737472087,
          0.7726685845455338,
          0.7717055425407843,
          0.749872702116234,
          0.7460615152191058,
          0.7401503419655112,
          0.7382957918900235,
          0.7310920554285409,
          0.7009903490081487,
          0.6772290082024256,
          0.6730959074612812,
          0.6686024062222724,
          0.6408170153983784,
          0.6123487212539896,
          0.6120667987555499,
          0.6075396403361762,
          0.5790555286647644,
          0.5766945658215563,
          0.5691847334209543,
          0.5679300156284152,
          0.5410242865327608,
          0.5278484502675873,
          0.5211986995831351,
          0.5168147947338685,
          0.5071840605325375,
          0.49975961227088433,
          0.4904560136347178,
          0.4832783647415077,
          0.47907076959482436,
          0.47732155626610634,
          0.4473387280522124,
          0.41830984801830967,
          0.4001199463008246,
          0.39542062323552196,
          0.39173475501595717,
          0.37696283381567247,
          0.37039153165652294,
          0.36867016117074664,
          0.3605430811982355,
          0.32526397326497186,
          0.3239991738111312,
          0.3239939881290249,
          0.302432315927028,
          0.30061103194557104,
          0.29689859670949287,
          0.29317248157600106,
          0.28670041664517176,
          0.28276411474422253,
          0.25825927421334566,
          0.24923611718991262,
          0.22541568026273573,
          0.18885119741914794,
          0.18524554869137633,
          0.18165456674028244,
          0.17394657767453742,
          0.16842001361507195,
          0.1568224095320577,
          0.15147642321701332,
          0.14596221183775587,
          0.14582508915210635,
          0.13229694039051101,
          0.12839314731277915,
          0.1118697325044534,
          0.11071274076419964,
          0.10992337462172044,
          0.10896593650412288,
          0.07787052781477057,
          0.05387307157662376,
          0.04618169961793609,
          0.041007232918991485,
          0.0380439341424908,
          0.031016263869401123,
          0.03038586000660067,
          0.016225783167019853,
          0.0006282749242783206,
          0
         ],
         "y": [
          35.41825145856076,
          35.53704520461529,
          35.600584772639735,
          35.66264826893938,
          35.70686890327085,
          35.707915124032375,
          35.777080803873204,
          35.865567424884446,
          35.87230768262464,
          35.89963960838044,
          35.93784782311543,
          35.96203696522734,
          35.98803021331683,
          35.99082660403097,
          36.06761017224887,
          36.09234167901324,
          36.11921358612241,
          36.122756728873775,
          36.13757088507574,
          36.15390014353642,
          36.19518724852387,
          36.195559533534734,
          36.20494557348704,
          36.27804573516491,
          36.286293918982814,
          36.30151691560903,
          36.31941589793709,
          36.333352768069844,
          36.54172249056852,
          36.61887580690709,
          36.643220937322845,
          36.67860454605104,
          36.72643312154276,
          36.7319749596067,
          36.857612331094096,
          36.87954385693734,
          36.913559782284054,
          36.924231815434354,
          36.9656858130045,
          37.13890648417703,
          37.27564143683534,
          37.29942542018851,
          37.325283333014625,
          37.48517473518595,
          37.64899591362544,
          37.65061824040374,
          37.67666983392327,
          37.84058203453303,
          37.85416822671105,
          37.897383657446376,
          37.90460394772229,
          38.0594333247432,
          38.13525385030539,
          38.17351992933108,
          38.19874716827033,
          38.254167356712166,
          38.29689144328083,
          38.35042912574872,
          38.39173300205921,
          38.41594566446286,
          38.42601153589862,
          38.59854812084594,
          38.76559519826522,
          38.87026923036363,
          38.89731154763495,
          38.91852192547632,
          39.003527143090416,
          39.041341789030696,
          39.0512474384553,
          39.09801482857766,
          39.301028925825925,
          39.3083072311563,
          39.30833707223316,
          39.43241400256632,
          39.442894605534725,
          39.46425786362704,
          39.485699842871526,
          39.52294342685755,
          39.5455949286594,
          39.686608360404875,
          39.73853223787101,
          39.87560725994861,
          40.08601806426607,
          40.10676681797174,
          40.12743117151535,
          40.17178689742378,
          40.20358958403194,
          40.270328151447245,
          40.30109170101611,
          40.33282330396122,
          40.333612378285096,
          40.41146029080802,
          40.43392472015297,
          40.529008931100606,
          40.53566685550492,
          40.54020927350248,
          40.54571886392304,
          40.72465780805894,
          40.86275149012307,
          40.90701159266725,
          40.93678813031709,
          40.9538404726588,
          40.994281294999,
          40.99790896243748,
          41.0793933135155,
          41.16914938277929,
          41.17276479921264
         ]
        }
       ],
       "layout": {
        "height": 600,
        "legend": {
         "tracegroupgap": 0
        },
        "template": {
         "data": {
          "bar": [
           {
            "error_x": {
             "color": "#2a3f5f"
            },
            "error_y": {
             "color": "#2a3f5f"
            },
            "marker": {
             "line": {
              "color": "#E5ECF6",
              "width": 0.5
             },
             "pattern": {
              "fillmode": "overlay",
              "size": 10,
              "solidity": 0.2
             }
            },
            "type": "bar"
           }
          ],
          "barpolar": [
           {
            "marker": {
             "line": {
              "color": "#E5ECF6",
              "width": 0.5
             },
             "pattern": {
              "fillmode": "overlay",
              "size": 10,
              "solidity": 0.2
             }
            },
            "type": "barpolar"
           }
          ],
          "carpet": [
           {
            "aaxis": {
             "endlinecolor": "#2a3f5f",
             "gridcolor": "white",
             "linecolor": "white",
             "minorgridcolor": "white",
             "startlinecolor": "#2a3f5f"
            },
            "baxis": {
             "endlinecolor": "#2a3f5f",
             "gridcolor": "white",
             "linecolor": "white",
             "minorgridcolor": "white",
             "startlinecolor": "#2a3f5f"
            },
            "type": "carpet"
           }
          ],
          "choropleth": [
           {
            "colorbar": {
             "outlinewidth": 0,
             "ticks": ""
            },
            "type": "choropleth"
           }
          ],
          "contour": [
           {
            "colorbar": {
             "outlinewidth": 0,
             "ticks": ""
            },
            "colorscale": [
             [
              0,
              "#0d0887"
             ],
             [
              0.1111111111111111,
              "#46039f"
             ],
             [
              0.2222222222222222,
              "#7201a8"
             ],
             [
              0.3333333333333333,
              "#9c179e"
             ],
             [
              0.4444444444444444,
              "#bd3786"
             ],
             [
              0.5555555555555556,
              "#d8576b"
             ],
             [
              0.6666666666666666,
              "#ed7953"
             ],
             [
              0.7777777777777778,
              "#fb9f3a"
             ],
             [
              0.8888888888888888,
              "#fdca26"
             ],
             [
              1,
              "#f0f921"
             ]
            ],
            "type": "contour"
           }
          ],
          "contourcarpet": [
           {
            "colorbar": {
             "outlinewidth": 0,
             "ticks": ""
            },
            "type": "contourcarpet"
           }
          ],
          "heatmap": [
           {
            "colorbar": {
             "outlinewidth": 0,
             "ticks": ""
            },
            "colorscale": [
             [
              0,
              "#0d0887"
             ],
             [
              0.1111111111111111,
              "#46039f"
             ],
             [
              0.2222222222222222,
              "#7201a8"
             ],
             [
              0.3333333333333333,
              "#9c179e"
             ],
             [
              0.4444444444444444,
              "#bd3786"
             ],
             [
              0.5555555555555556,
              "#d8576b"
             ],
             [
              0.6666666666666666,
              "#ed7953"
             ],
             [
              0.7777777777777778,
              "#fb9f3a"
             ],
             [
              0.8888888888888888,
              "#fdca26"
             ],
             [
              1,
              "#f0f921"
             ]
            ],
            "type": "heatmap"
           }
          ],
          "heatmapgl": [
           {
            "colorbar": {
             "outlinewidth": 0,
             "ticks": ""
            },
            "colorscale": [
             [
              0,
              "#0d0887"
             ],
             [
              0.1111111111111111,
              "#46039f"
             ],
             [
              0.2222222222222222,
              "#7201a8"
             ],
             [
              0.3333333333333333,
              "#9c179e"
             ],
             [
              0.4444444444444444,
              "#bd3786"
             ],
             [
              0.5555555555555556,
              "#d8576b"
             ],
             [
              0.6666666666666666,
              "#ed7953"
             ],
             [
              0.7777777777777778,
              "#fb9f3a"
             ],
             [
              0.8888888888888888,
              "#fdca26"
             ],
             [
              1,
              "#f0f921"
             ]
            ],
            "type": "heatmapgl"
           }
          ],
          "histogram": [
           {
            "marker": {
             "pattern": {
              "fillmode": "overlay",
              "size": 10,
              "solidity": 0.2
             }
            },
            "type": "histogram"
           }
          ],
          "histogram2d": [
           {
            "colorbar": {
             "outlinewidth": 0,
             "ticks": ""
            },
            "colorscale": [
             [
              0,
              "#0d0887"
             ],
             [
              0.1111111111111111,
              "#46039f"
             ],
             [
              0.2222222222222222,
              "#7201a8"
             ],
             [
              0.3333333333333333,
              "#9c179e"
             ],
             [
              0.4444444444444444,
              "#bd3786"
             ],
             [
              0.5555555555555556,
              "#d8576b"
             ],
             [
              0.6666666666666666,
              "#ed7953"
             ],
             [
              0.7777777777777778,
              "#fb9f3a"
             ],
             [
              0.8888888888888888,
              "#fdca26"
             ],
             [
              1,
              "#f0f921"
             ]
            ],
            "type": "histogram2d"
           }
          ],
          "histogram2dcontour": [
           {
            "colorbar": {
             "outlinewidth": 0,
             "ticks": ""
            },
            "colorscale": [
             [
              0,
              "#0d0887"
             ],
             [
              0.1111111111111111,
              "#46039f"
             ],
             [
              0.2222222222222222,
              "#7201a8"
             ],
             [
              0.3333333333333333,
              "#9c179e"
             ],
             [
              0.4444444444444444,
              "#bd3786"
             ],
             [
              0.5555555555555556,
              "#d8576b"
             ],
             [
              0.6666666666666666,
              "#ed7953"
             ],
             [
              0.7777777777777778,
              "#fb9f3a"
             ],
             [
              0.8888888888888888,
              "#fdca26"
             ],
             [
              1,
              "#f0f921"
             ]
            ],
            "type": "histogram2dcontour"
           }
          ],
          "mesh3d": [
           {
            "colorbar": {
             "outlinewidth": 0,
             "ticks": ""
            },
            "type": "mesh3d"
           }
          ],
          "parcoords": [
           {
            "line": {
             "colorbar": {
              "outlinewidth": 0,
              "ticks": ""
             }
            },
            "type": "parcoords"
           }
          ],
          "pie": [
           {
            "automargin": true,
            "type": "pie"
           }
          ],
          "scatter": [
           {
            "fillpattern": {
             "fillmode": "overlay",
             "size": 10,
             "solidity": 0.2
            },
            "type": "scatter"
           }
          ],
          "scatter3d": [
           {
            "line": {
             "colorbar": {
              "outlinewidth": 0,
              "ticks": ""
             }
            },
            "marker": {
             "colorbar": {
              "outlinewidth": 0,
              "ticks": ""
             }
            },
            "type": "scatter3d"
           }
          ],
          "scattercarpet": [
           {
            "marker": {
             "colorbar": {
              "outlinewidth": 0,
              "ticks": ""
             }
            },
            "type": "scattercarpet"
           }
          ],
          "scattergeo": [
           {
            "marker": {
             "colorbar": {
              "outlinewidth": 0,
              "ticks": ""
             }
            },
            "type": "scattergeo"
           }
          ],
          "scattergl": [
           {
            "marker": {
             "colorbar": {
              "outlinewidth": 0,
              "ticks": ""
             }
            },
            "type": "scattergl"
           }
          ],
          "scattermapbox": [
           {
            "marker": {
             "colorbar": {
              "outlinewidth": 0,
              "ticks": ""
             }
            },
            "type": "scattermapbox"
           }
          ],
          "scatterpolar": [
           {
            "marker": {
             "colorbar": {
              "outlinewidth": 0,
              "ticks": ""
             }
            },
            "type": "scatterpolar"
           }
          ],
          "scatterpolargl": [
           {
            "marker": {
             "colorbar": {
              "outlinewidth": 0,
              "ticks": ""
             }
            },
            "type": "scatterpolargl"
           }
          ],
          "scatterternary": [
           {
            "marker": {
             "colorbar": {
              "outlinewidth": 0,
              "ticks": ""
             }
            },
            "type": "scatterternary"
           }
          ],
          "surface": [
           {
            "colorbar": {
             "outlinewidth": 0,
             "ticks": ""
            },
            "colorscale": [
             [
              0,
              "#0d0887"
             ],
             [
              0.1111111111111111,
              "#46039f"
             ],
             [
              0.2222222222222222,
              "#7201a8"
             ],
             [
              0.3333333333333333,
              "#9c179e"
             ],
             [
              0.4444444444444444,
              "#bd3786"
             ],
             [
              0.5555555555555556,
              "#d8576b"
             ],
             [
              0.6666666666666666,
              "#ed7953"
             ],
             [
              0.7777777777777778,
              "#fb9f3a"
             ],
             [
              0.8888888888888888,
              "#fdca26"
             ],
             [
              1,
              "#f0f921"
             ]
            ],
            "type": "surface"
           }
          ],
          "table": [
           {
            "cells": {
             "fill": {
              "color": "#EBF0F8"
             },
             "line": {
              "color": "white"
             }
            },
            "header": {
             "fill": {
              "color": "#C8D4E3"
             },
             "line": {
              "color": "white"
             }
            },
            "type": "table"
           }
          ]
         },
         "layout": {
          "annotationdefaults": {
           "arrowcolor": "#2a3f5f",
           "arrowhead": 0,
           "arrowwidth": 1
          },
          "autotypenumbers": "strict",
          "coloraxis": {
           "colorbar": {
            "outlinewidth": 0,
            "ticks": ""
           }
          },
          "colorscale": {
           "diverging": [
            [
             0,
             "#8e0152"
            ],
            [
             0.1,
             "#c51b7d"
            ],
            [
             0.2,
             "#de77ae"
            ],
            [
             0.3,
             "#f1b6da"
            ],
            [
             0.4,
             "#fde0ef"
            ],
            [
             0.5,
             "#f7f7f7"
            ],
            [
             0.6,
             "#e6f5d0"
            ],
            [
             0.7,
             "#b8e186"
            ],
            [
             0.8,
             "#7fbc41"
            ],
            [
             0.9,
             "#4d9221"
            ],
            [
             1,
             "#276419"
            ]
           ],
           "sequential": [
            [
             0,
             "#0d0887"
            ],
            [
             0.1111111111111111,
             "#46039f"
            ],
            [
             0.2222222222222222,
             "#7201a8"
            ],
            [
             0.3333333333333333,
             "#9c179e"
            ],
            [
             0.4444444444444444,
             "#bd3786"
            ],
            [
             0.5555555555555556,
             "#d8576b"
            ],
            [
             0.6666666666666666,
             "#ed7953"
            ],
            [
             0.7777777777777778,
             "#fb9f3a"
            ],
            [
             0.8888888888888888,
             "#fdca26"
            ],
            [
             1,
             "#f0f921"
            ]
           ],
           "sequentialminus": [
            [
             0,
             "#0d0887"
            ],
            [
             0.1111111111111111,
             "#46039f"
            ],
            [
             0.2222222222222222,
             "#7201a8"
            ],
            [
             0.3333333333333333,
             "#9c179e"
            ],
            [
             0.4444444444444444,
             "#bd3786"
            ],
            [
             0.5555555555555556,
             "#d8576b"
            ],
            [
             0.6666666666666666,
             "#ed7953"
            ],
            [
             0.7777777777777778,
             "#fb9f3a"
            ],
            [
             0.8888888888888888,
             "#fdca26"
            ],
            [
             1,
             "#f0f921"
            ]
           ]
          },
          "colorway": [
           "#636efa",
           "#EF553B",
           "#00cc96",
           "#ab63fa",
           "#FFA15A",
           "#19d3f3",
           "#FF6692",
           "#B6E880",
           "#FF97FF",
           "#FECB52"
          ],
          "font": {
           "color": "#2a3f5f"
          },
          "geo": {
           "bgcolor": "white",
           "lakecolor": "white",
           "landcolor": "#E5ECF6",
           "showlakes": true,
           "showland": true,
           "subunitcolor": "white"
          },
          "hoverlabel": {
           "align": "left"
          },
          "hovermode": "closest",
          "mapbox": {
           "style": "light"
          },
          "paper_bgcolor": "white",
          "plot_bgcolor": "#E5ECF6",
          "polar": {
           "angularaxis": {
            "gridcolor": "white",
            "linecolor": "white",
            "ticks": ""
           },
           "bgcolor": "#E5ECF6",
           "radialaxis": {
            "gridcolor": "white",
            "linecolor": "white",
            "ticks": ""
           }
          },
          "scene": {
           "xaxis": {
            "backgroundcolor": "#E5ECF6",
            "gridcolor": "white",
            "gridwidth": 2,
            "linecolor": "white",
            "showbackground": true,
            "ticks": "",
            "zerolinecolor": "white"
           },
           "yaxis": {
            "backgroundcolor": "#E5ECF6",
            "gridcolor": "white",
            "gridwidth": 2,
            "linecolor": "white",
            "showbackground": true,
            "ticks": "",
            "zerolinecolor": "white"
           },
           "zaxis": {
            "backgroundcolor": "#E5ECF6",
            "gridcolor": "white",
            "gridwidth": 2,
            "linecolor": "white",
            "showbackground": true,
            "ticks": "",
            "zerolinecolor": "white"
           }
          },
          "shapedefaults": {
           "line": {
            "color": "#2a3f5f"
           }
          },
          "ternary": {
           "aaxis": {
            "gridcolor": "white",
            "linecolor": "white",
            "ticks": ""
           },
           "baxis": {
            "gridcolor": "white",
            "linecolor": "white",
            "ticks": ""
           },
           "bgcolor": "#E5ECF6",
           "caxis": {
            "gridcolor": "white",
            "linecolor": "white",
            "ticks": ""
           }
          },
          "title": {
           "x": 0.05
          },
          "xaxis": {
           "automargin": true,
           "gridcolor": "white",
           "linecolor": "white",
           "ticks": "",
           "title": {
            "standoff": 15
           },
           "zerolinecolor": "white",
           "zerolinewidth": 2
          },
          "yaxis": {
           "automargin": true,
           "gridcolor": "white",
           "linecolor": "white",
           "ticks": "",
           "title": {
            "standoff": 15
           },
           "zerolinecolor": "white",
           "zerolinewidth": 2
          }
         }
        },
        "title": {
         "text": "SLR: Bangerness vs. Popularity"
        },
        "width": 1000,
        "xaxis": {
         "anchor": "y",
         "autorange": true,
         "domain": [
          0,
          1
         ],
         "range": [
          -0.06177260519247985,
          1.0617726051924798
         ],
         "title": {
          "text": "Bangerness"
         },
         "type": "linear"
        },
        "yaxis": {
         "anchor": "x",
         "autorange": true,
         "domain": [
          0,
          1
         ],
         "range": [
          0.5910931174089074,
          75.4089068825911
         ],
         "title": {
          "text": "Popularity"
         },
         "type": "linear"
        }
       }
      },
      "image/png": "[encoded data removed]",
      "text/html": [
       "<div>                            <div id=\"6382e1c2-8c7d-4906-aaab-068822f3306b\" class=\"plotly-graph-div\" style=\"height:600px; width:1000px;\"></div>            <script type=\"text/javascript\">                require([\"plotly\"], function(Plotly) {                    window.PLOTLYENV=window.PLOTLYENV || {};                                    if (document.getElementById(\"6382e1c2-8c7d-4906-aaab-068822f3306b\")) {                    Plotly.newPlot(                        \"6382e1c2-8c7d-4906-aaab-068822f3306b\",                        [{\"customdata\":[[\"Flap Head - Cr7E Version\"],[\"Phloam - Cr7E Version\"],[\"Digeridoo - Cr7E Version, Live In Cornwall\"],[\"Carn Marth\"],[\"CIRCLONT14 [152.97][shrymoming mix]\"],[\"Isoprophlex - 2022 Remaster\"],[\"s950tx16wasr10 [163.97][earth portal mix]\"],[\"PAPAT4 [155][pineal mix]\"],[\"54 Cymru Beats\"],[\"Vordhosbn\"],[\"Afx237 v.7\"],[\"CIRCLONT6A [141.98][syrobonkus mix]\"],[\"Cornish Acid\"],[\"Omgyjya-Switch7\"],[\"To Cure A Weakling Child\"],[\"Start As You Mean To Go On\"],[\"Cock\\u002fver10\"],[\"Mt Saint Michel + Saint Michaels Mount\"],[\"Ventolin - Video Edit\"],[\"minipops 67 [120.2][source field mix]\"],[\"Yellow Calx\"],[\"XMAS_EVET10 [120][thanaton3 mix]\"],[\"Bucephalus Bouncing Ball [Chosen by Warp co-founder Steve Beckett]\"],[\"Meltphace 6\"],[\"4 bit 9d api+e+6 [126.26]\"],[\"Acrid Avid Jam Shred\"],[\"Come On You Slags\"],[\"syro u473t8+e [141.98][piezoluminescence mix]\"],[\"Ziggomatic 17\"],[\"Wax The Nip\"],[\"Peek 82454201\"],[\"180db_ [130]\"],[\"Green Calx\"],[\"Hedphelym\"],[\"Icct Hedral\"],[\"produk 29 [101]\"],[\"#15\"],[\"Taking Control\"],[\"Cow Cud Is A Twin\"],[\"Ptolemy\"],[\"Logan Rock Witch\"],[\"Girl\\u002fBoy Song\"],[\"Flim\"],[\"Funny Little Man\"],[\"Alberto Balsalm\"],[\"Fingerbib\"],[\"Bbydhyonchord\"],[\"We Are the Music Makers\"],[\"Kladfvgbung Mischk\"],[\"Wet Tip Hen Ax\"],[\"Schottkey 7th Path\"],[\"Heliosphan\"],[\"IZ-US\"],[\"Xtal\"],[\"Orban Eq Trx 4\"],[\"Pulsewidth\"],[\"Hy A Scullyas Lyf Adhagrow\"],[\"Mookid\"],[\"#12\"],[\"The Waxen Pith\"],[\"fz pseudotimestretch+e+3 [138.85]\"],[\"Delphium\"],[\"Ageispolis\"],[\"Actium\"],[\"Prep Gwarek 36\"],[\"Goon Gumpas\"],[\"Kesson Dalek\"],[\"Jynweythek\"],[\"#16\"],[\"Tha\"],[\"Btoum-Roumada\"],[\"Lornaderek\"],[\"Ruglen Holon\"],[\"Beskhu3epnm\"],[\"Gwarek2\"],[\"#24\"],[\"#19\"],[\"#4\"],[\"#18\"],[\"aisatsana [102]\"],[\"Father\"],[\"#8\"],[\"Next Heap With\"],[\"#9\"],[\"#17\"],[\"Gwely Mernans\"],[\"#1\"],[\"QKThr\"],[\"Strotha Tynhe\"],[\"#2\"],[\"#22\"],[\"Avril 14th\"],[\"Bit 4\"],[\"Nanou2\"],[\"#21\"],[\"Petiatil Cx Htdui\"],[\"#23\"],[\"#13\"],[\"#3\"],[\"#5\"],[\"#20\"],[\"#6\"],[\"I\"],[\"#11\"],[\"#7\"],[\"#14\"],[\"#10\"]],\"hovertemplate\":\"Bangerness=%{x}\\u003cbr\\u003ePopularity=%{y}\\u003cbr\\u003eTrack Name=%{customdata[0]}\\u003cextra\\u003e\\u003c\\u002fextra\\u003e\",\"legendgroup\":\"\",\"marker\":{\"color\":\"#636efa\",\"symbol\":\"circle\"},\"mode\":\"markers\",\"name\":\"\",\"orientation\":\"v\",\"showlegend\":false,\"x\":[1.0,0.9793564218167101,0.9683147291029963,0.9575295431757688,0.9498450298705194,0.9496632211406423,0.9376438416125396,0.9222669338232845,0.9210956344724648,0.9163459842174692,0.9097062889950988,0.9055027811257136,0.900985761779201,0.9004998143934537,0.8871566238102511,0.8828588656332634,0.8781891558735619,0.877573440426987,0.8749990861202012,0.8721614424318416,0.864986708002818,0.8649220135640657,0.863290939067115,0.850587838500562,0.8491544968207997,0.8465090955983068,0.8433986705686831,0.8409767680883644,0.8047669775876328,0.7913595334179337,0.7871289184250427,0.7809800737472087,0.7726685845455338,0.7717055425407843,0.749872702116234,0.7460615152191058,0.7401503419655112,0.7382957918900235,0.7310920554285409,0.7009903490081487,0.6772290082024256,0.6730959074612812,0.6686024062222724,0.6408170153983784,0.6123487212539896,0.6120667987555499,0.6075396403361762,0.5790555286647644,0.5766945658215563,0.5691847334209543,0.5679300156284152,0.5410242865327608,0.5278484502675873,0.5211986995831351,0.5168147947338685,0.5071840605325375,0.49975961227088433,0.4904560136347178,0.4832783647415077,0.47907076959482436,0.47732155626610634,0.4473387280522124,0.41830984801830967,0.4001199463008246,0.39542062323552196,0.39173475501595717,0.37696283381567247,0.37039153165652294,0.36867016117074664,0.3605430811982355,0.32526397326497186,0.3239991738111312,0.3239939881290249,0.302432315927028,0.30061103194557104,0.29689859670949287,0.29317248157600106,0.28670041664517176,0.28276411474422253,0.25825927421334566,0.24923611718991262,0.22541568026273573,0.18885119741914794,0.18524554869137633,0.18165456674028244,0.17394657767453742,0.16842001361507195,0.1568224095320577,0.15147642321701332,0.14596221183775587,0.14582508915210635,0.13229694039051101,0.12839314731277915,0.1118697325044534,0.11071274076419964,0.10992337462172044,0.10896593650412288,0.07787052781477057,0.05387307157662376,0.04618169961793609,0.041007232918991485,0.0380439341424908,0.031016263869401123,0.03038586000660067,0.016225783167019853,0.0006282749242783206,0.0],\"xaxis\":\"x\",\"y\":[24,24,26,34,34,30,36,34,35,44,32,36,38,37,35,29,41,38,29,42,37,39,37,33,36,40,30,34,30,31,35,55,44,41,31,40,31,31,34,44,32,39,57,31,55,51,43,45,37,28,43,50,52,61,32,54,34,37,31,33,34,41,54,43,29,38,35,47,30,50,36,37,32,29,32,30,35,37,31,58,30,35,28,35,42,36,44,71,38,38,28,64,5,46,32,43,28,43,61,36,51,35,56,35,43,35,33],\"yaxis\":\"y\",\"type\":\"scatter\"},{\"line\":{\"color\":\"red\",\"width\":2},\"mode\":\"lines\",\"name\":\"Regression Line\",\"x\":[1.0,0.9793564218167101,0.9683147291029963,0.9575295431757688,0.9498450298705194,0.9496632211406423,0.9376438416125396,0.9222669338232845,0.9210956344724648,0.9163459842174692,0.9097062889950988,0.9055027811257136,0.900985761779201,0.9004998143934537,0.8871566238102511,0.8828588656332634,0.8781891558735619,0.877573440426987,0.8749990861202012,0.8721614424318416,0.864986708002818,0.8649220135640657,0.863290939067115,0.850587838500562,0.8491544968207997,0.8465090955983068,0.8433986705686831,0.8409767680883644,0.8047669775876328,0.7913595334179337,0.7871289184250427,0.7809800737472087,0.7726685845455338,0.7717055425407843,0.749872702116234,0.7460615152191058,0.7401503419655112,0.7382957918900235,0.7310920554285409,0.7009903490081487,0.6772290082024256,0.6730959074612812,0.6686024062222724,0.6408170153983784,0.6123487212539896,0.6120667987555499,0.6075396403361762,0.5790555286647644,0.5766945658215563,0.5691847334209543,0.5679300156284152,0.5410242865327608,0.5278484502675873,0.5211986995831351,0.5168147947338685,0.5071840605325375,0.49975961227088433,0.4904560136347178,0.4832783647415077,0.47907076959482436,0.47732155626610634,0.4473387280522124,0.41830984801830967,0.4001199463008246,0.39542062323552196,0.39173475501595717,0.37696283381567247,0.37039153165652294,0.36867016117074664,0.3605430811982355,0.32526397326497186,0.3239991738111312,0.3239939881290249,0.302432315927028,0.30061103194557104,0.29689859670949287,0.29317248157600106,0.28670041664517176,0.28276411474422253,0.25825927421334566,0.24923611718991262,0.22541568026273573,0.18885119741914794,0.18524554869137633,0.18165456674028244,0.17394657767453742,0.16842001361507195,0.1568224095320577,0.15147642321701332,0.14596221183775587,0.14582508915210635,0.13229694039051101,0.12839314731277915,0.1118697325044534,0.11071274076419964,0.10992337462172044,0.10896593650412288,0.07787052781477057,0.05387307157662376,0.04618169961793609,0.041007232918991485,0.0380439341424908,0.031016263869401123,0.03038586000660067,0.016225783167019853,0.0006282749242783206,0.0],\"y\":[35.41825145856076,35.53704520461529,35.600584772639735,35.66264826893938,35.70686890327085,35.707915124032375,35.777080803873204,35.865567424884446,35.87230768262464,35.89963960838044,35.93784782311543,35.96203696522734,35.98803021331683,35.99082660403097,36.06761017224887,36.09234167901324,36.11921358612241,36.122756728873775,36.13757088507574,36.15390014353642,36.19518724852387,36.195559533534734,36.20494557348704,36.27804573516491,36.286293918982814,36.30151691560903,36.31941589793709,36.333352768069844,36.54172249056852,36.61887580690709,36.643220937322845,36.67860454605104,36.72643312154276,36.7319749596067,36.857612331094096,36.87954385693734,36.913559782284054,36.924231815434354,36.9656858130045,37.13890648417703,37.27564143683534,37.29942542018851,37.325283333014625,37.48517473518595,37.64899591362544,37.65061824040374,37.67666983392327,37.84058203453303,37.85416822671105,37.897383657446376,37.90460394772229,38.0594333247432,38.13525385030539,38.17351992933108,38.19874716827033,38.254167356712166,38.29689144328083,38.35042912574872,38.39173300205921,38.41594566446286,38.42601153589862,38.59854812084594,38.76559519826522,38.87026923036363,38.89731154763495,38.91852192547632,39.003527143090416,39.041341789030696,39.0512474384553,39.09801482857766,39.301028925825925,39.3083072311563,39.30833707223316,39.43241400256632,39.442894605534725,39.46425786362704,39.485699842871526,39.52294342685755,39.5455949286594,39.686608360404875,39.73853223787101,39.87560725994861,40.08601806426607,40.10676681797174,40.12743117151535,40.17178689742378,40.20358958403194,40.270328151447245,40.30109170101611,40.33282330396122,40.333612378285096,40.41146029080802,40.43392472015297,40.529008931100606,40.53566685550492,40.54020927350248,40.54571886392304,40.72465780805894,40.86275149012307,40.90701159266725,40.93678813031709,40.9538404726588,40.994281294999,40.99790896243748,41.0793933135155,41.16914938277929,41.17276479921264],\"type\":\"scatter\"}],                        {\"template\":{\"data\":{\"histogram2dcontour\":[{\"type\":\"histogram2dcontour\",\"colorbar\":{\"outlinewidth\":0,\"ticks\":\"\"},\"colorscale\":[[0.0,\"#0d0887\"],[0.1111111111111111,\"#46039f\"],[0.2222222222222222,\"#7201a8\"],[0.3333333333333333,\"#9c179e\"],[0.4444444444444444,\"#bd3786\"],[0.5555555555555556,\"#d8576b\"],[0.6666666666666666,\"#ed7953\"],[0.7777777777777778,\"#fb9f3a\"],[0.8888888888888888,\"#fdca26\"],[1.0,\"#f0f921\"]]}],\"choropleth\":[{\"type\":\"choropleth\",\"colorbar\":{\"outlinewidth\":0,\"ticks\":\"\"}}],\"histogram2d\":[{\"type\":\"histogram2d\",\"colorbar\":{\"outlinewidth\":0,\"ticks\":\"\"},\"colorscale\":[[0.0,\"#0d0887\"],[0.1111111111111111,\"#46039f\"],[0.2222222222222222,\"#7201a8\"],[0.3333333333333333,\"#9c179e\"],[0.4444444444444444,\"#bd3786\"],[0.5555555555555556,\"#d8576b\"],[0.6666666666666666,\"#ed7953\"],[0.7777777777777778,\"#fb9f3a\"],[0.8888888888888888,\"#fdca26\"],[1.0,\"#f0f921\"]]}],\"heatmap\":[{\"type\":\"heatmap\",\"colorbar\":{\"outlinewidth\":0,\"ticks\":\"\"},\"colorscale\":[[0.0,\"#0d0887\"],[0.1111111111111111,\"#46039f\"],[0.2222222222222222,\"#7201a8\"],[0.3333333333333333,\"#9c179e\"],[0.4444444444444444,\"#bd3786\"],[0.5555555555555556,\"#d8576b\"],[0.6666666666666666,\"#ed7953\"],[0.7777777777777778,\"#fb9f3a\"],[0.8888888888888888,\"#fdca26\"],[1.0,\"#f0f921\"]]}],\"heatmapgl\":[{\"type\":\"heatmapgl\",\"colorbar\":{\"outlinewidth\":0,\"ticks\":\"\"},\"colorscale\":[[0.0,\"#0d0887\"],[0.1111111111111111,\"#46039f\"],[0.2222222222222222,\"#7201a8\"],[0.3333333333333333,\"#9c179e\"],[0.4444444444444444,\"#bd3786\"],[0.5555555555555556,\"#d8576b\"],[0.6666666666666666,\"#ed7953\"],[0.7777777777777778,\"#fb9f3a\"],[0.8888888888888888,\"#fdca26\"],[1.0,\"#f0f921\"]]}],\"contourcarpet\":[{\"type\":\"contourcarpet\",\"colorbar\":{\"outlinewidth\":0,\"ticks\":\"\"}}],\"contour\":[{\"type\":\"contour\",\"colorbar\":{\"outlinewidth\":0,\"ticks\":\"\"},\"colorscale\":[[0.0,\"#0d0887\"],[0.1111111111111111,\"#46039f\"],[0.2222222222222222,\"#7201a8\"],[0.3333333333333333,\"#9c179e\"],[0.4444444444444444,\"#bd3786\"],[0.5555555555555556,\"#d8576b\"],[0.6666666666666666,\"#ed7953\"],[0.7777777777777778,\"#fb9f3a\"],[0.8888888888888888,\"#fdca26\"],[1.0,\"#f0f921\"]]}],\"surface\":[{\"type\":\"surface\",\"colorbar\":{\"outlinewidth\":0,\"ticks\":\"\"},\"colorscale\":[[0.0,\"#0d0887\"],[0.1111111111111111,\"#46039f\"],[0.2222222222222222,\"#7201a8\"],[0.3333333333333333,\"#9c179e\"],[0.4444444444444444,\"#bd3786\"],[0.5555555555555556,\"#d8576b\"],[0.6666666666666666,\"#ed7953\"],[0.7777777777777778,\"#fb9f3a\"],[0.8888888888888888,\"#fdca26\"],[1.0,\"#f0f921\"]]}],\"mesh3d\":[{\"type\":\"mesh3d\",\"colorbar\":{\"outlinewidth\":0,\"ticks\":\"\"}}],\"scatter\":[{\"fillpattern\":{\"fillmode\":\"overlay\",\"size\":10,\"solidity\":0.2},\"type\":\"scatter\"}],\"parcoords\":[{\"type\":\"parcoords\",\"line\":{\"colorbar\":{\"outlinewidth\":0,\"ticks\":\"\"}}}],\"scatterpolargl\":[{\"type\":\"scatterpolargl\",\"marker\":{\"colorbar\":{\"outlinewidth\":0,\"ticks\":\"\"}}}],\"bar\":[{\"error_x\":{\"color\":\"#2a3f5f\"},\"error_y\":{\"color\":\"#2a3f5f\"},\"marker\":{\"line\":{\"color\":\"#E5ECF6\",\"width\":0.5},\"pattern\":{\"fillmode\":\"overlay\",\"size\":10,\"solidity\":0.2}},\"type\":\"bar\"}],\"scattergeo\":[{\"type\":\"scattergeo\",\"marker\":{\"colorbar\":{\"outlinewidth\":0,\"ticks\":\"\"}}}],\"scatterpolar\":[{\"type\":\"scatterpolar\",\"marker\":{\"colorbar\":{\"outlinewidth\":0,\"ticks\":\"\"}}}],\"histogram\":[{\"marker\":{\"pattern\":{\"fillmode\":\"overlay\",\"size\":10,\"solidity\":0.2}},\"type\":\"histogram\"}],\"scattergl\":[{\"type\":\"scattergl\",\"marker\":{\"colorbar\":{\"outlinewidth\":0,\"ticks\":\"\"}}}],\"scatter3d\":[{\"type\":\"scatter3d\",\"line\":{\"colorbar\":{\"outlinewidth\":0,\"ticks\":\"\"}},\"marker\":{\"colorbar\":{\"outlinewidth\":0,\"ticks\":\"\"}}}],\"scattermapbox\":[{\"type\":\"scattermapbox\",\"marker\":{\"colorbar\":{\"outlinewidth\":0,\"ticks\":\"\"}}}],\"scatterternary\":[{\"type\":\"scatterternary\",\"marker\":{\"colorbar\":{\"outlinewidth\":0,\"ticks\":\"\"}}}],\"scattercarpet\":[{\"type\":\"scattercarpet\",\"marker\":{\"colorbar\":{\"outlinewidth\":0,\"ticks\":\"\"}}}],\"carpet\":[{\"aaxis\":{\"endlinecolor\":\"#2a3f5f\",\"gridcolor\":\"white\",\"linecolor\":\"white\",\"minorgridcolor\":\"white\",\"startlinecolor\":\"#2a3f5f\"},\"baxis\":{\"endlinecolor\":\"#2a3f5f\",\"gridcolor\":\"white\",\"linecolor\":\"white\",\"minorgridcolor\":\"white\",\"startlinecolor\":\"#2a3f5f\"},\"type\":\"carpet\"}],\"table\":[{\"cells\":{\"fill\":{\"color\":\"#EBF0F8\"},\"line\":{\"color\":\"white\"}},\"header\":{\"fill\":{\"color\":\"#C8D4E3\"},\"line\":{\"color\":\"white\"}},\"type\":\"table\"}],\"barpolar\":[{\"marker\":{\"line\":{\"color\":\"#E5ECF6\",\"width\":0.5},\"pattern\":{\"fillmode\":\"overlay\",\"size\":10,\"solidity\":0.2}},\"type\":\"barpolar\"}],\"pie\":[{\"automargin\":true,\"type\":\"pie\"}]},\"layout\":{\"autotypenumbers\":\"strict\",\"colorway\":[\"#636efa\",\"#EF553B\",\"#00cc96\",\"#ab63fa\",\"#FFA15A\",\"#19d3f3\",\"#FF6692\",\"#B6E880\",\"#FF97FF\",\"#FECB52\"],\"font\":{\"color\":\"#2a3f5f\"},\"hovermode\":\"closest\",\"hoverlabel\":{\"align\":\"left\"},\"paper_bgcolor\":\"white\",\"plot_bgcolor\":\"#E5ECF6\",\"polar\":{\"bgcolor\":\"#E5ECF6\",\"angularaxis\":{\"gridcolor\":\"white\",\"linecolor\":\"white\",\"ticks\":\"\"},\"radialaxis\":{\"gridcolor\":\"white\",\"linecolor\":\"white\",\"ticks\":\"\"}},\"ternary\":{\"bgcolor\":\"#E5ECF6\",\"aaxis\":{\"gridcolor\":\"white\",\"linecolor\":\"white\",\"ticks\":\"\"},\"baxis\":{\"gridcolor\":\"white\",\"linecolor\":\"white\",\"ticks\":\"\"},\"caxis\":{\"gridcolor\":\"white\",\"linecolor\":\"white\",\"ticks\":\"\"}},\"coloraxis\":{\"colorbar\":{\"outlinewidth\":0,\"ticks\":\"\"}},\"colorscale\":{\"sequential\":[[0.0,\"#0d0887\"],[0.1111111111111111,\"#46039f\"],[0.2222222222222222,\"#7201a8\"],[0.3333333333333333,\"#9c179e\"],[0.4444444444444444,\"#bd3786\"],[0.5555555555555556,\"#d8576b\"],[0.6666666666666666,\"#ed7953\"],[0.7777777777777778,\"#fb9f3a\"],[0.8888888888888888,\"#fdca26\"],[1.0,\"#f0f921\"]],\"sequentialminus\":[[0.0,\"#0d0887\"],[0.1111111111111111,\"#46039f\"],[0.2222222222222222,\"#7201a8\"],[0.3333333333333333,\"#9c179e\"],[0.4444444444444444,\"#bd3786\"],[0.5555555555555556,\"#d8576b\"],[0.6666666666666666,\"#ed7953\"],[0.7777777777777778,\"#fb9f3a\"],[0.8888888888888888,\"#fdca26\"],[1.0,\"#f0f921\"]],\"diverging\":[[0,\"#8e0152\"],[0.1,\"#c51b7d\"],[0.2,\"#de77ae\"],[0.3,\"#f1b6da\"],[0.4,\"#fde0ef\"],[0.5,\"#f7f7f7\"],[0.6,\"#e6f5d0\"],[0.7,\"#b8e186\"],[0.8,\"#7fbc41\"],[0.9,\"#4d9221\"],[1,\"#276419\"]]},\"xaxis\":{\"gridcolor\":\"white\",\"linecolor\":\"white\",\"ticks\":\"\",\"title\":{\"standoff\":15},\"zerolinecolor\":\"white\",\"automargin\":true,\"zerolinewidth\":2},\"yaxis\":{\"gridcolor\":\"white\",\"linecolor\":\"white\",\"ticks\":\"\",\"title\":{\"standoff\":15},\"zerolinecolor\":\"white\",\"automargin\":true,\"zerolinewidth\":2},\"scene\":{\"xaxis\":{\"backgroundcolor\":\"#E5ECF6\",\"gridcolor\":\"white\",\"linecolor\":\"white\",\"showbackground\":true,\"ticks\":\"\",\"zerolinecolor\":\"white\",\"gridwidth\":2},\"yaxis\":{\"backgroundcolor\":\"#E5ECF6\",\"gridcolor\":\"white\",\"linecolor\":\"white\",\"showbackground\":true,\"ticks\":\"\",\"zerolinecolor\":\"white\",\"gridwidth\":2},\"zaxis\":{\"backgroundcolor\":\"#E5ECF6\",\"gridcolor\":\"white\",\"linecolor\":\"white\",\"showbackground\":true,\"ticks\":\"\",\"zerolinecolor\":\"white\",\"gridwidth\":2}},\"shapedefaults\":{\"line\":{\"color\":\"#2a3f5f\"}},\"annotationdefaults\":{\"arrowcolor\":\"#2a3f5f\",\"arrowhead\":0,\"arrowwidth\":1},\"geo\":{\"bgcolor\":\"white\",\"landcolor\":\"#E5ECF6\",\"subunitcolor\":\"white\",\"showland\":true,\"showlakes\":true,\"lakecolor\":\"white\"},\"title\":{\"x\":0.05},\"mapbox\":{\"style\":\"light\"}}},\"xaxis\":{\"anchor\":\"y\",\"domain\":[0.0,1.0],\"title\":{\"text\":\"Bangerness\"}},\"yaxis\":{\"anchor\":\"x\",\"domain\":[0.0,1.0],\"title\":{\"text\":\"Popularity\"}},\"legend\":{\"tracegroupgap\":0},\"title\":{\"text\":\"SLR: Bangerness vs. Popularity\"},\"width\":1000,\"height\":600},                        {\"responsive\": true}                    ).then(function(){\n",
       "                            \n",
       "var gd = document.getElementById('6382e1c2-8c7d-4906-aaab-068822f3306b');\n",
       "var x = new MutationObserver(function (mutations, observer) {{\n",
       "        var display = window.getComputedStyle(gd).display;\n",
       "        if (!display || display === 'none') {{\n",
       "            console.log([gd, 'removed!']);\n",
       "            Plotly.purge(gd);\n",
       "            observer.disconnect();\n",
       "        }}\n",
       "}});\n",
       "\n",
       "// Listen for the removal of the full notebook cells\n",
       "var notebookContainer = gd.closest('#notebook-container');\n",
       "if (notebookContainer) {{\n",
       "    x.observe(notebookContainer, {childList: true});\n",
       "}}\n",
       "\n",
       "// Listen for the clearing of the current output cell\n",
       "var outputEl = gd.closest('.output');\n",
       "if (outputEl) {{\n",
       "    x.observe(outputEl, {childList: true});\n",
       "}}\n",
       "\n",
       "                        })                };                });            </script>        </div>"
      ]
     },
     "metadata": {},
     "output_type": "display_data"
    },
    {
     "name": "stdout",
     "output_type": "stream",
     "text": [
      "Coefficient (Slope): -5.754513340651884\n",
      "Intercept: 41.17276479921264\n",
      "Mean Squared Error (MSE): 90.05093730462856\n"
     ]
    }
   ],
   "source": [
    "# Reshape data for SLR\n",
    "X = df_sorted_unique[['Bangerness']].values.reshape(-1, 1)\n",
    "y = df_sorted_unique['Popularity'].values\n",
    "\n",
    "# Perform SLR\n",
    "model = LinearRegression()\n",
    "model.fit(X, y)\n",
    "y_pred = model.predict(X)\n",
    "\n",
    "# Create a DataFrame for plotting\n",
    "df_plot = pd.DataFrame({\n",
    "    'Bangerness': X.flatten(),\n",
    "    'Popularity': y,\n",
    "    'Predicted Popularity': y_pred,\n",
    "    'Track Name': df_sorted_unique['Track Name']  # Assuming 'Track Name' is available\n",
    "})\n",
    "\n",
    "# Plot with Plotly\n",
    "import plotly.express as px\n",
    "\n",
    "fig = px.scatter(df_plot,\n",
    "                 x='Bangerness',\n",
    "                 y='Popularity',\n",
    "                 title='SLR: Bangerness vs. Popularity',\n",
    "                 hover_data={'Bangerness': True, 'Popularity': True, 'Track Name': True})\n",
    "\n",
    "fig.add_scatter(x=df_plot['Bangerness'],\n",
    "                y=df_plot['Predicted Popularity'],\n",
    "                mode='lines',\n",
    "                line=dict(color='red', width=2),\n",
    "                name='Regression Line')\n",
    "\n",
    "fig.update_layout(\n",
    "    width=1000,\n",
    "    height=600,\n",
    "    xaxis_title='Bangerness',\n",
    "    yaxis_title='Popularity'\n",
    ")\n",
    "\n",
    "fig.show()\n",
    "\n",
    "# Print SLR results\n",
    "print(f\"Coefficient (Slope): {model.coef_[0]}\")\n",
    "print(f\"Intercept: {model.intercept_}\")\n",
    "print(f\"Mean Squared Error (MSE): {np.mean((y_pred - y) ** 2)}\")\n"
   ]
  },
  {
   "cell_type": "markdown",
   "id": "2f0e5cf2-e487-4883-91c8-1d6d90678258",
   "metadata": {},
   "source": [
    "I want to confirm my hunch by looking into the most popular tracks. As shown below, my assumption seems to hold up, with tracks like \"QKThr,\" \"Avril 14th,\" and \"rhubarb (#3)\" leading the list. It’s likely that these tracks found their way into a large number of playlists, which in turn contributed to their popularity."
   ]
  },
  {
   "cell_type": "code",
   "execution_count": 11,
   "id": "9f0b2737-6602-44e8-a8d2-1c3fc9aabb05",
   "metadata": {},
   "outputs": [
    {
     "data": {
      "text/html": [
       "<div>\n",
       "<style scoped>\n",
       "    .dataframe tbody tr th:only-of-type {\n",
       "        vertical-align: middle;\n",
       "    }\n",
       "\n",
       "    .dataframe tbody tr th {\n",
       "        vertical-align: top;\n",
       "    }\n",
       "\n",
       "    .dataframe thead th {\n",
       "        text-align: right;\n",
       "    }\n",
       "</style>\n",
       "<table border=\"1\" class=\"dataframe\">\n",
       "  <thead>\n",
       "    <tr style=\"text-align: right;\">\n",
       "      <th></th>\n",
       "      <th>Track Name</th>\n",
       "      <th>Popularity</th>\n",
       "      <th>Danceability</th>\n",
       "      <th>Release Date</th>\n",
       "      <th>Bangerness</th>\n",
       "    </tr>\n",
       "  </thead>\n",
       "  <tbody>\n",
       "    <tr>\n",
       "      <th>39</th>\n",
       "      <td>QKThr</td>\n",
       "      <td>71</td>\n",
       "      <td>0.451</td>\n",
       "      <td>2001-10-22</td>\n",
       "      <td>0.156822</td>\n",
       "    </tr>\n",
       "    <tr>\n",
       "      <th>30</th>\n",
       "      <td>Avril 14th</td>\n",
       "      <td>64</td>\n",
       "      <td>0.558</td>\n",
       "      <td>2001-10-22</td>\n",
       "      <td>0.132297</td>\n",
       "    </tr>\n",
       "    <tr>\n",
       "      <th>105</th>\n",
       "      <td>Xtal</td>\n",
       "      <td>61</td>\n",
       "      <td>0.510</td>\n",
       "      <td>1992-02-10</td>\n",
       "      <td>0.521199</td>\n",
       "    </tr>\n",
       "    <tr>\n",
       "      <th>83</th>\n",
       "      <td>#3</td>\n",
       "      <td>61</td>\n",
       "      <td>0.159</td>\n",
       "      <td>1994-03-07</td>\n",
       "      <td>0.053873</td>\n",
       "    </tr>\n",
       "    <tr>\n",
       "      <th>21</th>\n",
       "      <td>aisatsana [102]</td>\n",
       "      <td>58</td>\n",
       "      <td>0.260</td>\n",
       "      <td>2014-09-22</td>\n",
       "      <td>0.258259</td>\n",
       "    </tr>\n",
       "    <tr>\n",
       "      <th>52</th>\n",
       "      <td>Flim</td>\n",
       "      <td>57</td>\n",
       "      <td>0.710</td>\n",
       "      <td>1997-10-06</td>\n",
       "      <td>0.668602</td>\n",
       "    </tr>\n",
       "    <tr>\n",
       "      <th>109</th>\n",
       "      <td>I</td>\n",
       "      <td>56</td>\n",
       "      <td>0.183</td>\n",
       "      <td>1992-02-10</td>\n",
       "      <td>0.031016</td>\n",
       "    </tr>\n",
       "    <tr>\n",
       "      <th>78</th>\n",
       "      <td>Alberto Balsalm</td>\n",
       "      <td>55</td>\n",
       "      <td>0.791</td>\n",
       "      <td>1995-04-24</td>\n",
       "      <td>0.612349</td>\n",
       "    </tr>\n",
       "    <tr>\n",
       "      <th>14</th>\n",
       "      <td>180db_ [130]</td>\n",
       "      <td>55</td>\n",
       "      <td>0.828</td>\n",
       "      <td>2014-09-22</td>\n",
       "      <td>0.780980</td>\n",
       "    </tr>\n",
       "    <tr>\n",
       "      <th>107</th>\n",
       "      <td>Pulsewidth</td>\n",
       "      <td>54</td>\n",
       "      <td>0.765</td>\n",
       "      <td>1992-02-10</td>\n",
       "      <td>0.507184</td>\n",
       "    </tr>\n",
       "  </tbody>\n",
       "</table>\n",
       "</div>"
      ],
      "text/plain": [
       "          Track Name  Popularity  Danceability Release Date  Bangerness\n",
       "39             QKThr          71         0.451   2001-10-22    0.156822\n",
       "30        Avril 14th          64         0.558   2001-10-22    0.132297\n",
       "105             Xtal          61         0.510   1992-02-10    0.521199\n",
       "83                #3          61         0.159   1994-03-07    0.053873\n",
       "21   aisatsana [102]          58         0.260   2014-09-22    0.258259\n",
       "52              Flim          57         0.710   1997-10-06    0.668602\n",
       "109                I          56         0.183   1992-02-10    0.031016\n",
       "78   Alberto Balsalm          55         0.791   1995-04-24    0.612349\n",
       "14      180db_ [130]          55         0.828   2014-09-22    0.780980\n",
       "107       Pulsewidth          54         0.765   1992-02-10    0.507184"
      ]
     },
     "execution_count": 11,
     "metadata": {},
     "output_type": "execute_result"
    }
   ],
   "source": [
    "df_sorted = df.sort_values(['Popularity'], ascending=False)\n",
    "df_sorted.head(10)\n",
    "df_sorted[['Track Name', 'Popularity',  \n",
    "            'Danceability','Release Date', 'Bangerness']].head(10)"
   ]
  },
  {
   "cell_type": "markdown",
   "id": "96e88e23-549b-430f-bc44-234567b86ddf",
   "metadata": {},
   "source": [
    "# What makes it popular?\n",
    "\n",
    "\n",
    "I wanted to analyze some features of the top 10 tracks to see if there are any patterns. So, I plotted Energy, Acousticness, Instrumentalness, and Speechiness against Popularity. The graph shows that these top tracks generally have low energy, high acousticness and high instrumentalness. Danceability, however, shows more mixed results."
   ]
  },
  {
   "cell_type": "code",
   "execution_count": 12,
   "id": "27152680-4b71-4f09-a139-c4a66ae67c7e",
   "metadata": {},
   "outputs": [
    {
     "data": {
      "image/png": "[encoded data removed]",
      "text/plain": [
       "<Figure size 2400x600 with 8 Axes>"
      ]
     },
     "metadata": {},
     "output_type": "display_data"
    }
   ],
   "source": [
    "# Initialize the MinMaxScaler\n",
    "scaler = MinMaxScaler()\n",
    "\n",
    "# Prepare the data\n",
    "df_pop = df_sorted.head(10)\n",
    "X = df_pop[['Energy', 'Acousticness', 'Instrumentalness', 'Danceability']].values\n",
    "y = df_pop['Popularity'].values\n",
    "\n",
    "# Scale features\n",
    "X = scaler.fit_transform(X)\n",
    "\n",
    "# Perform linear regression\n",
    "model = LinearRegression()\n",
    "model.fit(X, y)\n",
    "\n",
    "# Scaling for dot sizes\n",
    "popularity_scaled = (y - y.min()) / (y.max() - y.min()) * 100  # Scale to range 0-100\n",
    "\n",
    "# Plotting\n",
    "plt.figure(figsize=(24, 6))  # Adjusted figure size\n",
    "\n",
    "# Scatter plot for Energy vs Popularity\n",
    "plt.subplot(1, 4, 1)\n",
    "plt.scatter(df_pop['Energy'], y, c='blue', s=popularity_scaled, alpha=0.6, label='Energy')\n",
    "plt.xlabel('Energy')\n",
    "plt.ylabel('Popularity')\n",
    "plt.title('Popularity vs Energy')\n",
    "plt.colorbar(label='Popularity')\n",
    "plt.legend()\n",
    "plt.xlim(0, 1)  # Set x-axis from 0 to 1\n",
    "\n",
    "# Scatter plot for Acousticness vs Popularity\n",
    "plt.subplot(1, 4, 2)\n",
    "plt.scatter(df_pop['Acousticness'], y, c='green', s=popularity_scaled, alpha=0.6, label='Acousticness')\n",
    "plt.xlabel('Acousticness')\n",
    "plt.ylabel('Popularity')\n",
    "plt.title('Popularity vs Acousticness')\n",
    "plt.colorbar(label='Popularity')\n",
    "plt.legend()\n",
    "plt.xlim(0, 1)  # Set x-axis from 0 to 1\n",
    "\n",
    "# Scatter plot for Instrumentalness vs Popularity\n",
    "plt.subplot(1, 4, 3)\n",
    "plt.scatter(df_pop['Instrumentalness'], y, c='red', s=popularity_scaled, alpha=0.6, label='Instrumentalness')\n",
    "plt.xlabel('Instrumentalness')\n",
    "plt.ylabel('Popularity')\n",
    "plt.title('Popularity vs Instrumentalness')\n",
    "plt.colorbar(label='Popularity')\n",
    "plt.legend()\n",
    "plt.xlim(0, 1)  # Set x-axis from 0 to 1\n",
    "\n",
    "# Scatter plot for Danceability vs Popularity\n",
    "plt.subplot(1, 4, 4)\n",
    "plt.scatter(df_pop['Danceability'], y, c='purple', s=popularity_scaled, alpha=0.6, label='Danceability')\n",
    "plt.xlabel('Danceability')\n",
    "plt.ylabel('Popularity')\n",
    "plt.title('Popularity vs Danceability')\n",
    "plt.colorbar(label='Popularity')\n",
    "plt.legend()\n",
    "plt.xlim(0, 1)  # Set x-axis from 0 to 1\n",
    "\n",
    "plt.tight_layout()\n",
    "plt.show()\n"
   ]
  },
  {
   "cell_type": "markdown",
   "id": "5ac4dd8d-1915-4baa-87a4-e93719d6622f",
   "metadata": {},
   "source": [
    "# Engineering Ambientness"
   ]
  },
  {
   "cell_type": "markdown",
   "id": "b26d7c0d-4d0d-4873-a964-672e238cad06",
   "metadata": {},
   "source": [
    "To calculate the Ambientness score, I invert the scales for Energy and Danceability so that lower values have a positive impact. Then, I combine these inverted values with the actual values of Acousticness Instrumentalness and Valence. The final score is weighted to reflect the contribution of each feature to a track's ambient quality, using an intuitive weighting approach similar to how I handled Bangerness.\n",
    "\n",
    "Ambientness=(0.4×Energy_inverse)+(0.3×Acousticness)+(0.4×Instrumentalness)+(0.1×Danceability_inverse)+(0.1×Valence)\n",
    "\n",
    "\n",
    "\n",
    "\n",
    "\n",
    "\n"
   ]
  },
  {
   "cell_type": "code",
   "execution_count": 13,
   "id": "965679d7-b5f0-4590-bc2f-fb48e2456fd5",
   "metadata": {},
   "outputs": [
    {
     "data": {
      "text/html": [
       "<div>\n",
       "<style scoped>\n",
       "    .dataframe tbody tr th:only-of-type {\n",
       "        vertical-align: middle;\n",
       "    }\n",
       "\n",
       "    .dataframe tbody tr th {\n",
       "        vertical-align: top;\n",
       "    }\n",
       "\n",
       "    .dataframe thead th {\n",
       "        text-align: right;\n",
       "    }\n",
       "</style>\n",
       "<table border=\"1\" class=\"dataframe\">\n",
       "  <thead>\n",
       "    <tr style=\"text-align: right;\">\n",
       "      <th></th>\n",
       "      <th>Album Name</th>\n",
       "      <th>Track Name</th>\n",
       "      <th>Popularity</th>\n",
       "      <th>Energy</th>\n",
       "      <th>Acousticness</th>\n",
       "      <th>Instrumentalness</th>\n",
       "      <th>Danceability</th>\n",
       "      <th>Bangerness</th>\n",
       "      <th>Valence</th>\n",
       "      <th>Ambientness</th>\n",
       "    </tr>\n",
       "  </thead>\n",
       "  <tbody>\n",
       "    <tr>\n",
       "      <th>87</th>\n",
       "      <td>Selected Ambient Works Volume II</td>\n",
       "      <td>#7</td>\n",
       "      <td>43</td>\n",
       "      <td>0.03330</td>\n",
       "      <td>0.994</td>\n",
       "      <td>0.981</td>\n",
       "      <td>0.161</td>\n",
       "      <td>0.016226</td>\n",
       "      <td>0.0481</td>\n",
       "      <td>1.000000</td>\n",
       "    </tr>\n",
       "    <tr>\n",
       "      <th>94</th>\n",
       "      <td>Selected Ambient Works Volume II</td>\n",
       "      <td>#14</td>\n",
       "      <td>35</td>\n",
       "      <td>0.02960</td>\n",
       "      <td>0.992</td>\n",
       "      <td>0.946</td>\n",
       "      <td>0.124</td>\n",
       "      <td>0.000628</td>\n",
       "      <td>0.0377</td>\n",
       "      <td>0.989705</td>\n",
       "    </tr>\n",
       "    <tr>\n",
       "      <th>45</th>\n",
       "      <td>Drukqs</td>\n",
       "      <td>Petiatil Cx Htdui</td>\n",
       "      <td>43</td>\n",
       "      <td>0.00682</td>\n",
       "      <td>0.996</td>\n",
       "      <td>0.956</td>\n",
       "      <td>0.421</td>\n",
       "      <td>0.109923</td>\n",
       "      <td>0.1390</td>\n",
       "      <td>0.984530</td>\n",
       "    </tr>\n",
       "    <tr>\n",
       "      <th>86</th>\n",
       "      <td>Selected Ambient Works Volume II</td>\n",
       "      <td>#6</td>\n",
       "      <td>35</td>\n",
       "      <td>0.07740</td>\n",
       "      <td>0.995</td>\n",
       "      <td>0.979</td>\n",
       "      <td>0.226</td>\n",
       "      <td>0.038044</td>\n",
       "      <td>0.0675</td>\n",
       "      <td>0.977657</td>\n",
       "    </tr>\n",
       "    <tr>\n",
       "      <th>41</th>\n",
       "      <td>Drukqs</td>\n",
       "      <td>Bit 4</td>\n",
       "      <td>5</td>\n",
       "      <td>0.02320</td>\n",
       "      <td>0.972</td>\n",
       "      <td>0.930</td>\n",
       "      <td>0.181</td>\n",
       "      <td>0.128393</td>\n",
       "      <td>0.0000</td>\n",
       "      <td>0.970699</td>\n",
       "    </tr>\n",
       "    <tr>\n",
       "      <th>100</th>\n",
       "      <td>Selected Ambient Works Volume II</td>\n",
       "      <td>#20</td>\n",
       "      <td>51</td>\n",
       "      <td>0.04190</td>\n",
       "      <td>0.971</td>\n",
       "      <td>0.909</td>\n",
       "      <td>0.108</td>\n",
       "      <td>0.041007</td>\n",
       "      <td>0.0429</td>\n",
       "      <td>0.966181</td>\n",
       "    </tr>\n",
       "    <tr>\n",
       "      <th>90</th>\n",
       "      <td>Selected Ambient Works Volume II</td>\n",
       "      <td>#10</td>\n",
       "      <td>33</td>\n",
       "      <td>0.04720</td>\n",
       "      <td>0.974</td>\n",
       "      <td>0.905</td>\n",
       "      <td>0.105</td>\n",
       "      <td>0.000000</td>\n",
       "      <td>0.0201</td>\n",
       "      <td>0.961457</td>\n",
       "    </tr>\n",
       "    <tr>\n",
       "      <th>26</th>\n",
       "      <td>Drukqs</td>\n",
       "      <td>Strotha Tynhe</td>\n",
       "      <td>38</td>\n",
       "      <td>0.00250</td>\n",
       "      <td>0.990</td>\n",
       "      <td>0.894</td>\n",
       "      <td>0.384</td>\n",
       "      <td>0.151476</td>\n",
       "      <td>0.0373</td>\n",
       "      <td>0.953681</td>\n",
       "    </tr>\n",
       "    <tr>\n",
       "      <th>30</th>\n",
       "      <td>Drukqs</td>\n",
       "      <td>Avril 14th</td>\n",
       "      <td>64</td>\n",
       "      <td>0.02590</td>\n",
       "      <td>0.996</td>\n",
       "      <td>0.871</td>\n",
       "      <td>0.558</td>\n",
       "      <td>0.132297</td>\n",
       "      <td>0.3700</td>\n",
       "      <td>0.952805</td>\n",
       "    </tr>\n",
       "    <tr>\n",
       "      <th>43</th>\n",
       "      <td>Drukqs</td>\n",
       "      <td>Father</td>\n",
       "      <td>30</td>\n",
       "      <td>0.03210</td>\n",
       "      <td>0.990</td>\n",
       "      <td>0.951</td>\n",
       "      <td>0.698</td>\n",
       "      <td>0.249236</td>\n",
       "      <td>0.2030</td>\n",
       "      <td>0.949872</td>\n",
       "    </tr>\n",
       "  </tbody>\n",
       "</table>\n",
       "</div>"
      ],
      "text/plain": [
       "                           Album Name         Track Name  Popularity   Energy  \\\n",
       "87   Selected Ambient Works Volume II                 #7          43  0.03330   \n",
       "94   Selected Ambient Works Volume II                #14          35  0.02960   \n",
       "45                             Drukqs  Petiatil Cx Htdui          43  0.00682   \n",
       "86   Selected Ambient Works Volume II                 #6          35  0.07740   \n",
       "41                             Drukqs              Bit 4           5  0.02320   \n",
       "100  Selected Ambient Works Volume II                #20          51  0.04190   \n",
       "90   Selected Ambient Works Volume II                #10          33  0.04720   \n",
       "26                             Drukqs      Strotha Tynhe          38  0.00250   \n",
       "30                             Drukqs         Avril 14th          64  0.02590   \n",
       "43                             Drukqs             Father          30  0.03210   \n",
       "\n",
       "     Acousticness  Instrumentalness  Danceability  Bangerness  Valence  \\\n",
       "87          0.994             0.981         0.161    0.016226   0.0481   \n",
       "94          0.992             0.946         0.124    0.000628   0.0377   \n",
       "45          0.996             0.956         0.421    0.109923   0.1390   \n",
       "86          0.995             0.979         0.226    0.038044   0.0675   \n",
       "41          0.972             0.930         0.181    0.128393   0.0000   \n",
       "100         0.971             0.909         0.108    0.041007   0.0429   \n",
       "90          0.974             0.905         0.105    0.000000   0.0201   \n",
       "26          0.990             0.894         0.384    0.151476   0.0373   \n",
       "30          0.996             0.871         0.558    0.132297   0.3700   \n",
       "43          0.990             0.951         0.698    0.249236   0.2030   \n",
       "\n",
       "     Ambientness  \n",
       "87      1.000000  \n",
       "94      0.989705  \n",
       "45      0.984530  \n",
       "86      0.977657  \n",
       "41      0.970699  \n",
       "100     0.966181  \n",
       "90      0.961457  \n",
       "26      0.953681  \n",
       "30      0.952805  \n",
       "43      0.949872  "
      ]
     },
     "execution_count": 13,
     "metadata": {},
     "output_type": "execute_result"
    }
   ],
   "source": [
    "# Invert the scales where lower values should contribute positively to Ambientness\n",
    "df_sorted_unique['Energy_inverse'] = 1 - df_sorted_unique['Energy']\n",
    "df_sorted_unique['Danceability_inverse'] = 1 - df_sorted_unique['Danceability']\n",
    "\n",
    "# Calculate the Ambientness score\n",
    "df_sorted_unique['Ambientness'] = (\n",
    "    0.4 * df_sorted_unique['Energy_inverse'] +    \n",
    "    0.3 * df_sorted_unique['Acousticness'] +      \n",
    "    0.4 * df_sorted_unique['Instrumentalness'] +  \n",
    "    0.1 * df_sorted_unique['Danceability_inverse'] +\n",
    "    0.1 * df_sorted_unique['Valence']\n",
    "\n",
    ")\n",
    "\n",
    "# Normalize the Ambientness score to the range [0, 1]\n",
    "min_ambientness = df_sorted_unique['Ambientness'].min()\n",
    "max_ambientness = df_sorted_unique['Ambientness'].max()\n",
    "df_sorted_unique['Ambientness'] = (df_sorted_unique['Ambientness'] - min_ambientness) / (max_ambientness - min_ambientness)\n",
    "\n",
    "# Display the DataFrame with the new Ambientness column\n",
    "df_sorted_unique[['Track Name', 'Energy', 'Acousticness', 'Instrumentalness', \n",
    "                  'Danceability', 'Ambientness']].head(20)\n",
    "\n",
    "# Sort by Ambientness and display the top tracks\n",
    "df_amb = df_sorted_unique.sort_values(['Ambientness'], ascending=False)\n",
    "df_amb[['Album Name', 'Track Name', 'Popularity', 'Energy', 'Acousticness', 'Instrumentalness', \n",
    "       'Danceability', 'Bangerness', 'Valence', 'Ambientness']].head(10)\n"
   ]
  },
  {
   "cell_type": "code",
   "execution_count": 36,
   "id": "cdab6f06-afb4-46e6-9b9f-400d2e8ecd31",
   "metadata": {},
   "outputs": [
    {
     "name": "stdout",
     "output_type": "stream",
     "text": [
      "Mean Squared Error: 0.013151429053239065\n",
      "R² Score: 0.8003806142159512\n"
     ]
    },
    {
     "data": {
      "application/vnd.plotly.v1+json": {
       "config": {
        "plotlyServerURL": "https://plot.ly"
       },
       "data": [
        {
         "hovertemplate": "<b>%{hovertext}</b><br><br>Bangerness=%{x}<br>Ambientness=%{y}<extra></extra>",
         "hovertext": [
          "#7",
          "#14",
          "Petiatil Cx Htdui",
          "#6",
          "Bit 4",
          "#20",
          "#10",
          "Strotha Tynhe",
          "Avril 14th",
          "Father",
          "Next Heap With",
          "#2",
          "I",
          "aisatsana [102]",
          "#5",
          "#11",
          "#21",
          "#23",
          "#3",
          "#4",
          "#22",
          "Gwely Mernans",
          "QKThr",
          "#8",
          "#13",
          "#17",
          "#24",
          "Beskhu3epnm",
          "#1",
          "Ruglen Holon",
          "Kesson Dalek",
          "Goon Gumpas",
          "Actium",
          "Jynweythek",
          "Tha",
          "Fingerbib",
          "Bbydhyonchord",
          "#16",
          "Hy A Scullyas Lyf Adhagrow",
          "#9",
          "Prep Gwarek 36",
          "Nanou2",
          "Mookid",
          "Schottkey 7th Path",
          "#19",
          "Xtal",
          "Icct Hedral",
          "#18",
          "Heliosphan",
          "We Are the Music Makers",
          "XMAS_EVET10 [120][thanaton3 mix]",
          "Pulsewidth",
          "Lornaderek",
          "Girl/Boy Song",
          "Delphium",
          "fz pseudotimestretch+e+3 [138.85]",
          "Peek 82454201",
          "4 bit 9d api+e+6 [126.26]",
          "Alberto Balsalm",
          "Btoum-Roumada",
          "The Waxen Pith",
          "Ageispolis",
          "Kladfvgbung Mischk",
          "Flim",
          "Wet Tip Hen Ax",
          "Orban Eq Trx 4",
          "IZ-US",
          "#12",
          "Hedphelym",
          "PAPAT4 [155][pineal mix]",
          "Digeridoo - Cr7E Version, Live In Cornwall",
          "syro u473t8+e [141.98][piezoluminescence mix]",
          "CIRCLONT6A [141.98][syrobonkus mix]",
          "Gwarek2",
          "180db_ [130]",
          "Funny Little Man",
          "produk 29 [101]",
          "Cow Cud Is A Twin",
          "minipops 67 [120.2][source field mix]",
          "Ptolemy",
          "s950tx16wasr10 [163.97][earth portal mix]",
          "Yellow Calx",
          "Flap Head - Cr7E Version",
          "CIRCLONT14 [152.97][shrymoming mix]",
          "Taking Control",
          "Acrid Avid Jam Shred",
          "Wax The Nip",
          "#15",
          "Bucephalus Bouncing Ball [Chosen by Warp co-founder Steve Beckett]",
          "Isoprophlex - 2022 Remaster",
          "Meltphace 6",
          "Ventolin - Video Edit",
          "Come On You Slags",
          "Vordhosbn",
          "Start As You Mean To Go On",
          "Ziggomatic 17",
          "To Cure A Weakling Child",
          "Mt Saint Michel + Saint Michaels Mount",
          "Cock/ver10",
          "Cornish Acid",
          "Carn Marth",
          "54 Cymru Beats",
          "Afx237 v.7",
          "Green Calx",
          "Logan Rock Witch",
          "Phloam - Cr7E Version",
          "Omgyjya-Switch7"
         ],
         "legendgroup": "",
         "marker": {
          "color": "#636efa",
          "symbol": "circle"
         },
         "mode": "markers",
         "name": "",
         "orientation": "v",
         "showlegend": false,
         "type": "scatter",
         "x": [
          0.016225783167019853,
          0.0006282749242783206,
          0.10992337462172044,
          0.0380439341424908,
          0.12839314731277915,
          0.041007232918991485,
          0,
          0.15147642321701332,
          0.13229694039051101,
          0.24923611718991262,
          0.18885119741914794,
          0.14596221183775587,
          0.031016263869401123,
          0.25825927421334566,
          0.04618169961793609,
          0.03038586000660067,
          0.11071274076419964,
          0.10896593650412288,
          0.05387307157662376,
          0.28670041664517176,
          0.14582508915210635,
          0.17394657767453742,
          0.1568224095320577,
          0.22541568026273573,
          0.07787052781477057,
          0.18165456674028244,
          0.29689859670949287,
          0.302432315927028,
          0.16842001361507195,
          0.3239939881290249,
          0.37696283381567247,
          0.39173475501595717,
          0.4001199463008246,
          0.37039153165652294,
          0.3605430811982355,
          0.6120667987555499,
          0.6075396403361762,
          0.36867016117074664,
          0.49975961227088433,
          0.18524554869137633,
          0.39542062323552196,
          0.1118697325044534,
          0.4904560136347178,
          0.5679300156284152,
          0.29317248157600106,
          0.5211986995831351,
          0.749872702116234,
          0.28276411474422253,
          0.5410242865327608,
          0.5790555286647644,
          0.8649220135640657,
          0.5071840605325375,
          0.3239991738111312,
          0.6730959074612812,
          0.4473387280522124,
          0.47732155626610634,
          0.7871289184250427,
          0.8491544968207997,
          0.6123487212539896,
          0.32526397326497186,
          0.47907076959482436,
          0.41830984801830967,
          0.5766945658215563,
          0.6686024062222724,
          0.5691847334209543,
          0.5168147947338685,
          0.5278484502675873,
          0.4832783647415077,
          0.7717055425407843,
          0.9222669338232845,
          0.9683147291029963,
          0.8409767680883644,
          0.9055027811257136,
          0.30061103194557104,
          0.7809800737472087,
          0.6408170153983784,
          0.7460615152191058,
          0.7310920554285409,
          0.8721614424318416,
          0.7009903490081487,
          0.9376438416125396,
          0.864986708002818,
          1,
          0.9498450298705194,
          0.7382957918900235,
          0.8465090955983068,
          0.7913595334179337,
          0.7401503419655112,
          0.863290939067115,
          0.9496632211406423,
          0.850587838500562,
          0.8749990861202012,
          0.8433986705686831,
          0.9163459842174692,
          0.8828588656332634,
          0.8047669775876328,
          0.8871566238102511,
          0.877573440426987,
          0.8781891558735619,
          0.900985761779201,
          0.9575295431757688,
          0.9210956344724648,
          0.9097062889950988,
          0.7726685845455338,
          0.6772290082024256,
          0.9793564218167101,
          0.9004998143934537
         ],
         "xaxis": "x",
         "y": [
          1,
          0.9897047244094487,
          0.9845295275590552,
          0.9776574803149606,
          0.9706988188976381,
          0.9661811023622047,
          0.9614566929133859,
          0.9536811023622047,
          0.9528051181102362,
          0.9498720472440945,
          0.949242125984252,
          0.9479625984251968,
          0.9403838582677166,
          0.9396653543307086,
          0.9390255905511811,
          0.928297244094488,
          0.9281102362204725,
          0.9235039370078741,
          0.9128248031496063,
          0.9090551181102363,
          0.9055413385826772,
          0.9020570866141734,
          0.8925393700787402,
          0.8839665354330709,
          0.8809350393700787,
          0.8768799212598425,
          0.8747834645669293,
          0.8553444881889767,
          0.8532283464566929,
          0.8529625984251968,
          0.8440059055118109,
          0.8414468503937007,
          0.8216633858267717,
          0.7929232283464567,
          0.7678248031496062,
          0.760738188976378,
          0.7508956692913386,
          0.7486220472440944,
          0.7441043307086616,
          0.727982283464567,
          0.7020177165354331,
          0.6970248031496062,
          0.6510925196850396,
          0.6493602362204725,
          0.6356397637795277,
          0.6057185039370081,
          0.6006988188976378,
          0.5938090551181102,
          0.592726377952756,
          0.5906594488188978,
          0.5885925196850395,
          0.5765846456692914,
          0.5760925196850394,
          0.5742224409448821,
          0.5733562992125985,
          0.5689074803149606,
          0.5687106299212599,
          0.5508956692913386,
          0.5452854330708664,
          0.5397653543307087,
          0.539694881889764,
          0.5227549212598426,
          0.5203838582677165,
          0.5056200787401576,
          0.4996062992125986,
          0.4993226377952757,
          0.4963090551181103,
          0.48335994094488194,
          0.4738090551181102,
          0.46123031496063,
          0.4592618110236221,
          0.45847440944881895,
          0.4510925196850395,
          0.449724409448819,
          0.43082874015748035,
          0.4302559055118111,
          0.39820866141732286,
          0.39665354330708663,
          0.3927263779527559,
          0.38245049212598436,
          0.3816043307086615,
          0.3622145669291339,
          0.36132874015748034,
          0.3586712598425198,
          0.3585925196850395,
          0.3461614173228349,
          0.3391633858267717,
          0.3387219488188977,
          0.33572834645669297,
          0.3258956692913386,
          0.3233366141732284,
          0.31841309055118117,
          0.31772637795275593,
          0.31562992125984257,
          0.31251476377952764,
          0.30862204724409453,
          0.30434055118110237,
          0.27038090551181104,
          0.26764763779527573,
          0.2669261811023622,
          0.26019685039370083,
          0.21804133858267724,
          0.17324803149606302,
          0.1583366141732284,
          0.11430118110236225,
          0.11320472440944886,
          0
         ],
         "yaxis": "y"
        },
        {
         "line": {
          "color": "red",
          "width": 2
         },
         "mode": "lines",
         "name": "Regression Line",
         "type": "scatter",
         "x": [
          0.016225783167019853,
          0.0006282749242783206,
          0.10992337462172044,
          0.0380439341424908,
          0.12839314731277915,
          0.041007232918991485,
          0,
          0.15147642321701332,
          0.13229694039051101,
          0.24923611718991262,
          0.18885119741914794,
          0.14596221183775587,
          0.031016263869401123,
          0.25825927421334566,
          0.04618169961793609,
          0.03038586000660067,
          0.11071274076419964,
          0.10896593650412288,
          0.05387307157662376,
          0.28670041664517176,
          0.14582508915210635,
          0.17394657767453742,
          0.1568224095320577,
          0.22541568026273573,
          0.07787052781477057,
          0.18165456674028244,
          0.29689859670949287,
          0.302432315927028,
          0.16842001361507195,
          0.3239939881290249,
          0.37696283381567247,
          0.39173475501595717,
          0.4001199463008246,
          0.37039153165652294,
          0.3605430811982355,
          0.6120667987555499,
          0.6075396403361762,
          0.36867016117074664,
          0.49975961227088433,
          0.18524554869137633,
          0.39542062323552196,
          0.1118697325044534,
          0.4904560136347178,
          0.5679300156284152,
          0.29317248157600106,
          0.5211986995831351,
          0.749872702116234,
          0.28276411474422253,
          0.5410242865327608,
          0.5790555286647644,
          0.8649220135640657,
          0.5071840605325375,
          0.3239991738111312,
          0.6730959074612812,
          0.4473387280522124,
          0.47732155626610634,
          0.7871289184250427,
          0.8491544968207997,
          0.6123487212539896,
          0.32526397326497186,
          0.47907076959482436,
          0.41830984801830967,
          0.5766945658215563,
          0.6686024062222724,
          0.5691847334209543,
          0.5168147947338685,
          0.5278484502675873,
          0.4832783647415077,
          0.7717055425407843,
          0.9222669338232845,
          0.9683147291029963,
          0.8409767680883644,
          0.9055027811257136,
          0.30061103194557104,
          0.7809800737472087,
          0.6408170153983784,
          0.7460615152191058,
          0.7310920554285409,
          0.8721614424318416,
          0.7009903490081487,
          0.9376438416125396,
          0.864986708002818,
          1,
          0.9498450298705194,
          0.7382957918900235,
          0.8465090955983068,
          0.7913595334179337,
          0.7401503419655112,
          0.863290939067115,
          0.9496632211406423,
          0.850587838500562,
          0.8749990861202012,
          0.8433986705686831,
          0.9163459842174692,
          0.8828588656332634,
          0.8047669775876328,
          0.8871566238102511,
          0.877573440426987,
          0.8781891558735619,
          0.900985761779201,
          0.9575295431757688,
          0.9210956344724648,
          0.9097062889950988,
          0.7726685845455338,
          0.6772290082024256,
          0.9793564218167101,
          0.9004998143934537
         ],
         "y": [
          0.9765693434653899,
          0.9881629297336806,
          0.9069241736885671,
          0.9603519700482978,
          0.8931956409180103,
          0.9581493579727396,
          0.9886299248088852,
          0.8760379035162664,
          0.8902939619372473,
          0.8033733837738944,
          0.8482573335542678,
          0.8801366021245369,
          0.96557561861499,
          0.7966664952289125,
          0.9543031906790291,
          0.9660441961245189,
          0.9063374399406072,
          0.9076358348872771,
          0.9485862144199492,
          0.7755262699300695,
          0.8802385250509862,
          0.8593358976502748,
          0.8720642461494617,
          0.8210790509975112,
          0.9307489692147122,
          0.8536065699398476,
          0.7679459898933341,
          0.7638327911609117,
          0.8634437779727914,
          0.7478060577319497,
          0.7084344560348836,
          0.697454526412882,
          0.691221836099513,
          0.7133188873999101,
          0.7206392143534334,
          0.5336823060678473,
          0.5370473308441382,
          0.7145983774899907,
          0.6171599381867403,
          0.8509374026350471,
          0.6947148303978495,
          0.9054774510665142,
          0.6240752782343497,
          0.5664890592251921,
          0.7707156013321242,
          0.6012243217793143,
          0.43125154571641056,
          0.778452112632408,
          0.586488015887189,
          0.558219495064139,
          0.3457356994273989,
          0.6116413655996098,
          0.7478022032282736,
          0.48831953237057757,
          0.6561242415864241,
          0.6338380853584329,
          0.40355909952025126,
          0.35745565256060796,
          0.5334727538268249,
          0.7468620811682637,
          0.6325378997574684,
          0.6777013306770183,
          0.5599743924472963,
          0.4916595398544885,
          0.5655564308371334,
          0.6044828665590936,
          0.5962815798347028,
          0.6294104055092884,
          0.4150232536710039,
          0.3031113731743328,
          0.26888416978187024,
          0.3635341365121896,
          0.31557212315371064,
          0.7651865466857984,
          0.4081295193663804,
          0.512312346732465,
          0.4340843907701708,
          0.44521115029936587,
          0.3403546512621721,
          0.4675856683811229,
          0.2916817586346361,
          0.34568761222365585,
          0.24533259244902794,
          0.28261264795085916,
          0.4398566322045224,
          0.35942197223230843,
          0.4004144946817937,
          0.4384781500806846,
          0.3469480727498626,
          0.28274778589477656,
          0.35639025351368037,
          0.3382454382784267,
          0.361733942859333,
          0.3075123992213725,
          0.33240328513343087,
          0.3904487771966927,
          0.3292087729453481,
          0.3363319275896436,
          0.33587426794071173,
          0.3189296115841913,
          0.2769007697105835,
          0.30398199685719196,
          0.3124476669678429,
          0.4143074271179231,
          0.4852474096153103,
          0.2606769090430294,
          0.3192908149796845
         ]
        }
       ],
       "layout": {
        "height": 600,
        "legend": {
         "tracegroupgap": 0
        },
        "template": {
         "data": {
          "bar": [
           {
            "error_x": {
             "color": "#2a3f5f"
            },
            "error_y": {
             "color": "#2a3f5f"
            },
            "marker": {
             "line": {
              "color": "#E5ECF6",
              "width": 0.5
             },
             "pattern": {
              "fillmode": "overlay",
              "size": 10,
              "solidity": 0.2
             }
            },
            "type": "bar"
           }
          ],
          "barpolar": [
           {
            "marker": {
             "line": {
              "color": "#E5ECF6",
              "width": 0.5
             },
             "pattern": {
              "fillmode": "overlay",
              "size": 10,
              "solidity": 0.2
             }
            },
            "type": "barpolar"
           }
          ],
          "carpet": [
           {
            "aaxis": {
             "endlinecolor": "#2a3f5f",
             "gridcolor": "white",
             "linecolor": "white",
             "minorgridcolor": "white",
             "startlinecolor": "#2a3f5f"
            },
            "baxis": {
             "endlinecolor": "#2a3f5f",
             "gridcolor": "white",
             "linecolor": "white",
             "minorgridcolor": "white",
             "startlinecolor": "#2a3f5f"
            },
            "type": "carpet"
           }
          ],
          "choropleth": [
           {
            "colorbar": {
             "outlinewidth": 0,
             "ticks": ""
            },
            "type": "choropleth"
           }
          ],
          "contour": [
           {
            "colorbar": {
             "outlinewidth": 0,
             "ticks": ""
            },
            "colorscale": [
             [
              0,
              "#0d0887"
             ],
             [
              0.1111111111111111,
              "#46039f"
             ],
             [
              0.2222222222222222,
              "#7201a8"
             ],
             [
              0.3333333333333333,
              "#9c179e"
             ],
             [
              0.4444444444444444,
              "#bd3786"
             ],
             [
              0.5555555555555556,
              "#d8576b"
             ],
             [
              0.6666666666666666,
              "#ed7953"
             ],
             [
              0.7777777777777778,
              "#fb9f3a"
             ],
             [
              0.8888888888888888,
              "#fdca26"
             ],
             [
              1,
              "#f0f921"
             ]
            ],
            "type": "contour"
           }
          ],
          "contourcarpet": [
           {
            "colorbar": {
             "outlinewidth": 0,
             "ticks": ""
            },
            "type": "contourcarpet"
           }
          ],
          "heatmap": [
           {
            "colorbar": {
             "outlinewidth": 0,
             "ticks": ""
            },
            "colorscale": [
             [
              0,
              "#0d0887"
             ],
             [
              0.1111111111111111,
              "#46039f"
             ],
             [
              0.2222222222222222,
              "#7201a8"
             ],
             [
              0.3333333333333333,
              "#9c179e"
             ],
             [
              0.4444444444444444,
              "#bd3786"
             ],
             [
              0.5555555555555556,
              "#d8576b"
             ],
             [
              0.6666666666666666,
              "#ed7953"
             ],
             [
              0.7777777777777778,
              "#fb9f3a"
             ],
             [
              0.8888888888888888,
              "#fdca26"
             ],
             [
              1,
              "#f0f921"
             ]
            ],
            "type": "heatmap"
           }
          ],
          "heatmapgl": [
           {
            "colorbar": {
             "outlinewidth": 0,
             "ticks": ""
            },
            "colorscale": [
             [
              0,
              "#0d0887"
             ],
             [
              0.1111111111111111,
              "#46039f"
             ],
             [
              0.2222222222222222,
              "#7201a8"
             ],
             [
              0.3333333333333333,
              "#9c179e"
             ],
             [
              0.4444444444444444,
              "#bd3786"
             ],
             [
              0.5555555555555556,
              "#d8576b"
             ],
             [
              0.6666666666666666,
              "#ed7953"
             ],
             [
              0.7777777777777778,
              "#fb9f3a"
             ],
             [
              0.8888888888888888,
              "#fdca26"
             ],
             [
              1,
              "#f0f921"
             ]
            ],
            "type": "heatmapgl"
           }
          ],
          "histogram": [
           {
            "marker": {
             "pattern": {
              "fillmode": "overlay",
              "size": 10,
              "solidity": 0.2
             }
            },
            "type": "histogram"
           }
          ],
          "histogram2d": [
           {
            "colorbar": {
             "outlinewidth": 0,
             "ticks": ""
            },
            "colorscale": [
             [
              0,
              "#0d0887"
             ],
             [
              0.1111111111111111,
              "#46039f"
             ],
             [
              0.2222222222222222,
              "#7201a8"
             ],
             [
              0.3333333333333333,
              "#9c179e"
             ],
             [
              0.4444444444444444,
              "#bd3786"
             ],
             [
              0.5555555555555556,
              "#d8576b"
             ],
             [
              0.6666666666666666,
              "#ed7953"
             ],
             [
              0.7777777777777778,
              "#fb9f3a"
             ],
             [
              0.8888888888888888,
              "#fdca26"
             ],
             [
              1,
              "#f0f921"
             ]
            ],
            "type": "histogram2d"
           }
          ],
          "histogram2dcontour": [
           {
            "colorbar": {
             "outlinewidth": 0,
             "ticks": ""
            },
            "colorscale": [
             [
              0,
              "#0d0887"
             ],
             [
              0.1111111111111111,
              "#46039f"
             ],
             [
              0.2222222222222222,
              "#7201a8"
             ],
             [
              0.3333333333333333,
              "#9c179e"
             ],
             [
              0.4444444444444444,
              "#bd3786"
             ],
             [
              0.5555555555555556,
              "#d8576b"
             ],
             [
              0.6666666666666666,
              "#ed7953"
             ],
             [
              0.7777777777777778,
              "#fb9f3a"
             ],
             [
              0.8888888888888888,
              "#fdca26"
             ],
             [
              1,
              "#f0f921"
             ]
            ],
            "type": "histogram2dcontour"
           }
          ],
          "mesh3d": [
           {
            "colorbar": {
             "outlinewidth": 0,
             "ticks": ""
            },
            "type": "mesh3d"
           }
          ],
          "parcoords": [
           {
            "line": {
             "colorbar": {
              "outlinewidth": 0,
              "ticks": ""
             }
            },
            "type": "parcoords"
           }
          ],
          "pie": [
           {
            "automargin": true,
            "type": "pie"
           }
          ],
          "scatter": [
           {
            "fillpattern": {
             "fillmode": "overlay",
             "size": 10,
             "solidity": 0.2
            },
            "type": "scatter"
           }
          ],
          "scatter3d": [
           {
            "line": {
             "colorbar": {
              "outlinewidth": 0,
              "ticks": ""
             }
            },
            "marker": {
             "colorbar": {
              "outlinewidth": 0,
              "ticks": ""
             }
            },
            "type": "scatter3d"
           }
          ],
          "scattercarpet": [
           {
            "marker": {
             "colorbar": {
              "outlinewidth": 0,
              "ticks": ""
             }
            },
            "type": "scattercarpet"
           }
          ],
          "scattergeo": [
           {
            "marker": {
             "colorbar": {
              "outlinewidth": 0,
              "ticks": ""
             }
            },
            "type": "scattergeo"
           }
          ],
          "scattergl": [
           {
            "marker": {
             "colorbar": {
              "outlinewidth": 0,
              "ticks": ""
             }
            },
            "type": "scattergl"
           }
          ],
          "scattermapbox": [
           {
            "marker": {
             "colorbar": {
              "outlinewidth": 0,
              "ticks": ""
             }
            },
            "type": "scattermapbox"
           }
          ],
          "scatterpolar": [
           {
            "marker": {
             "colorbar": {
              "outlinewidth": 0,
              "ticks": ""
             }
            },
            "type": "scatterpolar"
           }
          ],
          "scatterpolargl": [
           {
            "marker": {
             "colorbar": {
              "outlinewidth": 0,
              "ticks": ""
             }
            },
            "type": "scatterpolargl"
           }
          ],
          "scatterternary": [
           {
            "marker": {
             "colorbar": {
              "outlinewidth": 0,
              "ticks": ""
             }
            },
            "type": "scatterternary"
           }
          ],
          "surface": [
           {
            "colorbar": {
             "outlinewidth": 0,
             "ticks": ""
            },
            "colorscale": [
             [
              0,
              "#0d0887"
             ],
             [
              0.1111111111111111,
              "#46039f"
             ],
             [
              0.2222222222222222,
              "#7201a8"
             ],
             [
              0.3333333333333333,
              "#9c179e"
             ],
             [
              0.4444444444444444,
              "#bd3786"
             ],
             [
              0.5555555555555556,
              "#d8576b"
             ],
             [
              0.6666666666666666,
              "#ed7953"
             ],
             [
              0.7777777777777778,
              "#fb9f3a"
             ],
             [
              0.8888888888888888,
              "#fdca26"
             ],
             [
              1,
              "#f0f921"
             ]
            ],
            "type": "surface"
           }
          ],
          "table": [
           {
            "cells": {
             "fill": {
              "color": "#EBF0F8"
             },
             "line": {
              "color": "white"
             }
            },
            "header": {
             "fill": {
              "color": "#C8D4E3"
             },
             "line": {
              "color": "white"
             }
            },
            "type": "table"
           }
          ]
         },
         "layout": {
          "annotationdefaults": {
           "arrowcolor": "#2a3f5f",
           "arrowhead": 0,
           "arrowwidth": 1
          },
          "autotypenumbers": "strict",
          "coloraxis": {
           "colorbar": {
            "outlinewidth": 0,
            "ticks": ""
           }
          },
          "colorscale": {
           "diverging": [
            [
             0,
             "#8e0152"
            ],
            [
             0.1,
             "#c51b7d"
            ],
            [
             0.2,
             "#de77ae"
            ],
            [
             0.3,
             "#f1b6da"
            ],
            [
             0.4,
             "#fde0ef"
            ],
            [
             0.5,
             "#f7f7f7"
            ],
            [
             0.6,
             "#e6f5d0"
            ],
            [
             0.7,
             "#b8e186"
            ],
            [
             0.8,
             "#7fbc41"
            ],
            [
             0.9,
             "#4d9221"
            ],
            [
             1,
             "#276419"
            ]
           ],
           "sequential": [
            [
             0,
             "#0d0887"
            ],
            [
             0.1111111111111111,
             "#46039f"
            ],
            [
             0.2222222222222222,
             "#7201a8"
            ],
            [
             0.3333333333333333,
             "#9c179e"
            ],
            [
             0.4444444444444444,
             "#bd3786"
            ],
            [
             0.5555555555555556,
             "#d8576b"
            ],
            [
             0.6666666666666666,
             "#ed7953"
            ],
            [
             0.7777777777777778,
             "#fb9f3a"
            ],
            [
             0.8888888888888888,
             "#fdca26"
            ],
            [
             1,
             "#f0f921"
            ]
           ],
           "sequentialminus": [
            [
             0,
             "#0d0887"
            ],
            [
             0.1111111111111111,
             "#46039f"
            ],
            [
             0.2222222222222222,
             "#7201a8"
            ],
            [
             0.3333333333333333,
             "#9c179e"
            ],
            [
             0.4444444444444444,
             "#bd3786"
            ],
            [
             0.5555555555555556,
             "#d8576b"
            ],
            [
             0.6666666666666666,
             "#ed7953"
            ],
            [
             0.7777777777777778,
             "#fb9f3a"
            ],
            [
             0.8888888888888888,
             "#fdca26"
            ],
            [
             1,
             "#f0f921"
            ]
           ]
          },
          "colorway": [
           "#636efa",
           "#EF553B",
           "#00cc96",
           "#ab63fa",
           "#FFA15A",
           "#19d3f3",
           "#FF6692",
           "#B6E880",
           "#FF97FF",
           "#FECB52"
          ],
          "font": {
           "color": "#2a3f5f"
          },
          "geo": {
           "bgcolor": "white",
           "lakecolor": "white",
           "landcolor": "#E5ECF6",
           "showlakes": true,
           "showland": true,
           "subunitcolor": "white"
          },
          "hoverlabel": {
           "align": "left"
          },
          "hovermode": "closest",
          "mapbox": {
           "style": "light"
          },
          "paper_bgcolor": "white",
          "plot_bgcolor": "#E5ECF6",
          "polar": {
           "angularaxis": {
            "gridcolor": "white",
            "linecolor": "white",
            "ticks": ""
           },
           "bgcolor": "#E5ECF6",
           "radialaxis": {
            "gridcolor": "white",
            "linecolor": "white",
            "ticks": ""
           }
          },
          "scene": {
           "xaxis": {
            "backgroundcolor": "#E5ECF6",
            "gridcolor": "white",
            "gridwidth": 2,
            "linecolor": "white",
            "showbackground": true,
            "ticks": "",
            "zerolinecolor": "white"
           },
           "yaxis": {
            "backgroundcolor": "#E5ECF6",
            "gridcolor": "white",
            "gridwidth": 2,
            "linecolor": "white",
            "showbackground": true,
            "ticks": "",
            "zerolinecolor": "white"
           },
           "zaxis": {
            "backgroundcolor": "#E5ECF6",
            "gridcolor": "white",
            "gridwidth": 2,
            "linecolor": "white",
            "showbackground": true,
            "ticks": "",
            "zerolinecolor": "white"
           }
          },
          "shapedefaults": {
           "line": {
            "color": "#2a3f5f"
           }
          },
          "ternary": {
           "aaxis": {
            "gridcolor": "white",
            "linecolor": "white",
            "ticks": ""
           },
           "baxis": {
            "gridcolor": "white",
            "linecolor": "white",
            "ticks": ""
           },
           "bgcolor": "#E5ECF6",
           "caxis": {
            "gridcolor": "white",
            "linecolor": "white",
            "ticks": ""
           }
          },
          "title": {
           "x": 0.05
          },
          "xaxis": {
           "automargin": true,
           "gridcolor": "white",
           "linecolor": "white",
           "ticks": "",
           "title": {
            "standoff": 15
           },
           "zerolinecolor": "white",
           "zerolinewidth": 2
          },
          "yaxis": {
           "automargin": true,
           "gridcolor": "white",
           "linecolor": "white",
           "ticks": "",
           "title": {
            "standoff": 15
           },
           "zerolinecolor": "white",
           "zerolinewidth": 2
          }
         }
        },
        "title": {
         "text": "Bangerness vs Ambientness with Linear Regression"
        },
        "width": 1000,
        "xaxis": {
         "anchor": "y",
         "autorange": true,
         "domain": [
          0,
          1
         ],
         "range": [
          -0.06177260519247985,
          1.0617726051924798
         ],
         "title": {
          "text": "Bangerness"
         },
         "type": "linear"
        },
        "yaxis": {
         "anchor": "x",
         "autorange": true,
         "domain": [
          0,
          1
         ],
         "range": [
          -0.06680161943319837,
          1.0668016194331984
         ],
         "title": {
          "text": "Ambientness"
         },
         "type": "linear"
        }
       }
      },
      "image/png": "[encoded data removed]",
      "text/html": [
       "<div>                            <div id=\"fe267062-5c35-4ab0-8cf4-69eedbca96d7\" class=\"plotly-graph-div\" style=\"height:600px; width:1000px;\"></div>            <script type=\"text/javascript\">                require([\"plotly\"], function(Plotly) {                    window.PLOTLYENV=window.PLOTLYENV || {};                                    if (document.getElementById(\"fe267062-5c35-4ab0-8cf4-69eedbca96d7\")) {                    Plotly.newPlot(                        \"fe267062-5c35-4ab0-8cf4-69eedbca96d7\",                        [{\"hovertemplate\":\"\\u003cb\\u003e%{hovertext}\\u003c\\u002fb\\u003e\\u003cbr\\u003e\\u003cbr\\u003eBangerness=%{x}\\u003cbr\\u003eAmbientness=%{y}\\u003cextra\\u003e\\u003c\\u002fextra\\u003e\",\"hovertext\":[\"#7\",\"#14\",\"Petiatil Cx Htdui\",\"#6\",\"Bit 4\",\"#20\",\"#10\",\"Strotha Tynhe\",\"Avril 14th\",\"Father\",\"Next Heap With\",\"#2\",\"I\",\"aisatsana [102]\",\"#5\",\"#11\",\"#21\",\"#23\",\"#3\",\"#4\",\"#22\",\"Gwely Mernans\",\"QKThr\",\"#8\",\"#13\",\"#17\",\"#24\",\"Beskhu3epnm\",\"#1\",\"Ruglen Holon\",\"Kesson Dalek\",\"Goon Gumpas\",\"Actium\",\"Jynweythek\",\"Tha\",\"Fingerbib\",\"Bbydhyonchord\",\"#16\",\"Hy A Scullyas Lyf Adhagrow\",\"#9\",\"Prep Gwarek 36\",\"Nanou2\",\"Mookid\",\"Schottkey 7th Path\",\"#19\",\"Xtal\",\"Icct Hedral\",\"#18\",\"Heliosphan\",\"We Are the Music Makers\",\"XMAS_EVET10 [120][thanaton3 mix]\",\"Pulsewidth\",\"Lornaderek\",\"Girl\\u002fBoy Song\",\"Delphium\",\"fz pseudotimestretch+e+3 [138.85]\",\"Peek 82454201\",\"4 bit 9d api+e+6 [126.26]\",\"Alberto Balsalm\",\"Btoum-Roumada\",\"The Waxen Pith\",\"Ageispolis\",\"Kladfvgbung Mischk\",\"Flim\",\"Wet Tip Hen Ax\",\"Orban Eq Trx 4\",\"IZ-US\",\"#12\",\"Hedphelym\",\"PAPAT4 [155][pineal mix]\",\"Digeridoo - Cr7E Version, Live In Cornwall\",\"syro u473t8+e [141.98][piezoluminescence mix]\",\"CIRCLONT6A [141.98][syrobonkus mix]\",\"Gwarek2\",\"180db_ [130]\",\"Funny Little Man\",\"produk 29 [101]\",\"Cow Cud Is A Twin\",\"minipops 67 [120.2][source field mix]\",\"Ptolemy\",\"s950tx16wasr10 [163.97][earth portal mix]\",\"Yellow Calx\",\"Flap Head - Cr7E Version\",\"CIRCLONT14 [152.97][shrymoming mix]\",\"Taking Control\",\"Acrid Avid Jam Shred\",\"Wax The Nip\",\"#15\",\"Bucephalus Bouncing Ball [Chosen by Warp co-founder Steve Beckett]\",\"Isoprophlex - 2022 Remaster\",\"Meltphace 6\",\"Ventolin - Video Edit\",\"Come On You Slags\",\"Vordhosbn\",\"Start As You Mean To Go On\",\"Ziggomatic 17\",\"To Cure A Weakling Child\",\"Mt Saint Michel + Saint Michaels Mount\",\"Cock\\u002fver10\",\"Cornish Acid\",\"Carn Marth\",\"54 Cymru Beats\",\"Afx237 v.7\",\"Green Calx\",\"Logan Rock Witch\",\"Phloam - Cr7E Version\",\"Omgyjya-Switch7\"],\"legendgroup\":\"\",\"marker\":{\"color\":\"#636efa\",\"symbol\":\"circle\"},\"mode\":\"markers\",\"name\":\"\",\"orientation\":\"v\",\"showlegend\":false,\"x\":[0.016225783167019853,0.0006282749242783206,0.10992337462172044,0.0380439341424908,0.12839314731277915,0.041007232918991485,0.0,0.15147642321701332,0.13229694039051101,0.24923611718991262,0.18885119741914794,0.14596221183775587,0.031016263869401123,0.25825927421334566,0.04618169961793609,0.03038586000660067,0.11071274076419964,0.10896593650412288,0.05387307157662376,0.28670041664517176,0.14582508915210635,0.17394657767453742,0.1568224095320577,0.22541568026273573,0.07787052781477057,0.18165456674028244,0.29689859670949287,0.302432315927028,0.16842001361507195,0.3239939881290249,0.37696283381567247,0.39173475501595717,0.4001199463008246,0.37039153165652294,0.3605430811982355,0.6120667987555499,0.6075396403361762,0.36867016117074664,0.49975961227088433,0.18524554869137633,0.39542062323552196,0.1118697325044534,0.4904560136347178,0.5679300156284152,0.29317248157600106,0.5211986995831351,0.749872702116234,0.28276411474422253,0.5410242865327608,0.5790555286647644,0.8649220135640657,0.5071840605325375,0.3239991738111312,0.6730959074612812,0.4473387280522124,0.47732155626610634,0.7871289184250427,0.8491544968207997,0.6123487212539896,0.32526397326497186,0.47907076959482436,0.41830984801830967,0.5766945658215563,0.6686024062222724,0.5691847334209543,0.5168147947338685,0.5278484502675873,0.4832783647415077,0.7717055425407843,0.9222669338232845,0.9683147291029963,0.8409767680883644,0.9055027811257136,0.30061103194557104,0.7809800737472087,0.6408170153983784,0.7460615152191058,0.7310920554285409,0.8721614424318416,0.7009903490081487,0.9376438416125396,0.864986708002818,1.0,0.9498450298705194,0.7382957918900235,0.8465090955983068,0.7913595334179337,0.7401503419655112,0.863290939067115,0.9496632211406423,0.850587838500562,0.8749990861202012,0.8433986705686831,0.9163459842174692,0.8828588656332634,0.8047669775876328,0.8871566238102511,0.877573440426987,0.8781891558735619,0.900985761779201,0.9575295431757688,0.9210956344724648,0.9097062889950988,0.7726685845455338,0.6772290082024256,0.9793564218167101,0.9004998143934537],\"xaxis\":\"x\",\"y\":[1.0,0.9897047244094487,0.9845295275590552,0.9776574803149606,0.9706988188976381,0.9661811023622047,0.9614566929133859,0.9536811023622047,0.9528051181102362,0.9498720472440945,0.949242125984252,0.9479625984251968,0.9403838582677166,0.9396653543307086,0.9390255905511811,0.928297244094488,0.9281102362204725,0.9235039370078741,0.9128248031496063,0.9090551181102363,0.9055413385826772,0.9020570866141734,0.8925393700787402,0.8839665354330709,0.8809350393700787,0.8768799212598425,0.8747834645669293,0.8553444881889767,0.8532283464566929,0.8529625984251968,0.8440059055118109,0.8414468503937007,0.8216633858267717,0.7929232283464567,0.7678248031496062,0.760738188976378,0.7508956692913386,0.7486220472440944,0.7441043307086616,0.727982283464567,0.7020177165354331,0.6970248031496062,0.6510925196850396,0.6493602362204725,0.6356397637795277,0.6057185039370081,0.6006988188976378,0.5938090551181102,0.592726377952756,0.5906594488188978,0.5885925196850395,0.5765846456692914,0.5760925196850394,0.5742224409448821,0.5733562992125985,0.5689074803149606,0.5687106299212599,0.5508956692913386,0.5452854330708664,0.5397653543307087,0.539694881889764,0.5227549212598426,0.5203838582677165,0.5056200787401576,0.4996062992125986,0.4993226377952757,0.4963090551181103,0.48335994094488194,0.4738090551181102,0.46123031496063,0.4592618110236221,0.45847440944881895,0.4510925196850395,0.449724409448819,0.43082874015748035,0.4302559055118111,0.39820866141732286,0.39665354330708663,0.3927263779527559,0.38245049212598436,0.3816043307086615,0.3622145669291339,0.36132874015748034,0.3586712598425198,0.3585925196850395,0.3461614173228349,0.3391633858267717,0.3387219488188977,0.33572834645669297,0.3258956692913386,0.3233366141732284,0.31841309055118117,0.31772637795275593,0.31562992125984257,0.31251476377952764,0.30862204724409453,0.30434055118110237,0.27038090551181104,0.26764763779527573,0.2669261811023622,0.26019685039370083,0.21804133858267724,0.17324803149606302,0.1583366141732284,0.11430118110236225,0.11320472440944886,0.0],\"yaxis\":\"y\",\"type\":\"scatter\"},{\"line\":{\"color\":\"red\",\"width\":2},\"mode\":\"lines\",\"name\":\"Regression Line\",\"x\":[0.016225783167019853,0.0006282749242783206,0.10992337462172044,0.0380439341424908,0.12839314731277915,0.041007232918991485,0.0,0.15147642321701332,0.13229694039051101,0.24923611718991262,0.18885119741914794,0.14596221183775587,0.031016263869401123,0.25825927421334566,0.04618169961793609,0.03038586000660067,0.11071274076419964,0.10896593650412288,0.05387307157662376,0.28670041664517176,0.14582508915210635,0.17394657767453742,0.1568224095320577,0.22541568026273573,0.07787052781477057,0.18165456674028244,0.29689859670949287,0.302432315927028,0.16842001361507195,0.3239939881290249,0.37696283381567247,0.39173475501595717,0.4001199463008246,0.37039153165652294,0.3605430811982355,0.6120667987555499,0.6075396403361762,0.36867016117074664,0.49975961227088433,0.18524554869137633,0.39542062323552196,0.1118697325044534,0.4904560136347178,0.5679300156284152,0.29317248157600106,0.5211986995831351,0.749872702116234,0.28276411474422253,0.5410242865327608,0.5790555286647644,0.8649220135640657,0.5071840605325375,0.3239991738111312,0.6730959074612812,0.4473387280522124,0.47732155626610634,0.7871289184250427,0.8491544968207997,0.6123487212539896,0.32526397326497186,0.47907076959482436,0.41830984801830967,0.5766945658215563,0.6686024062222724,0.5691847334209543,0.5168147947338685,0.5278484502675873,0.4832783647415077,0.7717055425407843,0.9222669338232845,0.9683147291029963,0.8409767680883644,0.9055027811257136,0.30061103194557104,0.7809800737472087,0.6408170153983784,0.7460615152191058,0.7310920554285409,0.8721614424318416,0.7009903490081487,0.9376438416125396,0.864986708002818,1.0,0.9498450298705194,0.7382957918900235,0.8465090955983068,0.7913595334179337,0.7401503419655112,0.863290939067115,0.9496632211406423,0.850587838500562,0.8749990861202012,0.8433986705686831,0.9163459842174692,0.8828588656332634,0.8047669775876328,0.8871566238102511,0.877573440426987,0.8781891558735619,0.900985761779201,0.9575295431757688,0.9210956344724648,0.9097062889950988,0.7726685845455338,0.6772290082024256,0.9793564218167101,0.9004998143934537],\"y\":[0.9765693434653899,0.9881629297336806,0.9069241736885671,0.9603519700482978,0.8931956409180103,0.9581493579727396,0.9886299248088852,0.8760379035162664,0.8902939619372473,0.8033733837738944,0.8482573335542678,0.8801366021245369,0.96557561861499,0.7966664952289125,0.9543031906790291,0.9660441961245189,0.9063374399406072,0.9076358348872771,0.9485862144199492,0.7755262699300695,0.8802385250509862,0.8593358976502748,0.8720642461494617,0.8210790509975112,0.9307489692147122,0.8536065699398476,0.7679459898933341,0.7638327911609117,0.8634437779727914,0.7478060577319497,0.7084344560348836,0.697454526412882,0.691221836099513,0.7133188873999101,0.7206392143534334,0.5336823060678473,0.5370473308441382,0.7145983774899907,0.6171599381867403,0.8509374026350471,0.6947148303978495,0.9054774510665142,0.6240752782343497,0.5664890592251921,0.7707156013321242,0.6012243217793143,0.43125154571641056,0.778452112632408,0.586488015887189,0.558219495064139,0.3457356994273989,0.6116413655996098,0.7478022032282736,0.48831953237057757,0.6561242415864241,0.6338380853584329,0.40355909952025126,0.35745565256060796,0.5334727538268249,0.7468620811682637,0.6325378997574684,0.6777013306770183,0.5599743924472963,0.4916595398544885,0.5655564308371334,0.6044828665590936,0.5962815798347028,0.6294104055092884,0.4150232536710039,0.3031113731743328,0.26888416978187024,0.3635341365121896,0.31557212315371064,0.7651865466857984,0.4081295193663804,0.512312346732465,0.4340843907701708,0.44521115029936587,0.3403546512621721,0.4675856683811229,0.2916817586346361,0.34568761222365585,0.24533259244902794,0.28261264795085916,0.4398566322045224,0.35942197223230843,0.4004144946817937,0.4384781500806846,0.3469480727498626,0.28274778589477656,0.35639025351368037,0.3382454382784267,0.361733942859333,0.3075123992213725,0.33240328513343087,0.3904487771966927,0.3292087729453481,0.3363319275896436,0.33587426794071173,0.3189296115841913,0.2769007697105835,0.30398199685719196,0.3124476669678429,0.4143074271179231,0.4852474096153103,0.2606769090430294,0.3192908149796845],\"type\":\"scatter\"}],                        {\"template\":{\"data\":{\"histogram2dcontour\":[{\"type\":\"histogram2dcontour\",\"colorbar\":{\"outlinewidth\":0,\"ticks\":\"\"},\"colorscale\":[[0.0,\"#0d0887\"],[0.1111111111111111,\"#46039f\"],[0.2222222222222222,\"#7201a8\"],[0.3333333333333333,\"#9c179e\"],[0.4444444444444444,\"#bd3786\"],[0.5555555555555556,\"#d8576b\"],[0.6666666666666666,\"#ed7953\"],[0.7777777777777778,\"#fb9f3a\"],[0.8888888888888888,\"#fdca26\"],[1.0,\"#f0f921\"]]}],\"choropleth\":[{\"type\":\"choropleth\",\"colorbar\":{\"outlinewidth\":0,\"ticks\":\"\"}}],\"histogram2d\":[{\"type\":\"histogram2d\",\"colorbar\":{\"outlinewidth\":0,\"ticks\":\"\"},\"colorscale\":[[0.0,\"#0d0887\"],[0.1111111111111111,\"#46039f\"],[0.2222222222222222,\"#7201a8\"],[0.3333333333333333,\"#9c179e\"],[0.4444444444444444,\"#bd3786\"],[0.5555555555555556,\"#d8576b\"],[0.6666666666666666,\"#ed7953\"],[0.7777777777777778,\"#fb9f3a\"],[0.8888888888888888,\"#fdca26\"],[1.0,\"#f0f921\"]]}],\"heatmap\":[{\"type\":\"heatmap\",\"colorbar\":{\"outlinewidth\":0,\"ticks\":\"\"},\"colorscale\":[[0.0,\"#0d0887\"],[0.1111111111111111,\"#46039f\"],[0.2222222222222222,\"#7201a8\"],[0.3333333333333333,\"#9c179e\"],[0.4444444444444444,\"#bd3786\"],[0.5555555555555556,\"#d8576b\"],[0.6666666666666666,\"#ed7953\"],[0.7777777777777778,\"#fb9f3a\"],[0.8888888888888888,\"#fdca26\"],[1.0,\"#f0f921\"]]}],\"heatmapgl\":[{\"type\":\"heatmapgl\",\"colorbar\":{\"outlinewidth\":0,\"ticks\":\"\"},\"colorscale\":[[0.0,\"#0d0887\"],[0.1111111111111111,\"#46039f\"],[0.2222222222222222,\"#7201a8\"],[0.3333333333333333,\"#9c179e\"],[0.4444444444444444,\"#bd3786\"],[0.5555555555555556,\"#d8576b\"],[0.6666666666666666,\"#ed7953\"],[0.7777777777777778,\"#fb9f3a\"],[0.8888888888888888,\"#fdca26\"],[1.0,\"#f0f921\"]]}],\"contourcarpet\":[{\"type\":\"contourcarpet\",\"colorbar\":{\"outlinewidth\":0,\"ticks\":\"\"}}],\"contour\":[{\"type\":\"contour\",\"colorbar\":{\"outlinewidth\":0,\"ticks\":\"\"},\"colorscale\":[[0.0,\"#0d0887\"],[0.1111111111111111,\"#46039f\"],[0.2222222222222222,\"#7201a8\"],[0.3333333333333333,\"#9c179e\"],[0.4444444444444444,\"#bd3786\"],[0.5555555555555556,\"#d8576b\"],[0.6666666666666666,\"#ed7953\"],[0.7777777777777778,\"#fb9f3a\"],[0.8888888888888888,\"#fdca26\"],[1.0,\"#f0f921\"]]}],\"surface\":[{\"type\":\"surface\",\"colorbar\":{\"outlinewidth\":0,\"ticks\":\"\"},\"colorscale\":[[0.0,\"#0d0887\"],[0.1111111111111111,\"#46039f\"],[0.2222222222222222,\"#7201a8\"],[0.3333333333333333,\"#9c179e\"],[0.4444444444444444,\"#bd3786\"],[0.5555555555555556,\"#d8576b\"],[0.6666666666666666,\"#ed7953\"],[0.7777777777777778,\"#fb9f3a\"],[0.8888888888888888,\"#fdca26\"],[1.0,\"#f0f921\"]]}],\"mesh3d\":[{\"type\":\"mesh3d\",\"colorbar\":{\"outlinewidth\":0,\"ticks\":\"\"}}],\"scatter\":[{\"fillpattern\":{\"fillmode\":\"overlay\",\"size\":10,\"solidity\":0.2},\"type\":\"scatter\"}],\"parcoords\":[{\"type\":\"parcoords\",\"line\":{\"colorbar\":{\"outlinewidth\":0,\"ticks\":\"\"}}}],\"scatterpolargl\":[{\"type\":\"scatterpolargl\",\"marker\":{\"colorbar\":{\"outlinewidth\":0,\"ticks\":\"\"}}}],\"bar\":[{\"error_x\":{\"color\":\"#2a3f5f\"},\"error_y\":{\"color\":\"#2a3f5f\"},\"marker\":{\"line\":{\"color\":\"#E5ECF6\",\"width\":0.5},\"pattern\":{\"fillmode\":\"overlay\",\"size\":10,\"solidity\":0.2}},\"type\":\"bar\"}],\"scattergeo\":[{\"type\":\"scattergeo\",\"marker\":{\"colorbar\":{\"outlinewidth\":0,\"ticks\":\"\"}}}],\"scatterpolar\":[{\"type\":\"scatterpolar\",\"marker\":{\"colorbar\":{\"outlinewidth\":0,\"ticks\":\"\"}}}],\"histogram\":[{\"marker\":{\"pattern\":{\"fillmode\":\"overlay\",\"size\":10,\"solidity\":0.2}},\"type\":\"histogram\"}],\"scattergl\":[{\"type\":\"scattergl\",\"marker\":{\"colorbar\":{\"outlinewidth\":0,\"ticks\":\"\"}}}],\"scatter3d\":[{\"type\":\"scatter3d\",\"line\":{\"colorbar\":{\"outlinewidth\":0,\"ticks\":\"\"}},\"marker\":{\"colorbar\":{\"outlinewidth\":0,\"ticks\":\"\"}}}],\"scattermapbox\":[{\"type\":\"scattermapbox\",\"marker\":{\"colorbar\":{\"outlinewidth\":0,\"ticks\":\"\"}}}],\"scatterternary\":[{\"type\":\"scatterternary\",\"marker\":{\"colorbar\":{\"outlinewidth\":0,\"ticks\":\"\"}}}],\"scattercarpet\":[{\"type\":\"scattercarpet\",\"marker\":{\"colorbar\":{\"outlinewidth\":0,\"ticks\":\"\"}}}],\"carpet\":[{\"aaxis\":{\"endlinecolor\":\"#2a3f5f\",\"gridcolor\":\"white\",\"linecolor\":\"white\",\"minorgridcolor\":\"white\",\"startlinecolor\":\"#2a3f5f\"},\"baxis\":{\"endlinecolor\":\"#2a3f5f\",\"gridcolor\":\"white\",\"linecolor\":\"white\",\"minorgridcolor\":\"white\",\"startlinecolor\":\"#2a3f5f\"},\"type\":\"carpet\"}],\"table\":[{\"cells\":{\"fill\":{\"color\":\"#EBF0F8\"},\"line\":{\"color\":\"white\"}},\"header\":{\"fill\":{\"color\":\"#C8D4E3\"},\"line\":{\"color\":\"white\"}},\"type\":\"table\"}],\"barpolar\":[{\"marker\":{\"line\":{\"color\":\"#E5ECF6\",\"width\":0.5},\"pattern\":{\"fillmode\":\"overlay\",\"size\":10,\"solidity\":0.2}},\"type\":\"barpolar\"}],\"pie\":[{\"automargin\":true,\"type\":\"pie\"}]},\"layout\":{\"autotypenumbers\":\"strict\",\"colorway\":[\"#636efa\",\"#EF553B\",\"#00cc96\",\"#ab63fa\",\"#FFA15A\",\"#19d3f3\",\"#FF6692\",\"#B6E880\",\"#FF97FF\",\"#FECB52\"],\"font\":{\"color\":\"#2a3f5f\"},\"hovermode\":\"closest\",\"hoverlabel\":{\"align\":\"left\"},\"paper_bgcolor\":\"white\",\"plot_bgcolor\":\"#E5ECF6\",\"polar\":{\"bgcolor\":\"#E5ECF6\",\"angularaxis\":{\"gridcolor\":\"white\",\"linecolor\":\"white\",\"ticks\":\"\"},\"radialaxis\":{\"gridcolor\":\"white\",\"linecolor\":\"white\",\"ticks\":\"\"}},\"ternary\":{\"bgcolor\":\"#E5ECF6\",\"aaxis\":{\"gridcolor\":\"white\",\"linecolor\":\"white\",\"ticks\":\"\"},\"baxis\":{\"gridcolor\":\"white\",\"linecolor\":\"white\",\"ticks\":\"\"},\"caxis\":{\"gridcolor\":\"white\",\"linecolor\":\"white\",\"ticks\":\"\"}},\"coloraxis\":{\"colorbar\":{\"outlinewidth\":0,\"ticks\":\"\"}},\"colorscale\":{\"sequential\":[[0.0,\"#0d0887\"],[0.1111111111111111,\"#46039f\"],[0.2222222222222222,\"#7201a8\"],[0.3333333333333333,\"#9c179e\"],[0.4444444444444444,\"#bd3786\"],[0.5555555555555556,\"#d8576b\"],[0.6666666666666666,\"#ed7953\"],[0.7777777777777778,\"#fb9f3a\"],[0.8888888888888888,\"#fdca26\"],[1.0,\"#f0f921\"]],\"sequentialminus\":[[0.0,\"#0d0887\"],[0.1111111111111111,\"#46039f\"],[0.2222222222222222,\"#7201a8\"],[0.3333333333333333,\"#9c179e\"],[0.4444444444444444,\"#bd3786\"],[0.5555555555555556,\"#d8576b\"],[0.6666666666666666,\"#ed7953\"],[0.7777777777777778,\"#fb9f3a\"],[0.8888888888888888,\"#fdca26\"],[1.0,\"#f0f921\"]],\"diverging\":[[0,\"#8e0152\"],[0.1,\"#c51b7d\"],[0.2,\"#de77ae\"],[0.3,\"#f1b6da\"],[0.4,\"#fde0ef\"],[0.5,\"#f7f7f7\"],[0.6,\"#e6f5d0\"],[0.7,\"#b8e186\"],[0.8,\"#7fbc41\"],[0.9,\"#4d9221\"],[1,\"#276419\"]]},\"xaxis\":{\"gridcolor\":\"white\",\"linecolor\":\"white\",\"ticks\":\"\",\"title\":{\"standoff\":15},\"zerolinecolor\":\"white\",\"automargin\":true,\"zerolinewidth\":2},\"yaxis\":{\"gridcolor\":\"white\",\"linecolor\":\"white\",\"ticks\":\"\",\"title\":{\"standoff\":15},\"zerolinecolor\":\"white\",\"automargin\":true,\"zerolinewidth\":2},\"scene\":{\"xaxis\":{\"backgroundcolor\":\"#E5ECF6\",\"gridcolor\":\"white\",\"linecolor\":\"white\",\"showbackground\":true,\"ticks\":\"\",\"zerolinecolor\":\"white\",\"gridwidth\":2},\"yaxis\":{\"backgroundcolor\":\"#E5ECF6\",\"gridcolor\":\"white\",\"linecolor\":\"white\",\"showbackground\":true,\"ticks\":\"\",\"zerolinecolor\":\"white\",\"gridwidth\":2},\"zaxis\":{\"backgroundcolor\":\"#E5ECF6\",\"gridcolor\":\"white\",\"linecolor\":\"white\",\"showbackground\":true,\"ticks\":\"\",\"zerolinecolor\":\"white\",\"gridwidth\":2}},\"shapedefaults\":{\"line\":{\"color\":\"#2a3f5f\"}},\"annotationdefaults\":{\"arrowcolor\":\"#2a3f5f\",\"arrowhead\":0,\"arrowwidth\":1},\"geo\":{\"bgcolor\":\"white\",\"landcolor\":\"#E5ECF6\",\"subunitcolor\":\"white\",\"showland\":true,\"showlakes\":true,\"lakecolor\":\"white\"},\"title\":{\"x\":0.05},\"mapbox\":{\"style\":\"light\"}}},\"xaxis\":{\"anchor\":\"y\",\"domain\":[0.0,1.0],\"title\":{\"text\":\"Bangerness\"}},\"yaxis\":{\"anchor\":\"x\",\"domain\":[0.0,1.0],\"title\":{\"text\":\"Ambientness\"}},\"legend\":{\"tracegroupgap\":0},\"title\":{\"text\":\"Bangerness vs Ambientness with Linear Regression\"},\"width\":1000,\"height\":600},                        {\"responsive\": true}                    ).then(function(){\n",
       "                            \n",
       "var gd = document.getElementById('fe267062-5c35-4ab0-8cf4-69eedbca96d7');\n",
       "var x = new MutationObserver(function (mutations, observer) {{\n",
       "        var display = window.getComputedStyle(gd).display;\n",
       "        if (!display || display === 'none') {{\n",
       "            console.log([gd, 'removed!']);\n",
       "            Plotly.purge(gd);\n",
       "            observer.disconnect();\n",
       "        }}\n",
       "}});\n",
       "\n",
       "// Listen for the removal of the full notebook cells\n",
       "var notebookContainer = gd.closest('#notebook-container');\n",
       "if (notebookContainer) {{\n",
       "    x.observe(notebookContainer, {childList: true});\n",
       "}}\n",
       "\n",
       "// Listen for the clearing of the current output cell\n",
       "var outputEl = gd.closest('.output');\n",
       "if (outputEl) {{\n",
       "    x.observe(outputEl, {childList: true});\n",
       "}}\n",
       "\n",
       "                        })                };                });            </script>        </div>"
      ]
     },
     "metadata": {},
     "output_type": "display_data"
    }
   ],
   "source": [
    "# Prepare the data\n",
    "X = df_amb['Bangerness'].values.reshape(-1, 1)\n",
    "y = df_amb['Ambientness'].values\n",
    "\n",
    "# Fit the linear regression model\n",
    "model = LinearRegression()\n",
    "model.fit(X, y)\n",
    "\n",
    "# Predict and evaluate\n",
    "y_pred = model.predict(X)\n",
    "mse = mean_squared_error(y, y_pred)\n",
    "r2 = r2_score(y, y_pred)\n",
    "print(f\"Mean Squared Error: {mse}\")\n",
    "print(f\"R² Score: {r2}\")\n",
    "\n",
    "# Data for the plot\n",
    "df_plot = pd.DataFrame({\n",
    "    'Bangerness': df_amb['Bangerness'],\n",
    "    'Ambientness': df_amb['Ambientness'],\n",
    "    'Track Name': df_amb['Track Name'],\n",
    "    'Predicted Ambientness': y_pred\n",
    "})\n",
    "\n",
    "# Interactive plot\n",
    "import plotly.express as px\n",
    "\n",
    "fig = px.scatter(df_plot,\n",
    "                 x='Bangerness',\n",
    "                 y='Ambientness',\n",
    "                 hover_name='Track Name',\n",
    "                 labels={'Bangerness': 'Bangerness', 'Ambientness': 'Ambientness'},\n",
    "                 title='Bangerness vs Ambientness with Linear Regression')\n",
    "\n",
    "fig.add_scatter(x=df_plot['Bangerness'],\n",
    "                y=df_plot['Predicted Ambientness'],\n",
    "                mode='lines',\n",
    "                line=dict(color='red', width=2),\n",
    "                name='Regression Line')\n",
    "\n",
    "fig.update_layout(\n",
    "    width=1000, \n",
    "    height=600,\n",
    "    xaxis_title='Bangerness',\n",
    "    yaxis_title='Ambientness'\n",
    ")\n",
    "\n",
    "fig.show()"
   ]
  },
  {
   "cell_type": "markdown",
   "id": "aa05e6b2-a7ac-4c6d-947c-bd5a61ce631a",
   "metadata": {},
   "source": [
    "The linear regression analysis between Bangerness and Ambientness shows an R² score of 0.80, meaning there's a strong link between them. The Mean Squared Error of 0.013 shows that the model's predictions are quite accurate. This tells us that Bangerness does a good job of predicting Ambientness, and the model captures most of the variation in Ambientness based on Bangerness."
   ]
  },
  {
   "cell_type": "markdown",
   "id": "8ebeaeb2-3d77-4a0b-b405-a2a180083f2c",
   "metadata": {},
   "source": [
    "# Where Bangerness Meets Ambientness"
   ]
  },
  {
   "cell_type": "markdown",
   "id": "1858eba2-4d6e-4e6f-a8a6-257139351bb9",
   "metadata": {},
   "source": [
    "Finally, I couldn’t help but wonder what happens when Bangerness and Ambientness come together. I filtered the tracks to find those where the two scores are within 7% of each other. [Here is a playlist with tracks that hit this balance]():\n",
    "\n",
    "This final step shows tracks where Bangerness and Ambientness are closely aligned, and I find that the results really make sense."
   ]
  },
  {
   "cell_type": "code",
   "execution_count": 46,
   "id": "39eb24ef-7d65-44cc-b340-949fdfb4cf54",
   "metadata": {},
   "outputs": [
    {
     "data": {
      "text/html": [
       "<div>\n",
       "<style scoped>\n",
       "    .dataframe tbody tr th:only-of-type {\n",
       "        vertical-align: middle;\n",
       "    }\n",
       "\n",
       "    .dataframe tbody tr th {\n",
       "        vertical-align: top;\n",
       "    }\n",
       "\n",
       "    .dataframe thead th {\n",
       "        text-align: right;\n",
       "    }\n",
       "</style>\n",
       "<table border=\"1\" class=\"dataframe\">\n",
       "  <thead>\n",
       "    <tr style=\"text-align: right;\">\n",
       "      <th></th>\n",
       "      <th>Album Name</th>\n",
       "      <th>Track Name</th>\n",
       "      <th>Popularity</th>\n",
       "      <th>Energy</th>\n",
       "      <th>Danceability</th>\n",
       "      <th>Acousticness</th>\n",
       "      <th>Instrumentalness</th>\n",
       "      <th>Speechiness</th>\n",
       "      <th>Liveness</th>\n",
       "      <th>Valence</th>\n",
       "      <th>Bangerness</th>\n",
       "      <th>Ambientness</th>\n",
       "    </tr>\n",
       "  </thead>\n",
       "  <tbody>\n",
       "    <tr>\n",
       "      <th>111</th>\n",
       "      <td>Selected Ambient Works 85-92</td>\n",
       "      <td>Heliosphan</td>\n",
       "      <td>50</td>\n",
       "      <td>0.612</td>\n",
       "      <td>0.345</td>\n",
       "      <td>0.455000</td>\n",
       "      <td>0.956</td>\n",
       "      <td>0.0416</td>\n",
       "      <td>0.0854</td>\n",
       "      <td>0.1260</td>\n",
       "      <td>0.541024</td>\n",
       "      <td>0.592726</td>\n",
       "    </tr>\n",
       "    <tr>\n",
       "      <th>112</th>\n",
       "      <td>Selected Ambient Works 85-92</td>\n",
       "      <td>We Are the Music Makers</td>\n",
       "      <td>45</td>\n",
       "      <td>0.574</td>\n",
       "      <td>0.723</td>\n",
       "      <td>0.398000</td>\n",
       "      <td>0.942</td>\n",
       "      <td>0.0644</td>\n",
       "      <td>0.1350</td>\n",
       "      <td>0.5580</td>\n",
       "      <td>0.579056</td>\n",
       "      <td>0.590659</td>\n",
       "    </tr>\n",
       "    <tr>\n",
       "      <th>107</th>\n",
       "      <td>Selected Ambient Works 85-92</td>\n",
       "      <td>Pulsewidth</td>\n",
       "      <td>54</td>\n",
       "      <td>0.486</td>\n",
       "      <td>0.765</td>\n",
       "      <td>0.420000</td>\n",
       "      <td>0.876</td>\n",
       "      <td>0.0724</td>\n",
       "      <td>0.3320</td>\n",
       "      <td>0.3030</td>\n",
       "      <td>0.507184</td>\n",
       "      <td>0.576585</td>\n",
       "    </tr>\n",
       "    <tr>\n",
       "      <th>78</th>\n",
       "      <td>...I Care Because You Do</td>\n",
       "      <td>Alberto Balsalm</td>\n",
       "      <td>55</td>\n",
       "      <td>0.599</td>\n",
       "      <td>0.791</td>\n",
       "      <td>0.315000</td>\n",
       "      <td>0.928</td>\n",
       "      <td>0.1450</td>\n",
       "      <td>0.1110</td>\n",
       "      <td>0.5700</td>\n",
       "      <td>0.612349</td>\n",
       "      <td>0.545285</td>\n",
       "    </tr>\n",
       "    <tr>\n",
       "      <th>70</th>\n",
       "      <td>...I Care Because You Do</td>\n",
       "      <td>The Waxen Pith</td>\n",
       "      <td>33</td>\n",
       "      <td>0.423</td>\n",
       "      <td>0.541</td>\n",
       "      <td>0.077400</td>\n",
       "      <td>0.903</td>\n",
       "      <td>0.0316</td>\n",
       "      <td>0.1180</td>\n",
       "      <td>0.3720</td>\n",
       "      <td>0.479071</td>\n",
       "      <td>0.539695</td>\n",
       "    </tr>\n",
       "    <tr>\n",
       "      <th>24</th>\n",
       "      <td>Drukqs</td>\n",
       "      <td>Kladfvgbung Mischk</td>\n",
       "      <td>37</td>\n",
       "      <td>0.544</td>\n",
       "      <td>0.816</td>\n",
       "      <td>0.551000</td>\n",
       "      <td>0.741</td>\n",
       "      <td>0.1050</td>\n",
       "      <td>0.1080</td>\n",
       "      <td>0.1620</td>\n",
       "      <td>0.576695</td>\n",
       "      <td>0.520384</td>\n",
       "    </tr>\n",
       "    <tr>\n",
       "      <th>76</th>\n",
       "      <td>...I Care Because You Do</td>\n",
       "      <td>Wet Tip Hen Ax</td>\n",
       "      <td>28</td>\n",
       "      <td>0.416</td>\n",
       "      <td>0.677</td>\n",
       "      <td>0.103000</td>\n",
       "      <td>0.879</td>\n",
       "      <td>0.0323</td>\n",
       "      <td>0.1240</td>\n",
       "      <td>0.0919</td>\n",
       "      <td>0.569185</td>\n",
       "      <td>0.499606</td>\n",
       "    </tr>\n",
       "    <tr>\n",
       "      <th>33</th>\n",
       "      <td>Drukqs</td>\n",
       "      <td>Orban Eq Trx 4</td>\n",
       "      <td>32</td>\n",
       "      <td>0.275</td>\n",
       "      <td>0.776</td>\n",
       "      <td>0.000006</td>\n",
       "      <td>0.795</td>\n",
       "      <td>0.0584</td>\n",
       "      <td>0.1030</td>\n",
       "      <td>0.2690</td>\n",
       "      <td>0.516815</td>\n",
       "      <td>0.499323</td>\n",
       "    </tr>\n",
       "    <tr>\n",
       "      <th>58</th>\n",
       "      <td>Come To Daddy</td>\n",
       "      <td>IZ-US</td>\n",
       "      <td>52</td>\n",
       "      <td>0.459</td>\n",
       "      <td>0.581</td>\n",
       "      <td>0.039800</td>\n",
       "      <td>0.881</td>\n",
       "      <td>0.0314</td>\n",
       "      <td>0.1510</td>\n",
       "      <td>0.3160</td>\n",
       "      <td>0.527848</td>\n",
       "      <td>0.496309</td>\n",
       "    </tr>\n",
       "    <tr>\n",
       "      <th>92</th>\n",
       "      <td>Selected Ambient Works Volume II</td>\n",
       "      <td>#12</td>\n",
       "      <td>31</td>\n",
       "      <td>0.482</td>\n",
       "      <td>0.234</td>\n",
       "      <td>0.000279</td>\n",
       "      <td>0.850</td>\n",
       "      <td>0.1480</td>\n",
       "      <td>0.1690</td>\n",
       "      <td>0.1720</td>\n",
       "      <td>0.483278</td>\n",
       "      <td>0.483360</td>\n",
       "    </tr>\n",
       "  </tbody>\n",
       "</table>\n",
       "</div>"
      ],
      "text/plain": [
       "                           Album Name               Track Name  Popularity  \\\n",
       "111      Selected Ambient Works 85-92               Heliosphan          50   \n",
       "112      Selected Ambient Works 85-92  We Are the Music Makers          45   \n",
       "107      Selected Ambient Works 85-92               Pulsewidth          54   \n",
       "78           ...I Care Because You Do          Alberto Balsalm          55   \n",
       "70           ...I Care Because You Do           The Waxen Pith          33   \n",
       "24                             Drukqs       Kladfvgbung Mischk          37   \n",
       "76           ...I Care Because You Do           Wet Tip Hen Ax          28   \n",
       "33                             Drukqs           Orban Eq Trx 4          32   \n",
       "58                      Come To Daddy                    IZ-US          52   \n",
       "92   Selected Ambient Works Volume II                      #12          31   \n",
       "\n",
       "     Energy  Danceability  Acousticness  Instrumentalness  Speechiness  \\\n",
       "111   0.612         0.345      0.455000             0.956       0.0416   \n",
       "112   0.574         0.723      0.398000             0.942       0.0644   \n",
       "107   0.486         0.765      0.420000             0.876       0.0724   \n",
       "78    0.599         0.791      0.315000             0.928       0.1450   \n",
       "70    0.423         0.541      0.077400             0.903       0.0316   \n",
       "24    0.544         0.816      0.551000             0.741       0.1050   \n",
       "76    0.416         0.677      0.103000             0.879       0.0323   \n",
       "33    0.275         0.776      0.000006             0.795       0.0584   \n",
       "58    0.459         0.581      0.039800             0.881       0.0314   \n",
       "92    0.482         0.234      0.000279             0.850       0.1480   \n",
       "\n",
       "     Liveness  Valence  Bangerness  Ambientness  \n",
       "111    0.0854   0.1260    0.541024     0.592726  \n",
       "112    0.1350   0.5580    0.579056     0.590659  \n",
       "107    0.3320   0.3030    0.507184     0.576585  \n",
       "78     0.1110   0.5700    0.612349     0.545285  \n",
       "70     0.1180   0.3720    0.479071     0.539695  \n",
       "24     0.1080   0.1620    0.576695     0.520384  \n",
       "76     0.1240   0.0919    0.569185     0.499606  \n",
       "33     0.1030   0.2690    0.516815     0.499323  \n",
       "58     0.1510   0.3160    0.527848     0.496309  \n",
       "92     0.1690   0.1720    0.483278     0.483360  "
      ]
     },
     "execution_count": 46,
     "metadata": {},
     "output_type": "execute_result"
    }
   ],
   "source": [
    "df_fin = df_amb[['Album Name', 'Track Name', 'Popularity', 'Energy', 'Danceability', 'Acousticness', 'Instrumentalness', \n",
    "                 'Speechiness', 'Liveness', 'Valence', 'Bangerness', 'Ambientness']]\n",
    "\n",
    "# Look for tracks with 7% or less difference between Bangerness and Ambientness\n",
    "df_fin_filtered = df_fin[\n",
    "    (df_fin['Bangerness'] - df_fin['Ambientness']).abs() < 0.07\n",
    "]\n",
    "\n",
    "df_fin_filtered"
   ]
  }
 ],
 "metadata": {
  "kernelspec": {
   "display_name": "Python 3 (ipykernel)",
   "language": "python",
   "name": "python3"
  },
  "language_info": {
   "codemirror_mode": {
    "name": "ipython",
    "version": 3
   },
   "file_extension": ".py",
   "mimetype": "text/x-python",
   "name": "python",
   "nbconvert_exporter": "python",
   "pygments_lexer": "ipython3",
   "version": "3.12.3"
  }
 },
 "nbformat": 4,
 "nbformat_minor": 5
}
